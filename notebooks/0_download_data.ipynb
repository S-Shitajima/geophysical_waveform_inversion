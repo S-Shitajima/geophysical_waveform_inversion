{
 "cells": [
  {
   "cell_type": "code",
   "execution_count": 1,
   "id": "93be0661",
   "metadata": {},
   "outputs": [],
   "source": [
    "from pathlib import Path\n",
    "import random\n",
    "\n",
    "from huggingface_hub import list_repo_files, hf_hub_download\n",
    "import numpy as np\n",
    "from natsort import natsorted\n",
    "import pandas as pd\n",
    "from tqdm.auto import tqdm"
   ]
  },
  {
   "cell_type": "markdown",
   "id": "f751cb01",
   "metadata": {},
   "source": [
    "### Fix Seeds"
   ]
  },
  {
   "cell_type": "code",
   "execution_count": 2,
   "id": "b03cda8a",
   "metadata": {},
   "outputs": [],
   "source": [
    "SEED = 42\n",
    "\n",
    "random.seed(SEED)\n",
    "np.random.seed(SEED)"
   ]
  },
  {
   "cell_type": "markdown",
   "id": "3c943e96",
   "metadata": {},
   "source": [
    "### Load File Paths"
   ]
  },
  {
   "cell_type": "code",
   "execution_count": 3,
   "id": "275de3d6",
   "metadata": {},
   "outputs": [
    {
     "name": "stdout",
     "output_type": "stream",
     "text": [
      "['CurveFault_A/seis2_1_0.npy', 'CurveFault_A/seis2_1_1.npy', 'CurveFault_A/seis2_1_10.npy', 'CurveFault_A/seis2_1_11.npy', 'CurveFault_A/seis2_1_12.npy', 'CurveFault_A/seis2_1_13.npy', 'CurveFault_A/seis2_1_14.npy', 'CurveFault_A/seis2_1_15.npy', 'CurveFault_A/seis2_1_16.npy', 'CurveFault_A/seis2_1_17.npy', 'CurveFault_A/seis2_1_18.npy', 'CurveFault_A/seis2_1_19.npy', 'CurveFault_A/seis2_1_2.npy', 'CurveFault_A/seis2_1_20.npy', 'CurveFault_A/seis2_1_21.npy', 'CurveFault_A/seis2_1_22.npy', 'CurveFault_A/seis2_1_23.npy', 'CurveFault_A/seis2_1_24.npy', 'CurveFault_A/seis2_1_25.npy', 'CurveFault_A/seis2_1_26.npy', 'CurveFault_A/seis2_1_27.npy', 'CurveFault_A/seis2_1_28.npy', 'CurveFault_A/seis2_1_29.npy', 'CurveFault_A/seis2_1_3.npy', 'CurveFault_A/seis2_1_30.npy', 'CurveFault_A/seis2_1_31.npy', 'CurveFault_A/seis2_1_32.npy', 'CurveFault_A/seis2_1_33.npy', 'CurveFault_A/seis2_1_34.npy', 'CurveFault_A/seis2_1_35.npy', 'CurveFault_A/seis2_1_4.npy', 'CurveFault_A/seis2_1_5.npy', 'CurveFault_A/seis2_1_6.npy', 'CurveFault_A/seis2_1_7.npy', 'CurveFault_A/seis2_1_8.npy', 'CurveFault_A/seis2_1_9.npy', 'CurveFault_A/seis3_1_0.npy', 'CurveFault_A/seis3_1_1.npy', 'CurveFault_A/seis3_1_10.npy', 'CurveFault_A/seis3_1_11.npy', 'CurveFault_A/seis3_1_12.npy', 'CurveFault_A/seis3_1_13.npy', 'CurveFault_A/seis3_1_14.npy', 'CurveFault_A/seis3_1_15.npy', 'CurveFault_A/seis3_1_16.npy', 'CurveFault_A/seis3_1_17.npy', 'CurveFault_A/seis3_1_18.npy', 'CurveFault_A/seis3_1_19.npy', 'CurveFault_A/seis3_1_2.npy', 'CurveFault_A/seis3_1_20.npy', 'CurveFault_A/seis3_1_21.npy', 'CurveFault_A/seis3_1_22.npy', 'CurveFault_A/seis3_1_23.npy', 'CurveFault_A/seis3_1_24.npy', 'CurveFault_A/seis3_1_25.npy', 'CurveFault_A/seis3_1_26.npy', 'CurveFault_A/seis3_1_27.npy', 'CurveFault_A/seis3_1_28.npy', 'CurveFault_A/seis3_1_29.npy', 'CurveFault_A/seis3_1_3.npy', 'CurveFault_A/seis3_1_30.npy', 'CurveFault_A/seis3_1_31.npy', 'CurveFault_A/seis3_1_32.npy', 'CurveFault_A/seis3_1_33.npy', 'CurveFault_A/seis3_1_34.npy', 'CurveFault_A/seis3_1_35.npy', 'CurveFault_A/seis3_1_4.npy', 'CurveFault_A/seis3_1_5.npy', 'CurveFault_A/seis3_1_6.npy', 'CurveFault_A/seis3_1_7.npy', 'CurveFault_A/seis3_1_8.npy', 'CurveFault_A/seis3_1_9.npy', 'CurveFault_A/seis4_1_0.npy', 'CurveFault_A/seis4_1_1.npy', 'CurveFault_A/seis4_1_10.npy', 'CurveFault_A/seis4_1_11.npy', 'CurveFault_A/seis4_1_12.npy', 'CurveFault_A/seis4_1_13.npy', 'CurveFault_A/seis4_1_14.npy', 'CurveFault_A/seis4_1_15.npy', 'CurveFault_A/seis4_1_16.npy', 'CurveFault_A/seis4_1_17.npy', 'CurveFault_A/seis4_1_18.npy', 'CurveFault_A/seis4_1_19.npy', 'CurveFault_A/seis4_1_2.npy', 'CurveFault_A/seis4_1_20.npy', 'CurveFault_A/seis4_1_21.npy', 'CurveFault_A/seis4_1_22.npy', 'CurveFault_A/seis4_1_23.npy', 'CurveFault_A/seis4_1_24.npy', 'CurveFault_A/seis4_1_25.npy', 'CurveFault_A/seis4_1_26.npy', 'CurveFault_A/seis4_1_27.npy', 'CurveFault_A/seis4_1_28.npy', 'CurveFault_A/seis4_1_29.npy', 'CurveFault_A/seis4_1_3.npy', 'CurveFault_A/seis4_1_30.npy', 'CurveFault_A/seis4_1_31.npy', 'CurveFault_A/seis4_1_32.npy', 'CurveFault_A/seis4_1_33.npy', 'CurveFault_A/seis4_1_34.npy', 'CurveFault_A/seis4_1_35.npy', 'CurveFault_A/seis4_1_4.npy', 'CurveFault_A/seis4_1_5.npy', 'CurveFault_A/seis4_1_6.npy', 'CurveFault_A/seis4_1_7.npy', 'CurveFault_A/seis4_1_8.npy', 'CurveFault_A/seis4_1_9.npy', 'CurveFault_A/vel2_1_0.npy', 'CurveFault_A/vel2_1_1.npy', 'CurveFault_A/vel2_1_10.npy', 'CurveFault_A/vel2_1_11.npy', 'CurveFault_A/vel2_1_12.npy', 'CurveFault_A/vel2_1_13.npy', 'CurveFault_A/vel2_1_14.npy', 'CurveFault_A/vel2_1_15.npy', 'CurveFault_A/vel2_1_16.npy', 'CurveFault_A/vel2_1_17.npy', 'CurveFault_A/vel2_1_18.npy', 'CurveFault_A/vel2_1_19.npy', 'CurveFault_A/vel2_1_2.npy', 'CurveFault_A/vel2_1_20.npy', 'CurveFault_A/vel2_1_21.npy', 'CurveFault_A/vel2_1_22.npy', 'CurveFault_A/vel2_1_23.npy', 'CurveFault_A/vel2_1_24.npy', 'CurveFault_A/vel2_1_25.npy', 'CurveFault_A/vel2_1_26.npy', 'CurveFault_A/vel2_1_27.npy', 'CurveFault_A/vel2_1_28.npy', 'CurveFault_A/vel2_1_29.npy', 'CurveFault_A/vel2_1_3.npy', 'CurveFault_A/vel2_1_30.npy', 'CurveFault_A/vel2_1_31.npy', 'CurveFault_A/vel2_1_32.npy', 'CurveFault_A/vel2_1_33.npy', 'CurveFault_A/vel2_1_34.npy', 'CurveFault_A/vel2_1_35.npy', 'CurveFault_A/vel2_1_4.npy', 'CurveFault_A/vel2_1_5.npy', 'CurveFault_A/vel2_1_6.npy', 'CurveFault_A/vel2_1_7.npy', 'CurveFault_A/vel2_1_8.npy', 'CurveFault_A/vel2_1_9.npy', 'CurveFault_A/vel3_1_0.npy', 'CurveFault_A/vel3_1_1.npy', 'CurveFault_A/vel3_1_10.npy', 'CurveFault_A/vel3_1_11.npy', 'CurveFault_A/vel3_1_12.npy', 'CurveFault_A/vel3_1_13.npy', 'CurveFault_A/vel3_1_14.npy', 'CurveFault_A/vel3_1_15.npy', 'CurveFault_A/vel3_1_16.npy', 'CurveFault_A/vel3_1_17.npy', 'CurveFault_A/vel3_1_18.npy', 'CurveFault_A/vel3_1_19.npy', 'CurveFault_A/vel3_1_2.npy', 'CurveFault_A/vel3_1_20.npy', 'CurveFault_A/vel3_1_21.npy', 'CurveFault_A/vel3_1_22.npy', 'CurveFault_A/vel3_1_23.npy', 'CurveFault_A/vel3_1_24.npy', 'CurveFault_A/vel3_1_25.npy', 'CurveFault_A/vel3_1_26.npy', 'CurveFault_A/vel3_1_27.npy', 'CurveFault_A/vel3_1_28.npy', 'CurveFault_A/vel3_1_29.npy', 'CurveFault_A/vel3_1_3.npy', 'CurveFault_A/vel3_1_30.npy', 'CurveFault_A/vel3_1_31.npy', 'CurveFault_A/vel3_1_32.npy', 'CurveFault_A/vel3_1_33.npy', 'CurveFault_A/vel3_1_34.npy', 'CurveFault_A/vel3_1_35.npy', 'CurveFault_A/vel3_1_4.npy', 'CurveFault_A/vel3_1_5.npy', 'CurveFault_A/vel3_1_6.npy', 'CurveFault_A/vel3_1_7.npy', 'CurveFault_A/vel3_1_8.npy', 'CurveFault_A/vel3_1_9.npy', 'CurveFault_A/vel4_1_0.npy', 'CurveFault_A/vel4_1_1.npy', 'CurveFault_A/vel4_1_10.npy', 'CurveFault_A/vel4_1_11.npy', 'CurveFault_A/vel4_1_12.npy', 'CurveFault_A/vel4_1_13.npy', 'CurveFault_A/vel4_1_14.npy', 'CurveFault_A/vel4_1_15.npy', 'CurveFault_A/vel4_1_16.npy', 'CurveFault_A/vel4_1_17.npy', 'CurveFault_A/vel4_1_18.npy', 'CurveFault_A/vel4_1_19.npy', 'CurveFault_A/vel4_1_2.npy', 'CurveFault_A/vel4_1_20.npy', 'CurveFault_A/vel4_1_21.npy', 'CurveFault_A/vel4_1_22.npy', 'CurveFault_A/vel4_1_23.npy', 'CurveFault_A/vel4_1_24.npy', 'CurveFault_A/vel4_1_25.npy', 'CurveFault_A/vel4_1_26.npy', 'CurveFault_A/vel4_1_27.npy', 'CurveFault_A/vel4_1_28.npy', 'CurveFault_A/vel4_1_29.npy', 'CurveFault_A/vel4_1_3.npy', 'CurveFault_A/vel4_1_30.npy', 'CurveFault_A/vel4_1_31.npy', 'CurveFault_A/vel4_1_32.npy', 'CurveFault_A/vel4_1_33.npy', 'CurveFault_A/vel4_1_34.npy', 'CurveFault_A/vel4_1_35.npy', 'CurveFault_A/vel4_1_4.npy', 'CurveFault_A/vel4_1_5.npy', 'CurveFault_A/vel4_1_6.npy', 'CurveFault_A/vel4_1_7.npy', 'CurveFault_A/vel4_1_8.npy', 'CurveFault_A/vel4_1_9.npy', 'CurveFault_B/seis6_1_0.npy', 'CurveFault_B/seis6_1_1.npy', 'CurveFault_B/seis6_1_10.npy', 'CurveFault_B/seis6_1_11.npy', 'CurveFault_B/seis6_1_12.npy', 'CurveFault_B/seis6_1_13.npy', 'CurveFault_B/seis6_1_14.npy', 'CurveFault_B/seis6_1_15.npy', 'CurveFault_B/seis6_1_16.npy', 'CurveFault_B/seis6_1_17.npy', 'CurveFault_B/seis6_1_18.npy', 'CurveFault_B/seis6_1_19.npy', 'CurveFault_B/seis6_1_2.npy', 'CurveFault_B/seis6_1_20.npy', 'CurveFault_B/seis6_1_21.npy', 'CurveFault_B/seis6_1_22.npy', 'CurveFault_B/seis6_1_23.npy', 'CurveFault_B/seis6_1_24.npy', 'CurveFault_B/seis6_1_25.npy', 'CurveFault_B/seis6_1_26.npy', 'CurveFault_B/seis6_1_27.npy', 'CurveFault_B/seis6_1_28.npy', 'CurveFault_B/seis6_1_29.npy', 'CurveFault_B/seis6_1_3.npy', 'CurveFault_B/seis6_1_30.npy', 'CurveFault_B/seis6_1_31.npy', 'CurveFault_B/seis6_1_32.npy', 'CurveFault_B/seis6_1_33.npy', 'CurveFault_B/seis6_1_34.npy', 'CurveFault_B/seis6_1_35.npy', 'CurveFault_B/seis6_1_4.npy', 'CurveFault_B/seis6_1_5.npy', 'CurveFault_B/seis6_1_6.npy', 'CurveFault_B/seis6_1_7.npy', 'CurveFault_B/seis6_1_8.npy', 'CurveFault_B/seis6_1_9.npy', 'CurveFault_B/seis7_1_0.npy', 'CurveFault_B/seis7_1_1.npy', 'CurveFault_B/seis7_1_10.npy', 'CurveFault_B/seis7_1_11.npy', 'CurveFault_B/seis7_1_12.npy', 'CurveFault_B/seis7_1_13.npy', 'CurveFault_B/seis7_1_14.npy', 'CurveFault_B/seis7_1_15.npy', 'CurveFault_B/seis7_1_16.npy', 'CurveFault_B/seis7_1_17.npy', 'CurveFault_B/seis7_1_18.npy', 'CurveFault_B/seis7_1_19.npy', 'CurveFault_B/seis7_1_2.npy', 'CurveFault_B/seis7_1_20.npy', 'CurveFault_B/seis7_1_21.npy', 'CurveFault_B/seis7_1_22.npy', 'CurveFault_B/seis7_1_23.npy', 'CurveFault_B/seis7_1_24.npy', 'CurveFault_B/seis7_1_25.npy', 'CurveFault_B/seis7_1_26.npy', 'CurveFault_B/seis7_1_27.npy', 'CurveFault_B/seis7_1_28.npy', 'CurveFault_B/seis7_1_29.npy', 'CurveFault_B/seis7_1_3.npy', 'CurveFault_B/seis7_1_30.npy', 'CurveFault_B/seis7_1_31.npy', 'CurveFault_B/seis7_1_32.npy', 'CurveFault_B/seis7_1_33.npy', 'CurveFault_B/seis7_1_34.npy', 'CurveFault_B/seis7_1_35.npy', 'CurveFault_B/seis7_1_4.npy', 'CurveFault_B/seis7_1_5.npy', 'CurveFault_B/seis7_1_6.npy', 'CurveFault_B/seis7_1_7.npy', 'CurveFault_B/seis7_1_8.npy', 'CurveFault_B/seis7_1_9.npy', 'CurveFault_B/seis8_1_0.npy', 'CurveFault_B/seis8_1_1.npy', 'CurveFault_B/seis8_1_10.npy', 'CurveFault_B/seis8_1_11.npy', 'CurveFault_B/seis8_1_12.npy', 'CurveFault_B/seis8_1_13.npy', 'CurveFault_B/seis8_1_14.npy', 'CurveFault_B/seis8_1_15.npy', 'CurveFault_B/seis8_1_16.npy', 'CurveFault_B/seis8_1_17.npy', 'CurveFault_B/seis8_1_18.npy', 'CurveFault_B/seis8_1_19.npy', 'CurveFault_B/seis8_1_2.npy', 'CurveFault_B/seis8_1_20.npy', 'CurveFault_B/seis8_1_21.npy', 'CurveFault_B/seis8_1_22.npy', 'CurveFault_B/seis8_1_23.npy', 'CurveFault_B/seis8_1_24.npy', 'CurveFault_B/seis8_1_25.npy', 'CurveFault_B/seis8_1_26.npy', 'CurveFault_B/seis8_1_27.npy', 'CurveFault_B/seis8_1_28.npy', 'CurveFault_B/seis8_1_29.npy', 'CurveFault_B/seis8_1_3.npy', 'CurveFault_B/seis8_1_30.npy', 'CurveFault_B/seis8_1_31.npy', 'CurveFault_B/seis8_1_32.npy', 'CurveFault_B/seis8_1_33.npy', 'CurveFault_B/seis8_1_34.npy', 'CurveFault_B/seis8_1_35.npy', 'CurveFault_B/seis8_1_4.npy', 'CurveFault_B/seis8_1_5.npy', 'CurveFault_B/seis8_1_6.npy', 'CurveFault_B/seis8_1_7.npy', 'CurveFault_B/seis8_1_8.npy', 'CurveFault_B/seis8_1_9.npy', 'CurveFault_B/vel6_1_0.npy', 'CurveFault_B/vel6_1_1.npy', 'CurveFault_B/vel6_1_10.npy', 'CurveFault_B/vel6_1_11.npy', 'CurveFault_B/vel6_1_12.npy', 'CurveFault_B/vel6_1_13.npy', 'CurveFault_B/vel6_1_14.npy', 'CurveFault_B/vel6_1_15.npy', 'CurveFault_B/vel6_1_16.npy', 'CurveFault_B/vel6_1_17.npy', 'CurveFault_B/vel6_1_18.npy', 'CurveFault_B/vel6_1_19.npy', 'CurveFault_B/vel6_1_2.npy', 'CurveFault_B/vel6_1_20.npy', 'CurveFault_B/vel6_1_21.npy', 'CurveFault_B/vel6_1_22.npy', 'CurveFault_B/vel6_1_23.npy', 'CurveFault_B/vel6_1_24.npy', 'CurveFault_B/vel6_1_25.npy', 'CurveFault_B/vel6_1_26.npy', 'CurveFault_B/vel6_1_27.npy', 'CurveFault_B/vel6_1_28.npy', 'CurveFault_B/vel6_1_29.npy', 'CurveFault_B/vel6_1_3.npy', 'CurveFault_B/vel6_1_30.npy', 'CurveFault_B/vel6_1_31.npy', 'CurveFault_B/vel6_1_32.npy', 'CurveFault_B/vel6_1_33.npy', 'CurveFault_B/vel6_1_34.npy', 'CurveFault_B/vel6_1_35.npy', 'CurveFault_B/vel6_1_4.npy', 'CurveFault_B/vel6_1_5.npy', 'CurveFault_B/vel6_1_6.npy', 'CurveFault_B/vel6_1_7.npy', 'CurveFault_B/vel6_1_8.npy', 'CurveFault_B/vel6_1_9.npy', 'CurveFault_B/vel7_1_0.npy', 'CurveFault_B/vel7_1_1.npy', 'CurveFault_B/vel7_1_10.npy', 'CurveFault_B/vel7_1_11.npy', 'CurveFault_B/vel7_1_12.npy', 'CurveFault_B/vel7_1_13.npy', 'CurveFault_B/vel7_1_14.npy', 'CurveFault_B/vel7_1_15.npy', 'CurveFault_B/vel7_1_16.npy', 'CurveFault_B/vel7_1_17.npy', 'CurveFault_B/vel7_1_18.npy', 'CurveFault_B/vel7_1_19.npy', 'CurveFault_B/vel7_1_2.npy', 'CurveFault_B/vel7_1_20.npy', 'CurveFault_B/vel7_1_21.npy', 'CurveFault_B/vel7_1_22.npy', 'CurveFault_B/vel7_1_23.npy', 'CurveFault_B/vel7_1_24.npy', 'CurveFault_B/vel7_1_25.npy', 'CurveFault_B/vel7_1_26.npy', 'CurveFault_B/vel7_1_27.npy', 'CurveFault_B/vel7_1_28.npy', 'CurveFault_B/vel7_1_29.npy', 'CurveFault_B/vel7_1_3.npy', 'CurveFault_B/vel7_1_30.npy', 'CurveFault_B/vel7_1_31.npy', 'CurveFault_B/vel7_1_32.npy', 'CurveFault_B/vel7_1_33.npy', 'CurveFault_B/vel7_1_34.npy', 'CurveFault_B/vel7_1_35.npy', 'CurveFault_B/vel7_1_4.npy', 'CurveFault_B/vel7_1_5.npy', 'CurveFault_B/vel7_1_6.npy', 'CurveFault_B/vel7_1_7.npy', 'CurveFault_B/vel7_1_8.npy', 'CurveFault_B/vel7_1_9.npy', 'CurveFault_B/vel8_1_0.npy', 'CurveFault_B/vel8_1_1.npy', 'CurveFault_B/vel8_1_10.npy', 'CurveFault_B/vel8_1_11.npy', 'CurveFault_B/vel8_1_12.npy', 'CurveFault_B/vel8_1_13.npy', 'CurveFault_B/vel8_1_14.npy', 'CurveFault_B/vel8_1_15.npy', 'CurveFault_B/vel8_1_16.npy', 'CurveFault_B/vel8_1_17.npy', 'CurveFault_B/vel8_1_18.npy', 'CurveFault_B/vel8_1_19.npy', 'CurveFault_B/vel8_1_2.npy', 'CurveFault_B/vel8_1_20.npy', 'CurveFault_B/vel8_1_21.npy', 'CurveFault_B/vel8_1_22.npy', 'CurveFault_B/vel8_1_23.npy', 'CurveFault_B/vel8_1_24.npy', 'CurveFault_B/vel8_1_25.npy', 'CurveFault_B/vel8_1_26.npy', 'CurveFault_B/vel8_1_27.npy', 'CurveFault_B/vel8_1_28.npy', 'CurveFault_B/vel8_1_29.npy', 'CurveFault_B/vel8_1_3.npy', 'CurveFault_B/vel8_1_30.npy', 'CurveFault_B/vel8_1_31.npy', 'CurveFault_B/vel8_1_32.npy', 'CurveFault_B/vel8_1_33.npy', 'CurveFault_B/vel8_1_34.npy', 'CurveFault_B/vel8_1_35.npy', 'CurveFault_B/vel8_1_4.npy', 'CurveFault_B/vel8_1_5.npy', 'CurveFault_B/vel8_1_6.npy', 'CurveFault_B/vel8_1_7.npy', 'CurveFault_B/vel8_1_8.npy', 'CurveFault_B/vel8_1_9.npy', 'CurveVel_A/data/data1.npy', 'CurveVel_A/data/data10.npy', 'CurveVel_A/data/data11.npy', 'CurveVel_A/data/data12.npy', 'CurveVel_A/data/data13.npy', 'CurveVel_A/data/data14.npy', 'CurveVel_A/data/data15.npy', 'CurveVel_A/data/data16.npy', 'CurveVel_A/data/data17.npy', 'CurveVel_A/data/data18.npy', 'CurveVel_A/data/data19.npy', 'CurveVel_A/data/data2.npy', 'CurveVel_A/data/data20.npy', 'CurveVel_A/data/data21.npy', 'CurveVel_A/data/data22.npy', 'CurveVel_A/data/data23.npy', 'CurveVel_A/data/data24.npy', 'CurveVel_A/data/data25.npy', 'CurveVel_A/data/data26.npy', 'CurveVel_A/data/data27.npy', 'CurveVel_A/data/data28.npy', 'CurveVel_A/data/data29.npy', 'CurveVel_A/data/data3.npy', 'CurveVel_A/data/data30.npy', 'CurveVel_A/data/data31.npy', 'CurveVel_A/data/data32.npy', 'CurveVel_A/data/data33.npy', 'CurveVel_A/data/data34.npy', 'CurveVel_A/data/data35.npy', 'CurveVel_A/data/data36.npy', 'CurveVel_A/data/data37.npy', 'CurveVel_A/data/data38.npy', 'CurveVel_A/data/data39.npy', 'CurveVel_A/data/data4.npy', 'CurveVel_A/data/data40.npy', 'CurveVel_A/data/data41.npy', 'CurveVel_A/data/data42.npy', 'CurveVel_A/data/data43.npy', 'CurveVel_A/data/data44.npy', 'CurveVel_A/data/data45.npy', 'CurveVel_A/data/data46.npy', 'CurveVel_A/data/data47.npy', 'CurveVel_A/data/data48.npy', 'CurveVel_A/data/data49.npy', 'CurveVel_A/data/data5.npy', 'CurveVel_A/data/data50.npy', 'CurveVel_A/data/data51.npy', 'CurveVel_A/data/data52.npy', 'CurveVel_A/data/data53.npy', 'CurveVel_A/data/data54.npy', 'CurveVel_A/data/data55.npy', 'CurveVel_A/data/data56.npy', 'CurveVel_A/data/data57.npy', 'CurveVel_A/data/data58.npy', 'CurveVel_A/data/data59.npy', 'CurveVel_A/data/data6.npy', 'CurveVel_A/data/data60.npy', 'CurveVel_A/data/data7.npy', 'CurveVel_A/data/data8.npy', 'CurveVel_A/data/data9.npy', 'CurveVel_A/model/model1.npy', 'CurveVel_A/model/model10.npy', 'CurveVel_A/model/model11.npy', 'CurveVel_A/model/model12.npy', 'CurveVel_A/model/model13.npy', 'CurveVel_A/model/model14.npy', 'CurveVel_A/model/model15.npy', 'CurveVel_A/model/model16.npy', 'CurveVel_A/model/model17.npy', 'CurveVel_A/model/model18.npy', 'CurveVel_A/model/model19.npy', 'CurveVel_A/model/model2.npy', 'CurveVel_A/model/model20.npy', 'CurveVel_A/model/model21.npy', 'CurveVel_A/model/model22.npy', 'CurveVel_A/model/model23.npy', 'CurveVel_A/model/model24.npy', 'CurveVel_A/model/model25.npy', 'CurveVel_A/model/model26.npy', 'CurveVel_A/model/model27.npy', 'CurveVel_A/model/model28.npy', 'CurveVel_A/model/model29.npy', 'CurveVel_A/model/model3.npy', 'CurveVel_A/model/model30.npy', 'CurveVel_A/model/model31.npy', 'CurveVel_A/model/model32.npy', 'CurveVel_A/model/model33.npy', 'CurveVel_A/model/model34.npy', 'CurveVel_A/model/model35.npy', 'CurveVel_A/model/model36.npy', 'CurveVel_A/model/model37.npy', 'CurveVel_A/model/model38.npy', 'CurveVel_A/model/model39.npy', 'CurveVel_A/model/model4.npy', 'CurveVel_A/model/model40.npy', 'CurveVel_A/model/model41.npy', 'CurveVel_A/model/model42.npy', 'CurveVel_A/model/model43.npy', 'CurveVel_A/model/model44.npy', 'CurveVel_A/model/model45.npy', 'CurveVel_A/model/model46.npy', 'CurveVel_A/model/model47.npy', 'CurveVel_A/model/model48.npy', 'CurveVel_A/model/model49.npy', 'CurveVel_A/model/model5.npy', 'CurveVel_A/model/model50.npy', 'CurveVel_A/model/model51.npy', 'CurveVel_A/model/model52.npy', 'CurveVel_A/model/model53.npy', 'CurveVel_A/model/model54.npy', 'CurveVel_A/model/model55.npy', 'CurveVel_A/model/model56.npy', 'CurveVel_A/model/model57.npy', 'CurveVel_A/model/model58.npy', 'CurveVel_A/model/model59.npy', 'CurveVel_A/model/model6.npy', 'CurveVel_A/model/model60.npy', 'CurveVel_A/model/model7.npy', 'CurveVel_A/model/model8.npy', 'CurveVel_A/model/model9.npy', 'CurveVel_B/data/data1.npy', 'CurveVel_B/data/data10.npy', 'CurveVel_B/data/data11.npy', 'CurveVel_B/data/data12.npy', 'CurveVel_B/data/data13.npy', 'CurveVel_B/data/data14.npy', 'CurveVel_B/data/data15.npy', 'CurveVel_B/data/data16.npy', 'CurveVel_B/data/data17.npy', 'CurveVel_B/data/data18.npy', 'CurveVel_B/data/data19.npy', 'CurveVel_B/data/data2.npy', 'CurveVel_B/data/data20.npy', 'CurveVel_B/data/data21.npy', 'CurveVel_B/data/data22.npy', 'CurveVel_B/data/data23.npy', 'CurveVel_B/data/data24.npy', 'CurveVel_B/data/data25.npy', 'CurveVel_B/data/data26.npy', 'CurveVel_B/data/data27.npy', 'CurveVel_B/data/data28.npy', 'CurveVel_B/data/data29.npy', 'CurveVel_B/data/data3.npy', 'CurveVel_B/data/data30.npy', 'CurveVel_B/data/data31.npy', 'CurveVel_B/data/data32.npy', 'CurveVel_B/data/data33.npy', 'CurveVel_B/data/data34.npy', 'CurveVel_B/data/data35.npy', 'CurveVel_B/data/data36.npy', 'CurveVel_B/data/data37.npy', 'CurveVel_B/data/data38.npy', 'CurveVel_B/data/data39.npy', 'CurveVel_B/data/data4.npy', 'CurveVel_B/data/data40.npy', 'CurveVel_B/data/data41.npy', 'CurveVel_B/data/data42.npy', 'CurveVel_B/data/data43.npy', 'CurveVel_B/data/data44.npy', 'CurveVel_B/data/data45.npy', 'CurveVel_B/data/data46.npy', 'CurveVel_B/data/data47.npy', 'CurveVel_B/data/data48.npy', 'CurveVel_B/data/data49.npy', 'CurveVel_B/data/data5.npy', 'CurveVel_B/data/data50.npy', 'CurveVel_B/data/data51.npy', 'CurveVel_B/data/data52.npy', 'CurveVel_B/data/data53.npy', 'CurveVel_B/data/data54.npy', 'CurveVel_B/data/data55.npy', 'CurveVel_B/data/data56.npy', 'CurveVel_B/data/data57.npy', 'CurveVel_B/data/data58.npy', 'CurveVel_B/data/data59.npy', 'CurveVel_B/data/data6.npy', 'CurveVel_B/data/data60.npy', 'CurveVel_B/data/data7.npy', 'CurveVel_B/data/data8.npy', 'CurveVel_B/data/data9.npy', 'CurveVel_B/model/model1.npy', 'CurveVel_B/model/model10.npy', 'CurveVel_B/model/model11.npy', 'CurveVel_B/model/model12.npy', 'CurveVel_B/model/model13.npy', 'CurveVel_B/model/model14.npy', 'CurveVel_B/model/model15.npy', 'CurveVel_B/model/model16.npy', 'CurveVel_B/model/model17.npy', 'CurveVel_B/model/model18.npy', 'CurveVel_B/model/model19.npy', 'CurveVel_B/model/model2.npy', 'CurveVel_B/model/model20.npy', 'CurveVel_B/model/model21.npy', 'CurveVel_B/model/model22.npy', 'CurveVel_B/model/model23.npy', 'CurveVel_B/model/model24.npy', 'CurveVel_B/model/model25.npy', 'CurveVel_B/model/model26.npy', 'CurveVel_B/model/model27.npy', 'CurveVel_B/model/model28.npy', 'CurveVel_B/model/model29.npy', 'CurveVel_B/model/model3.npy', 'CurveVel_B/model/model30.npy', 'CurveVel_B/model/model31.npy', 'CurveVel_B/model/model32.npy', 'CurveVel_B/model/model33.npy', 'CurveVel_B/model/model34.npy', 'CurveVel_B/model/model35.npy', 'CurveVel_B/model/model36.npy', 'CurveVel_B/model/model37.npy', 'CurveVel_B/model/model38.npy', 'CurveVel_B/model/model39.npy', 'CurveVel_B/model/model4.npy', 'CurveVel_B/model/model40.npy', 'CurveVel_B/model/model41.npy', 'CurveVel_B/model/model42.npy', 'CurveVel_B/model/model43.npy', 'CurveVel_B/model/model44.npy', 'CurveVel_B/model/model45.npy', 'CurveVel_B/model/model46.npy', 'CurveVel_B/model/model47.npy', 'CurveVel_B/model/model48.npy', 'CurveVel_B/model/model49.npy', 'CurveVel_B/model/model5.npy', 'CurveVel_B/model/model50.npy', 'CurveVel_B/model/model51.npy', 'CurveVel_B/model/model52.npy', 'CurveVel_B/model/model53.npy', 'CurveVel_B/model/model54.npy', 'CurveVel_B/model/model55.npy', 'CurveVel_B/model/model56.npy', 'CurveVel_B/model/model57.npy', 'CurveVel_B/model/model58.npy', 'CurveVel_B/model/model59.npy', 'CurveVel_B/model/model6.npy', 'CurveVel_B/model/model60.npy', 'CurveVel_B/model/model7.npy', 'CurveVel_B/model/model8.npy', 'CurveVel_B/model/model9.npy', 'FlatFault_A/seis2_1_0.npy', 'FlatFault_A/seis2_1_1.npy', 'FlatFault_A/seis2_1_10.npy', 'FlatFault_A/seis2_1_11.npy', 'FlatFault_A/seis2_1_12.npy', 'FlatFault_A/seis2_1_13.npy', 'FlatFault_A/seis2_1_14.npy', 'FlatFault_A/seis2_1_15.npy', 'FlatFault_A/seis2_1_16.npy', 'FlatFault_A/seis2_1_17.npy', 'FlatFault_A/seis2_1_18.npy', 'FlatFault_A/seis2_1_19.npy', 'FlatFault_A/seis2_1_2.npy', 'FlatFault_A/seis2_1_20.npy', 'FlatFault_A/seis2_1_21.npy', 'FlatFault_A/seis2_1_22.npy', 'FlatFault_A/seis2_1_23.npy', 'FlatFault_A/seis2_1_24.npy', 'FlatFault_A/seis2_1_25.npy', 'FlatFault_A/seis2_1_26.npy', 'FlatFault_A/seis2_1_27.npy', 'FlatFault_A/seis2_1_28.npy', 'FlatFault_A/seis2_1_29.npy', 'FlatFault_A/seis2_1_3.npy', 'FlatFault_A/seis2_1_30.npy', 'FlatFault_A/seis2_1_31.npy', 'FlatFault_A/seis2_1_32.npy', 'FlatFault_A/seis2_1_33.npy', 'FlatFault_A/seis2_1_34.npy', 'FlatFault_A/seis2_1_35.npy', 'FlatFault_A/seis2_1_4.npy', 'FlatFault_A/seis2_1_5.npy', 'FlatFault_A/seis2_1_6.npy', 'FlatFault_A/seis2_1_7.npy', 'FlatFault_A/seis2_1_8.npy', 'FlatFault_A/seis2_1_9.npy', 'FlatFault_A/seis3_1_0.npy', 'FlatFault_A/seis3_1_1.npy', 'FlatFault_A/seis3_1_10.npy', 'FlatFault_A/seis3_1_11.npy', 'FlatFault_A/seis3_1_12.npy', 'FlatFault_A/seis3_1_13.npy', 'FlatFault_A/seis3_1_14.npy', 'FlatFault_A/seis3_1_15.npy', 'FlatFault_A/seis3_1_16.npy', 'FlatFault_A/seis3_1_17.npy', 'FlatFault_A/seis3_1_18.npy', 'FlatFault_A/seis3_1_19.npy', 'FlatFault_A/seis3_1_2.npy', 'FlatFault_A/seis3_1_20.npy', 'FlatFault_A/seis3_1_21.npy', 'FlatFault_A/seis3_1_22.npy', 'FlatFault_A/seis3_1_23.npy', 'FlatFault_A/seis3_1_24.npy', 'FlatFault_A/seis3_1_25.npy', 'FlatFault_A/seis3_1_26.npy', 'FlatFault_A/seis3_1_27.npy', 'FlatFault_A/seis3_1_28.npy', 'FlatFault_A/seis3_1_29.npy', 'FlatFault_A/seis3_1_3.npy', 'FlatFault_A/seis3_1_30.npy', 'FlatFault_A/seis3_1_31.npy', 'FlatFault_A/seis3_1_32.npy', 'FlatFault_A/seis3_1_33.npy', 'FlatFault_A/seis3_1_34.npy', 'FlatFault_A/seis3_1_35.npy', 'FlatFault_A/seis3_1_4.npy', 'FlatFault_A/seis3_1_5.npy', 'FlatFault_A/seis3_1_6.npy', 'FlatFault_A/seis3_1_7.npy', 'FlatFault_A/seis3_1_8.npy', 'FlatFault_A/seis3_1_9.npy', 'FlatFault_A/seis4_1_0.npy', 'FlatFault_A/seis4_1_1.npy', 'FlatFault_A/seis4_1_10.npy', 'FlatFault_A/seis4_1_11.npy', 'FlatFault_A/seis4_1_12.npy', 'FlatFault_A/seis4_1_13.npy', 'FlatFault_A/seis4_1_14.npy', 'FlatFault_A/seis4_1_15.npy', 'FlatFault_A/seis4_1_16.npy', 'FlatFault_A/seis4_1_17.npy', 'FlatFault_A/seis4_1_18.npy', 'FlatFault_A/seis4_1_19.npy', 'FlatFault_A/seis4_1_2.npy', 'FlatFault_A/seis4_1_20.npy', 'FlatFault_A/seis4_1_21.npy', 'FlatFault_A/seis4_1_22.npy', 'FlatFault_A/seis4_1_23.npy', 'FlatFault_A/seis4_1_24.npy', 'FlatFault_A/seis4_1_25.npy', 'FlatFault_A/seis4_1_26.npy', 'FlatFault_A/seis4_1_27.npy', 'FlatFault_A/seis4_1_28.npy', 'FlatFault_A/seis4_1_29.npy', 'FlatFault_A/seis4_1_3.npy', 'FlatFault_A/seis4_1_30.npy', 'FlatFault_A/seis4_1_31.npy', 'FlatFault_A/seis4_1_32.npy', 'FlatFault_A/seis4_1_33.npy', 'FlatFault_A/seis4_1_34.npy', 'FlatFault_A/seis4_1_35.npy', 'FlatFault_A/seis4_1_4.npy', 'FlatFault_A/seis4_1_5.npy', 'FlatFault_A/seis4_1_6.npy', 'FlatFault_A/seis4_1_7.npy', 'FlatFault_A/seis4_1_8.npy', 'FlatFault_A/seis4_1_9.npy', 'FlatFault_A/vel2_1_0.npy', 'FlatFault_A/vel2_1_1.npy', 'FlatFault_A/vel2_1_10.npy', 'FlatFault_A/vel2_1_11.npy', 'FlatFault_A/vel2_1_12.npy', 'FlatFault_A/vel2_1_13.npy', 'FlatFault_A/vel2_1_14.npy', 'FlatFault_A/vel2_1_15.npy', 'FlatFault_A/vel2_1_16.npy', 'FlatFault_A/vel2_1_17.npy', 'FlatFault_A/vel2_1_18.npy', 'FlatFault_A/vel2_1_19.npy', 'FlatFault_A/vel2_1_2.npy', 'FlatFault_A/vel2_1_20.npy', 'FlatFault_A/vel2_1_21.npy', 'FlatFault_A/vel2_1_22.npy', 'FlatFault_A/vel2_1_23.npy', 'FlatFault_A/vel2_1_24.npy', 'FlatFault_A/vel2_1_25.npy', 'FlatFault_A/vel2_1_26.npy', 'FlatFault_A/vel2_1_27.npy', 'FlatFault_A/vel2_1_28.npy', 'FlatFault_A/vel2_1_29.npy', 'FlatFault_A/vel2_1_3.npy', 'FlatFault_A/vel2_1_30.npy', 'FlatFault_A/vel2_1_31.npy', 'FlatFault_A/vel2_1_32.npy', 'FlatFault_A/vel2_1_33.npy', 'FlatFault_A/vel2_1_34.npy', 'FlatFault_A/vel2_1_35.npy', 'FlatFault_A/vel2_1_4.npy', 'FlatFault_A/vel2_1_5.npy', 'FlatFault_A/vel2_1_6.npy', 'FlatFault_A/vel2_1_7.npy', 'FlatFault_A/vel2_1_8.npy', 'FlatFault_A/vel2_1_9.npy', 'FlatFault_A/vel3_1_0.npy', 'FlatFault_A/vel3_1_1.npy', 'FlatFault_A/vel3_1_10.npy', 'FlatFault_A/vel3_1_11.npy', 'FlatFault_A/vel3_1_12.npy', 'FlatFault_A/vel3_1_13.npy', 'FlatFault_A/vel3_1_14.npy', 'FlatFault_A/vel3_1_15.npy', 'FlatFault_A/vel3_1_16.npy', 'FlatFault_A/vel3_1_17.npy', 'FlatFault_A/vel3_1_18.npy', 'FlatFault_A/vel3_1_19.npy', 'FlatFault_A/vel3_1_2.npy', 'FlatFault_A/vel3_1_20.npy', 'FlatFault_A/vel3_1_21.npy', 'FlatFault_A/vel3_1_22.npy', 'FlatFault_A/vel3_1_23.npy', 'FlatFault_A/vel3_1_24.npy', 'FlatFault_A/vel3_1_25.npy', 'FlatFault_A/vel3_1_26.npy', 'FlatFault_A/vel3_1_27.npy', 'FlatFault_A/vel3_1_28.npy', 'FlatFault_A/vel3_1_29.npy', 'FlatFault_A/vel3_1_3.npy', 'FlatFault_A/vel3_1_30.npy', 'FlatFault_A/vel3_1_31.npy', 'FlatFault_A/vel3_1_32.npy', 'FlatFault_A/vel3_1_33.npy', 'FlatFault_A/vel3_1_34.npy', 'FlatFault_A/vel3_1_35.npy', 'FlatFault_A/vel3_1_4.npy', 'FlatFault_A/vel3_1_5.npy', 'FlatFault_A/vel3_1_6.npy', 'FlatFault_A/vel3_1_7.npy', 'FlatFault_A/vel3_1_8.npy', 'FlatFault_A/vel3_1_9.npy', 'FlatFault_A/vel4_1_0.npy', 'FlatFault_A/vel4_1_1.npy', 'FlatFault_A/vel4_1_10.npy', 'FlatFault_A/vel4_1_11.npy', 'FlatFault_A/vel4_1_12.npy', 'FlatFault_A/vel4_1_13.npy', 'FlatFault_A/vel4_1_14.npy', 'FlatFault_A/vel4_1_15.npy', 'FlatFault_A/vel4_1_16.npy', 'FlatFault_A/vel4_1_17.npy', 'FlatFault_A/vel4_1_18.npy', 'FlatFault_A/vel4_1_19.npy', 'FlatFault_A/vel4_1_2.npy', 'FlatFault_A/vel4_1_20.npy', 'FlatFault_A/vel4_1_21.npy', 'FlatFault_A/vel4_1_22.npy', 'FlatFault_A/vel4_1_23.npy', 'FlatFault_A/vel4_1_24.npy', 'FlatFault_A/vel4_1_25.npy', 'FlatFault_A/vel4_1_26.npy', 'FlatFault_A/vel4_1_27.npy', 'FlatFault_A/vel4_1_28.npy', 'FlatFault_A/vel4_1_29.npy', 'FlatFault_A/vel4_1_3.npy', 'FlatFault_A/vel4_1_30.npy', 'FlatFault_A/vel4_1_31.npy', 'FlatFault_A/vel4_1_32.npy', 'FlatFault_A/vel4_1_33.npy', 'FlatFault_A/vel4_1_34.npy', 'FlatFault_A/vel4_1_35.npy', 'FlatFault_A/vel4_1_4.npy', 'FlatFault_A/vel4_1_5.npy', 'FlatFault_A/vel4_1_6.npy', 'FlatFault_A/vel4_1_7.npy', 'FlatFault_A/vel4_1_8.npy', 'FlatFault_A/vel4_1_9.npy', 'FlatFault_B/seis6_1_0.npy', 'FlatFault_B/seis6_1_1.npy', 'FlatFault_B/seis6_1_10.npy', 'FlatFault_B/seis6_1_11.npy', 'FlatFault_B/seis6_1_12.npy', 'FlatFault_B/seis6_1_13.npy', 'FlatFault_B/seis6_1_14.npy', 'FlatFault_B/seis6_1_15.npy', 'FlatFault_B/seis6_1_16.npy', 'FlatFault_B/seis6_1_17.npy', 'FlatFault_B/seis6_1_18.npy', 'FlatFault_B/seis6_1_19.npy', 'FlatFault_B/seis6_1_2.npy', 'FlatFault_B/seis6_1_20.npy', 'FlatFault_B/seis6_1_21.npy', 'FlatFault_B/seis6_1_22.npy', 'FlatFault_B/seis6_1_23.npy', 'FlatFault_B/seis6_1_24.npy', 'FlatFault_B/seis6_1_25.npy', 'FlatFault_B/seis6_1_26.npy', 'FlatFault_B/seis6_1_27.npy', 'FlatFault_B/seis6_1_28.npy', 'FlatFault_B/seis6_1_29.npy', 'FlatFault_B/seis6_1_3.npy', 'FlatFault_B/seis6_1_30.npy', 'FlatFault_B/seis6_1_31.npy', 'FlatFault_B/seis6_1_32.npy', 'FlatFault_B/seis6_1_33.npy', 'FlatFault_B/seis6_1_34.npy', 'FlatFault_B/seis6_1_35.npy', 'FlatFault_B/seis6_1_4.npy', 'FlatFault_B/seis6_1_5.npy', 'FlatFault_B/seis6_1_6.npy', 'FlatFault_B/seis6_1_7.npy', 'FlatFault_B/seis6_1_8.npy', 'FlatFault_B/seis6_1_9.npy', 'FlatFault_B/seis7_1_0.npy', 'FlatFault_B/seis7_1_1.npy', 'FlatFault_B/seis7_1_10.npy', 'FlatFault_B/seis7_1_11.npy', 'FlatFault_B/seis7_1_12.npy', 'FlatFault_B/seis7_1_13.npy', 'FlatFault_B/seis7_1_14.npy', 'FlatFault_B/seis7_1_15.npy', 'FlatFault_B/seis7_1_16.npy', 'FlatFault_B/seis7_1_17.npy', 'FlatFault_B/seis7_1_18.npy', 'FlatFault_B/seis7_1_19.npy', 'FlatFault_B/seis7_1_2.npy', 'FlatFault_B/seis7_1_20.npy', 'FlatFault_B/seis7_1_21.npy', 'FlatFault_B/seis7_1_22.npy', 'FlatFault_B/seis7_1_23.npy', 'FlatFault_B/seis7_1_24.npy', 'FlatFault_B/seis7_1_25.npy', 'FlatFault_B/seis7_1_26.npy', 'FlatFault_B/seis7_1_27.npy', 'FlatFault_B/seis7_1_28.npy', 'FlatFault_B/seis7_1_29.npy', 'FlatFault_B/seis7_1_3.npy', 'FlatFault_B/seis7_1_30.npy', 'FlatFault_B/seis7_1_31.npy', 'FlatFault_B/seis7_1_32.npy', 'FlatFault_B/seis7_1_33.npy', 'FlatFault_B/seis7_1_34.npy', 'FlatFault_B/seis7_1_35.npy', 'FlatFault_B/seis7_1_4.npy', 'FlatFault_B/seis7_1_5.npy', 'FlatFault_B/seis7_1_6.npy', 'FlatFault_B/seis7_1_7.npy', 'FlatFault_B/seis7_1_8.npy', 'FlatFault_B/seis7_1_9.npy', 'FlatFault_B/seis8_1_0.npy', 'FlatFault_B/seis8_1_1.npy', 'FlatFault_B/seis8_1_10.npy', 'FlatFault_B/seis8_1_11.npy', 'FlatFault_B/seis8_1_12.npy', 'FlatFault_B/seis8_1_13.npy', 'FlatFault_B/seis8_1_14.npy', 'FlatFault_B/seis8_1_15.npy', 'FlatFault_B/seis8_1_16.npy', 'FlatFault_B/seis8_1_17.npy', 'FlatFault_B/seis8_1_18.npy', 'FlatFault_B/seis8_1_19.npy', 'FlatFault_B/seis8_1_2.npy', 'FlatFault_B/seis8_1_20.npy', 'FlatFault_B/seis8_1_21.npy', 'FlatFault_B/seis8_1_22.npy', 'FlatFault_B/seis8_1_23.npy', 'FlatFault_B/seis8_1_24.npy', 'FlatFault_B/seis8_1_25.npy', 'FlatFault_B/seis8_1_26.npy', 'FlatFault_B/seis8_1_27.npy', 'FlatFault_B/seis8_1_28.npy', 'FlatFault_B/seis8_1_29.npy', 'FlatFault_B/seis8_1_3.npy', 'FlatFault_B/seis8_1_30.npy', 'FlatFault_B/seis8_1_31.npy', 'FlatFault_B/seis8_1_32.npy', 'FlatFault_B/seis8_1_33.npy', 'FlatFault_B/seis8_1_34.npy', 'FlatFault_B/seis8_1_35.npy', 'FlatFault_B/seis8_1_4.npy', 'FlatFault_B/seis8_1_5.npy', 'FlatFault_B/seis8_1_6.npy', 'FlatFault_B/seis8_1_7.npy', 'FlatFault_B/seis8_1_8.npy', 'FlatFault_B/seis8_1_9.npy', 'FlatFault_B/vel6_1_0.npy', 'FlatFault_B/vel6_1_1.npy', 'FlatFault_B/vel6_1_10.npy', 'FlatFault_B/vel6_1_11.npy', 'FlatFault_B/vel6_1_12.npy', 'FlatFault_B/vel6_1_13.npy', 'FlatFault_B/vel6_1_14.npy', 'FlatFault_B/vel6_1_15.npy', 'FlatFault_B/vel6_1_16.npy', 'FlatFault_B/vel6_1_17.npy', 'FlatFault_B/vel6_1_18.npy', 'FlatFault_B/vel6_1_19.npy', 'FlatFault_B/vel6_1_2.npy', 'FlatFault_B/vel6_1_20.npy', 'FlatFault_B/vel6_1_21.npy', 'FlatFault_B/vel6_1_22.npy', 'FlatFault_B/vel6_1_23.npy', 'FlatFault_B/vel6_1_24.npy', 'FlatFault_B/vel6_1_25.npy', 'FlatFault_B/vel6_1_26.npy', 'FlatFault_B/vel6_1_27.npy', 'FlatFault_B/vel6_1_28.npy', 'FlatFault_B/vel6_1_29.npy', 'FlatFault_B/vel6_1_3.npy', 'FlatFault_B/vel6_1_30.npy', 'FlatFault_B/vel6_1_31.npy', 'FlatFault_B/vel6_1_32.npy', 'FlatFault_B/vel6_1_33.npy', 'FlatFault_B/vel6_1_34.npy', 'FlatFault_B/vel6_1_35.npy', 'FlatFault_B/vel6_1_4.npy', 'FlatFault_B/vel6_1_5.npy', 'FlatFault_B/vel6_1_6.npy', 'FlatFault_B/vel6_1_7.npy', 'FlatFault_B/vel6_1_8.npy', 'FlatFault_B/vel6_1_9.npy', 'FlatFault_B/vel7_1_0.npy', 'FlatFault_B/vel7_1_1.npy', 'FlatFault_B/vel7_1_10.npy', 'FlatFault_B/vel7_1_11.npy', 'FlatFault_B/vel7_1_12.npy', 'FlatFault_B/vel7_1_13.npy', 'FlatFault_B/vel7_1_14.npy', 'FlatFault_B/vel7_1_15.npy', 'FlatFault_B/vel7_1_16.npy', 'FlatFault_B/vel7_1_17.npy', 'FlatFault_B/vel7_1_18.npy', 'FlatFault_B/vel7_1_19.npy', 'FlatFault_B/vel7_1_2.npy', 'FlatFault_B/vel7_1_20.npy', 'FlatFault_B/vel7_1_21.npy', 'FlatFault_B/vel7_1_22.npy', 'FlatFault_B/vel7_1_23.npy', 'FlatFault_B/vel7_1_24.npy', 'FlatFault_B/vel7_1_25.npy', 'FlatFault_B/vel7_1_26.npy', 'FlatFault_B/vel7_1_27.npy', 'FlatFault_B/vel7_1_28.npy', 'FlatFault_B/vel7_1_29.npy', 'FlatFault_B/vel7_1_3.npy', 'FlatFault_B/vel7_1_30.npy', 'FlatFault_B/vel7_1_31.npy', 'FlatFault_B/vel7_1_32.npy', 'FlatFault_B/vel7_1_33.npy', 'FlatFault_B/vel7_1_34.npy', 'FlatFault_B/vel7_1_35.npy', 'FlatFault_B/vel7_1_4.npy', 'FlatFault_B/vel7_1_5.npy', 'FlatFault_B/vel7_1_6.npy', 'FlatFault_B/vel7_1_7.npy', 'FlatFault_B/vel7_1_8.npy', 'FlatFault_B/vel7_1_9.npy', 'FlatFault_B/vel8_1_0.npy', 'FlatFault_B/vel8_1_1.npy', 'FlatFault_B/vel8_1_10.npy', 'FlatFault_B/vel8_1_11.npy', 'FlatFault_B/vel8_1_12.npy', 'FlatFault_B/vel8_1_13.npy', 'FlatFault_B/vel8_1_14.npy', 'FlatFault_B/vel8_1_15.npy', 'FlatFault_B/vel8_1_16.npy', 'FlatFault_B/vel8_1_17.npy', 'FlatFault_B/vel8_1_18.npy', 'FlatFault_B/vel8_1_19.npy', 'FlatFault_B/vel8_1_2.npy', 'FlatFault_B/vel8_1_20.npy', 'FlatFault_B/vel8_1_21.npy', 'FlatFault_B/vel8_1_22.npy', 'FlatFault_B/vel8_1_23.npy', 'FlatFault_B/vel8_1_24.npy', 'FlatFault_B/vel8_1_25.npy', 'FlatFault_B/vel8_1_26.npy', 'FlatFault_B/vel8_1_27.npy', 'FlatFault_B/vel8_1_28.npy', 'FlatFault_B/vel8_1_29.npy', 'FlatFault_B/vel8_1_3.npy', 'FlatFault_B/vel8_1_30.npy', 'FlatFault_B/vel8_1_31.npy', 'FlatFault_B/vel8_1_32.npy', 'FlatFault_B/vel8_1_33.npy', 'FlatFault_B/vel8_1_34.npy', 'FlatFault_B/vel8_1_35.npy', 'FlatFault_B/vel8_1_4.npy', 'FlatFault_B/vel8_1_5.npy', 'FlatFault_B/vel8_1_6.npy', 'FlatFault_B/vel8_1_7.npy', 'FlatFault_B/vel8_1_8.npy', 'FlatFault_B/vel8_1_9.npy', 'FlatVel_A/data/data1.npy', 'FlatVel_A/data/data10.npy', 'FlatVel_A/data/data11.npy', 'FlatVel_A/data/data12.npy', 'FlatVel_A/data/data13.npy', 'FlatVel_A/data/data14.npy', 'FlatVel_A/data/data15.npy', 'FlatVel_A/data/data16.npy', 'FlatVel_A/data/data17.npy', 'FlatVel_A/data/data18.npy', 'FlatVel_A/data/data19.npy', 'FlatVel_A/data/data2.npy', 'FlatVel_A/data/data20.npy', 'FlatVel_A/data/data21.npy', 'FlatVel_A/data/data22.npy', 'FlatVel_A/data/data23.npy', 'FlatVel_A/data/data24.npy', 'FlatVel_A/data/data25.npy', 'FlatVel_A/data/data26.npy', 'FlatVel_A/data/data27.npy', 'FlatVel_A/data/data28.npy', 'FlatVel_A/data/data29.npy', 'FlatVel_A/data/data3.npy', 'FlatVel_A/data/data30.npy', 'FlatVel_A/data/data31.npy', 'FlatVel_A/data/data32.npy', 'FlatVel_A/data/data33.npy', 'FlatVel_A/data/data34.npy', 'FlatVel_A/data/data35.npy', 'FlatVel_A/data/data36.npy', 'FlatVel_A/data/data37.npy', 'FlatVel_A/data/data38.npy', 'FlatVel_A/data/data39.npy', 'FlatVel_A/data/data4.npy', 'FlatVel_A/data/data40.npy', 'FlatVel_A/data/data41.npy', 'FlatVel_A/data/data42.npy', 'FlatVel_A/data/data43.npy', 'FlatVel_A/data/data44.npy', 'FlatVel_A/data/data45.npy', 'FlatVel_A/data/data46.npy', 'FlatVel_A/data/data47.npy', 'FlatVel_A/data/data48.npy', 'FlatVel_A/data/data49.npy', 'FlatVel_A/data/data5.npy', 'FlatVel_A/data/data50.npy', 'FlatVel_A/data/data51.npy', 'FlatVel_A/data/data52.npy', 'FlatVel_A/data/data53.npy', 'FlatVel_A/data/data54.npy', 'FlatVel_A/data/data55.npy', 'FlatVel_A/data/data56.npy', 'FlatVel_A/data/data57.npy', 'FlatVel_A/data/data58.npy', 'FlatVel_A/data/data59.npy', 'FlatVel_A/data/data6.npy', 'FlatVel_A/data/data60.npy', 'FlatVel_A/data/data7.npy', 'FlatVel_A/data/data8.npy', 'FlatVel_A/data/data9.npy', 'FlatVel_A/model/model1.npy', 'FlatVel_A/model/model10.npy', 'FlatVel_A/model/model11.npy', 'FlatVel_A/model/model12.npy', 'FlatVel_A/model/model13.npy', 'FlatVel_A/model/model14.npy', 'FlatVel_A/model/model15.npy', 'FlatVel_A/model/model16.npy', 'FlatVel_A/model/model17.npy', 'FlatVel_A/model/model18.npy', 'FlatVel_A/model/model19.npy', 'FlatVel_A/model/model2.npy', 'FlatVel_A/model/model20.npy', 'FlatVel_A/model/model21.npy', 'FlatVel_A/model/model22.npy', 'FlatVel_A/model/model23.npy', 'FlatVel_A/model/model24.npy', 'FlatVel_A/model/model25.npy', 'FlatVel_A/model/model26.npy', 'FlatVel_A/model/model27.npy', 'FlatVel_A/model/model28.npy', 'FlatVel_A/model/model29.npy', 'FlatVel_A/model/model3.npy', 'FlatVel_A/model/model30.npy', 'FlatVel_A/model/model31.npy', 'FlatVel_A/model/model32.npy', 'FlatVel_A/model/model33.npy', 'FlatVel_A/model/model34.npy', 'FlatVel_A/model/model35.npy', 'FlatVel_A/model/model36.npy', 'FlatVel_A/model/model37.npy', 'FlatVel_A/model/model38.npy', 'FlatVel_A/model/model39.npy', 'FlatVel_A/model/model4.npy', 'FlatVel_A/model/model40.npy', 'FlatVel_A/model/model41.npy', 'FlatVel_A/model/model42.npy', 'FlatVel_A/model/model43.npy', 'FlatVel_A/model/model44.npy', 'FlatVel_A/model/model45.npy', 'FlatVel_A/model/model46.npy', 'FlatVel_A/model/model47.npy', 'FlatVel_A/model/model48.npy', 'FlatVel_A/model/model49.npy', 'FlatVel_A/model/model5.npy', 'FlatVel_A/model/model50.npy', 'FlatVel_A/model/model51.npy', 'FlatVel_A/model/model52.npy', 'FlatVel_A/model/model53.npy', 'FlatVel_A/model/model54.npy', 'FlatVel_A/model/model55.npy', 'FlatVel_A/model/model56.npy', 'FlatVel_A/model/model57.npy', 'FlatVel_A/model/model58.npy', 'FlatVel_A/model/model59.npy', 'FlatVel_A/model/model6.npy', 'FlatVel_A/model/model60.npy', 'FlatVel_A/model/model7.npy', 'FlatVel_A/model/model8.npy', 'FlatVel_A/model/model9.npy', 'FlatVel_B/data/data1.npy', 'FlatVel_B/data/data10.npy', 'FlatVel_B/data/data11.npy', 'FlatVel_B/data/data12.npy', 'FlatVel_B/data/data13.npy', 'FlatVel_B/data/data14.npy', 'FlatVel_B/data/data15.npy', 'FlatVel_B/data/data16.npy', 'FlatVel_B/data/data17.npy', 'FlatVel_B/data/data18.npy', 'FlatVel_B/data/data19.npy', 'FlatVel_B/data/data2.npy', 'FlatVel_B/data/data20.npy', 'FlatVel_B/data/data21.npy', 'FlatVel_B/data/data22.npy', 'FlatVel_B/data/data23.npy', 'FlatVel_B/data/data24.npy', 'FlatVel_B/data/data25.npy', 'FlatVel_B/data/data26.npy', 'FlatVel_B/data/data27.npy', 'FlatVel_B/data/data28.npy', 'FlatVel_B/data/data29.npy', 'FlatVel_B/data/data3.npy', 'FlatVel_B/data/data30.npy', 'FlatVel_B/data/data31.npy', 'FlatVel_B/data/data32.npy', 'FlatVel_B/data/data33.npy', 'FlatVel_B/data/data34.npy', 'FlatVel_B/data/data35.npy', 'FlatVel_B/data/data36.npy', 'FlatVel_B/data/data37.npy', 'FlatVel_B/data/data38.npy', 'FlatVel_B/data/data39.npy', 'FlatVel_B/data/data4.npy', 'FlatVel_B/data/data40.npy', 'FlatVel_B/data/data41.npy', 'FlatVel_B/data/data42.npy', 'FlatVel_B/data/data43.npy', 'FlatVel_B/data/data44.npy', 'FlatVel_B/data/data45.npy', 'FlatVel_B/data/data46.npy', 'FlatVel_B/data/data47.npy', 'FlatVel_B/data/data48.npy', 'FlatVel_B/data/data49.npy', 'FlatVel_B/data/data5.npy', 'FlatVel_B/data/data50.npy', 'FlatVel_B/data/data51.npy', 'FlatVel_B/data/data52.npy', 'FlatVel_B/data/data53.npy', 'FlatVel_B/data/data54.npy', 'FlatVel_B/data/data55.npy', 'FlatVel_B/data/data56.npy', 'FlatVel_B/data/data57.npy', 'FlatVel_B/data/data58.npy', 'FlatVel_B/data/data59.npy', 'FlatVel_B/data/data6.npy', 'FlatVel_B/data/data60.npy', 'FlatVel_B/data/data7.npy', 'FlatVel_B/data/data8.npy', 'FlatVel_B/data/data9.npy', 'FlatVel_B/model/model1.npy', 'FlatVel_B/model/model10.npy', 'FlatVel_B/model/model11.npy', 'FlatVel_B/model/model12.npy', 'FlatVel_B/model/model13.npy', 'FlatVel_B/model/model14.npy', 'FlatVel_B/model/model15.npy', 'FlatVel_B/model/model16.npy', 'FlatVel_B/model/model17.npy', 'FlatVel_B/model/model18.npy', 'FlatVel_B/model/model19.npy', 'FlatVel_B/model/model2.npy', 'FlatVel_B/model/model20.npy', 'FlatVel_B/model/model21.npy', 'FlatVel_B/model/model22.npy', 'FlatVel_B/model/model23.npy', 'FlatVel_B/model/model24.npy', 'FlatVel_B/model/model25.npy', 'FlatVel_B/model/model26.npy', 'FlatVel_B/model/model27.npy', 'FlatVel_B/model/model28.npy', 'FlatVel_B/model/model29.npy', 'FlatVel_B/model/model3.npy', 'FlatVel_B/model/model30.npy', 'FlatVel_B/model/model31.npy', 'FlatVel_B/model/model32.npy', 'FlatVel_B/model/model33.npy', 'FlatVel_B/model/model34.npy', 'FlatVel_B/model/model35.npy', 'FlatVel_B/model/model36.npy', 'FlatVel_B/model/model37.npy', 'FlatVel_B/model/model38.npy', 'FlatVel_B/model/model39.npy', 'FlatVel_B/model/model4.npy', 'FlatVel_B/model/model40.npy', 'FlatVel_B/model/model41.npy', 'FlatVel_B/model/model42.npy', 'FlatVel_B/model/model43.npy', 'FlatVel_B/model/model44.npy', 'FlatVel_B/model/model45.npy', 'FlatVel_B/model/model46.npy', 'FlatVel_B/model/model47.npy', 'FlatVel_B/model/model48.npy', 'FlatVel_B/model/model49.npy', 'FlatVel_B/model/model5.npy', 'FlatVel_B/model/model50.npy', 'FlatVel_B/model/model51.npy', 'FlatVel_B/model/model52.npy', 'FlatVel_B/model/model53.npy', 'FlatVel_B/model/model54.npy', 'FlatVel_B/model/model55.npy', 'FlatVel_B/model/model56.npy', 'FlatVel_B/model/model57.npy', 'FlatVel_B/model/model58.npy', 'FlatVel_B/model/model59.npy', 'FlatVel_B/model/model6.npy', 'FlatVel_B/model/model60.npy', 'FlatVel_B/model/model7.npy', 'FlatVel_B/model/model8.npy', 'FlatVel_B/model/model9.npy', 'Style_A/data/data1.npy', 'Style_A/data/data10.npy', 'Style_A/data/data100.npy', 'Style_A/data/data101.npy', 'Style_A/data/data102.npy', 'Style_A/data/data103.npy', 'Style_A/data/data104.npy', 'Style_A/data/data105.npy', 'Style_A/data/data106.npy', 'Style_A/data/data107.npy', 'Style_A/data/data108.npy', 'Style_A/data/data109.npy', 'Style_A/data/data11.npy', 'Style_A/data/data110.npy', 'Style_A/data/data111.npy', 'Style_A/data/data112.npy', 'Style_A/data/data113.npy', 'Style_A/data/data114.npy', 'Style_A/data/data115.npy', 'Style_A/data/data116.npy', 'Style_A/data/data117.npy', 'Style_A/data/data118.npy', 'Style_A/data/data119.npy', 'Style_A/data/data12.npy', 'Style_A/data/data120.npy', 'Style_A/data/data121.npy', 'Style_A/data/data122.npy', 'Style_A/data/data123.npy', 'Style_A/data/data124.npy', 'Style_A/data/data125.npy', 'Style_A/data/data126.npy', 'Style_A/data/data127.npy', 'Style_A/data/data128.npy', 'Style_A/data/data129.npy', 'Style_A/data/data13.npy', 'Style_A/data/data130.npy', 'Style_A/data/data131.npy', 'Style_A/data/data132.npy', 'Style_A/data/data133.npy', 'Style_A/data/data134.npy', 'Style_A/data/data14.npy', 'Style_A/data/data15.npy', 'Style_A/data/data16.npy', 'Style_A/data/data17.npy', 'Style_A/data/data18.npy', 'Style_A/data/data19.npy', 'Style_A/data/data2.npy', 'Style_A/data/data20.npy', 'Style_A/data/data21.npy', 'Style_A/data/data22.npy', 'Style_A/data/data23.npy', 'Style_A/data/data24.npy', 'Style_A/data/data25.npy', 'Style_A/data/data26.npy', 'Style_A/data/data27.npy', 'Style_A/data/data28.npy', 'Style_A/data/data29.npy', 'Style_A/data/data3.npy', 'Style_A/data/data30.npy', 'Style_A/data/data31.npy', 'Style_A/data/data32.npy', 'Style_A/data/data33.npy', 'Style_A/data/data34.npy', 'Style_A/data/data35.npy', 'Style_A/data/data36.npy', 'Style_A/data/data37.npy', 'Style_A/data/data38.npy', 'Style_A/data/data39.npy', 'Style_A/data/data4.npy', 'Style_A/data/data40.npy', 'Style_A/data/data41.npy', 'Style_A/data/data42.npy', 'Style_A/data/data43.npy', 'Style_A/data/data44.npy', 'Style_A/data/data45.npy', 'Style_A/data/data46.npy', 'Style_A/data/data47.npy', 'Style_A/data/data48.npy', 'Style_A/data/data49.npy', 'Style_A/data/data5.npy', 'Style_A/data/data50.npy', 'Style_A/data/data51.npy', 'Style_A/data/data52.npy', 'Style_A/data/data53.npy', 'Style_A/data/data54.npy', 'Style_A/data/data55.npy', 'Style_A/data/data56.npy', 'Style_A/data/data57.npy', 'Style_A/data/data58.npy', 'Style_A/data/data59.npy', 'Style_A/data/data6.npy', 'Style_A/data/data60.npy', 'Style_A/data/data61.npy', 'Style_A/data/data62.npy', 'Style_A/data/data63.npy', 'Style_A/data/data64.npy', 'Style_A/data/data65.npy', 'Style_A/data/data66.npy', 'Style_A/data/data67.npy', 'Style_A/data/data68.npy', 'Style_A/data/data69.npy', 'Style_A/data/data7.npy', 'Style_A/data/data70.npy', 'Style_A/data/data71.npy', 'Style_A/data/data72.npy', 'Style_A/data/data73.npy', 'Style_A/data/data74.npy', 'Style_A/data/data75.npy', 'Style_A/data/data76.npy', 'Style_A/data/data77.npy', 'Style_A/data/data78.npy', 'Style_A/data/data79.npy', 'Style_A/data/data8.npy', 'Style_A/data/data80.npy', 'Style_A/data/data81.npy', 'Style_A/data/data82.npy', 'Style_A/data/data83.npy', 'Style_A/data/data84.npy', 'Style_A/data/data85.npy', 'Style_A/data/data86.npy', 'Style_A/data/data87.npy', 'Style_A/data/data88.npy', 'Style_A/data/data89.npy', 'Style_A/data/data9.npy', 'Style_A/data/data90.npy', 'Style_A/data/data91.npy', 'Style_A/data/data92.npy', 'Style_A/data/data93.npy', 'Style_A/data/data94.npy', 'Style_A/data/data95.npy', 'Style_A/data/data96.npy', 'Style_A/data/data97.npy', 'Style_A/data/data98.npy', 'Style_A/data/data99.npy', 'Style_A/model/model1.npy', 'Style_A/model/model10.npy', 'Style_A/model/model100.npy', 'Style_A/model/model101.npy', 'Style_A/model/model102.npy', 'Style_A/model/model103.npy', 'Style_A/model/model104.npy', 'Style_A/model/model105.npy', 'Style_A/model/model106.npy', 'Style_A/model/model107.npy', 'Style_A/model/model108.npy', 'Style_A/model/model109.npy', 'Style_A/model/model11.npy', 'Style_A/model/model110.npy', 'Style_A/model/model111.npy', 'Style_A/model/model112.npy', 'Style_A/model/model113.npy', 'Style_A/model/model114.npy', 'Style_A/model/model115.npy', 'Style_A/model/model116.npy', 'Style_A/model/model117.npy', 'Style_A/model/model118.npy', 'Style_A/model/model119.npy', 'Style_A/model/model12.npy', 'Style_A/model/model120.npy', 'Style_A/model/model121.npy', 'Style_A/model/model122.npy', 'Style_A/model/model123.npy', 'Style_A/model/model124.npy', 'Style_A/model/model125.npy', 'Style_A/model/model126.npy', 'Style_A/model/model127.npy', 'Style_A/model/model128.npy', 'Style_A/model/model129.npy', 'Style_A/model/model13.npy', 'Style_A/model/model130.npy', 'Style_A/model/model131.npy', 'Style_A/model/model132.npy', 'Style_A/model/model133.npy', 'Style_A/model/model134.npy', 'Style_A/model/model14.npy', 'Style_A/model/model15.npy', 'Style_A/model/model16.npy', 'Style_A/model/model17.npy', 'Style_A/model/model18.npy', 'Style_A/model/model19.npy', 'Style_A/model/model2.npy', 'Style_A/model/model20.npy', 'Style_A/model/model21.npy', 'Style_A/model/model22.npy', 'Style_A/model/model23.npy', 'Style_A/model/model24.npy', 'Style_A/model/model25.npy', 'Style_A/model/model26.npy', 'Style_A/model/model27.npy', 'Style_A/model/model28.npy', 'Style_A/model/model29.npy', 'Style_A/model/model3.npy', 'Style_A/model/model30.npy', 'Style_A/model/model31.npy', 'Style_A/model/model32.npy', 'Style_A/model/model33.npy', 'Style_A/model/model34.npy', 'Style_A/model/model35.npy', 'Style_A/model/model36.npy', 'Style_A/model/model37.npy', 'Style_A/model/model38.npy', 'Style_A/model/model39.npy', 'Style_A/model/model4.npy', 'Style_A/model/model40.npy', 'Style_A/model/model41.npy', 'Style_A/model/model42.npy', 'Style_A/model/model43.npy', 'Style_A/model/model44.npy', 'Style_A/model/model45.npy', 'Style_A/model/model46.npy', 'Style_A/model/model47.npy', 'Style_A/model/model48.npy', 'Style_A/model/model49.npy', 'Style_A/model/model5.npy', 'Style_A/model/model50.npy', 'Style_A/model/model51.npy', 'Style_A/model/model52.npy', 'Style_A/model/model53.npy', 'Style_A/model/model54.npy', 'Style_A/model/model55.npy', 'Style_A/model/model56.npy', 'Style_A/model/model57.npy', 'Style_A/model/model58.npy', 'Style_A/model/model59.npy', 'Style_A/model/model6.npy', 'Style_A/model/model60.npy', 'Style_A/model/model61.npy', 'Style_A/model/model62.npy', 'Style_A/model/model63.npy', 'Style_A/model/model64.npy', 'Style_A/model/model65.npy', 'Style_A/model/model66.npy', 'Style_A/model/model67.npy', 'Style_A/model/model68.npy', 'Style_A/model/model69.npy', 'Style_A/model/model7.npy', 'Style_A/model/model70.npy', 'Style_A/model/model71.npy', 'Style_A/model/model72.npy', 'Style_A/model/model73.npy', 'Style_A/model/model74.npy', 'Style_A/model/model75.npy', 'Style_A/model/model76.npy', 'Style_A/model/model77.npy', 'Style_A/model/model78.npy', 'Style_A/model/model79.npy', 'Style_A/model/model8.npy', 'Style_A/model/model80.npy', 'Style_A/model/model81.npy', 'Style_A/model/model82.npy', 'Style_A/model/model83.npy', 'Style_A/model/model84.npy', 'Style_A/model/model85.npy', 'Style_A/model/model86.npy', 'Style_A/model/model87.npy', 'Style_A/model/model88.npy', 'Style_A/model/model89.npy', 'Style_A/model/model9.npy', 'Style_A/model/model90.npy', 'Style_A/model/model91.npy', 'Style_A/model/model92.npy', 'Style_A/model/model93.npy', 'Style_A/model/model94.npy', 'Style_A/model/model95.npy', 'Style_A/model/model96.npy', 'Style_A/model/model97.npy', 'Style_A/model/model98.npy', 'Style_A/model/model99.npy', 'Style_B/data/data1.npy', 'Style_B/data/data10.npy', 'Style_B/data/data100.npy', 'Style_B/data/data101.npy', 'Style_B/data/data102.npy', 'Style_B/data/data103.npy', 'Style_B/data/data104.npy', 'Style_B/data/data105.npy', 'Style_B/data/data106.npy', 'Style_B/data/data107.npy', 'Style_B/data/data108.npy', 'Style_B/data/data109.npy', 'Style_B/data/data11.npy', 'Style_B/data/data110.npy', 'Style_B/data/data111.npy', 'Style_B/data/data112.npy', 'Style_B/data/data113.npy', 'Style_B/data/data114.npy', 'Style_B/data/data115.npy', 'Style_B/data/data116.npy', 'Style_B/data/data117.npy', 'Style_B/data/data118.npy', 'Style_B/data/data119.npy', 'Style_B/data/data12.npy', 'Style_B/data/data120.npy', 'Style_B/data/data121.npy', 'Style_B/data/data122.npy', 'Style_B/data/data123.npy', 'Style_B/data/data124.npy', 'Style_B/data/data125.npy', 'Style_B/data/data126.npy', 'Style_B/data/data127.npy', 'Style_B/data/data128.npy', 'Style_B/data/data129.npy', 'Style_B/data/data13.npy', 'Style_B/data/data130.npy', 'Style_B/data/data131.npy', 'Style_B/data/data132.npy', 'Style_B/data/data133.npy', 'Style_B/data/data134.npy', 'Style_B/data/data14.npy', 'Style_B/data/data15.npy', 'Style_B/data/data16.npy', 'Style_B/data/data17.npy', 'Style_B/data/data18.npy', 'Style_B/data/data19.npy', 'Style_B/data/data2.npy', 'Style_B/data/data20.npy', 'Style_B/data/data21.npy', 'Style_B/data/data22.npy', 'Style_B/data/data23.npy', 'Style_B/data/data24.npy', 'Style_B/data/data25.npy', 'Style_B/data/data26.npy', 'Style_B/data/data27.npy', 'Style_B/data/data28.npy', 'Style_B/data/data29.npy', 'Style_B/data/data3.npy', 'Style_B/data/data30.npy', 'Style_B/data/data31.npy', 'Style_B/data/data32.npy', 'Style_B/data/data33.npy', 'Style_B/data/data34.npy', 'Style_B/data/data35.npy', 'Style_B/data/data36.npy', 'Style_B/data/data37.npy', 'Style_B/data/data38.npy', 'Style_B/data/data39.npy', 'Style_B/data/data4.npy', 'Style_B/data/data40.npy', 'Style_B/data/data41.npy', 'Style_B/data/data42.npy', 'Style_B/data/data43.npy', 'Style_B/data/data44.npy', 'Style_B/data/data45.npy', 'Style_B/data/data46.npy', 'Style_B/data/data47.npy', 'Style_B/data/data48.npy', 'Style_B/data/data49.npy', 'Style_B/data/data5.npy', 'Style_B/data/data50.npy', 'Style_B/data/data51.npy', 'Style_B/data/data52.npy', 'Style_B/data/data53.npy', 'Style_B/data/data54.npy', 'Style_B/data/data55.npy', 'Style_B/data/data56.npy', 'Style_B/data/data57.npy', 'Style_B/data/data58.npy', 'Style_B/data/data59.npy', 'Style_B/data/data6.npy', 'Style_B/data/data60.npy', 'Style_B/data/data61.npy', 'Style_B/data/data62.npy', 'Style_B/data/data63.npy', 'Style_B/data/data64.npy', 'Style_B/data/data65.npy', 'Style_B/data/data66.npy', 'Style_B/data/data67.npy', 'Style_B/data/data68.npy', 'Style_B/data/data69.npy', 'Style_B/data/data7.npy', 'Style_B/data/data70.npy', 'Style_B/data/data71.npy', 'Style_B/data/data72.npy', 'Style_B/data/data73.npy', 'Style_B/data/data74.npy', 'Style_B/data/data75.npy', 'Style_B/data/data76.npy', 'Style_B/data/data77.npy', 'Style_B/data/data78.npy', 'Style_B/data/data79.npy', 'Style_B/data/data8.npy', 'Style_B/data/data80.npy', 'Style_B/data/data81.npy', 'Style_B/data/data82.npy', 'Style_B/data/data83.npy', 'Style_B/data/data84.npy', 'Style_B/data/data85.npy', 'Style_B/data/data86.npy', 'Style_B/data/data87.npy', 'Style_B/data/data88.npy', 'Style_B/data/data89.npy', 'Style_B/data/data9.npy', 'Style_B/data/data90.npy', 'Style_B/data/data91.npy', 'Style_B/data/data92.npy', 'Style_B/data/data93.npy', 'Style_B/data/data94.npy', 'Style_B/data/data95.npy', 'Style_B/data/data96.npy', 'Style_B/data/data97.npy', 'Style_B/data/data98.npy', 'Style_B/data/data99.npy', 'Style_B/model/model1.npy', 'Style_B/model/model10.npy', 'Style_B/model/model100.npy', 'Style_B/model/model101.npy', 'Style_B/model/model102.npy', 'Style_B/model/model103.npy', 'Style_B/model/model104.npy', 'Style_B/model/model105.npy', 'Style_B/model/model106.npy', 'Style_B/model/model107.npy', 'Style_B/model/model108.npy', 'Style_B/model/model109.npy', 'Style_B/model/model11.npy', 'Style_B/model/model110.npy', 'Style_B/model/model111.npy', 'Style_B/model/model112.npy', 'Style_B/model/model113.npy', 'Style_B/model/model114.npy', 'Style_B/model/model115.npy', 'Style_B/model/model116.npy', 'Style_B/model/model117.npy', 'Style_B/model/model118.npy', 'Style_B/model/model119.npy', 'Style_B/model/model12.npy', 'Style_B/model/model120.npy', 'Style_B/model/model121.npy', 'Style_B/model/model122.npy', 'Style_B/model/model123.npy', 'Style_B/model/model124.npy', 'Style_B/model/model125.npy', 'Style_B/model/model126.npy', 'Style_B/model/model127.npy', 'Style_B/model/model128.npy', 'Style_B/model/model129.npy', 'Style_B/model/model13.npy', 'Style_B/model/model130.npy', 'Style_B/model/model131.npy', 'Style_B/model/model132.npy', 'Style_B/model/model133.npy', 'Style_B/model/model134.npy', 'Style_B/model/model14.npy', 'Style_B/model/model15.npy', 'Style_B/model/model16.npy', 'Style_B/model/model17.npy', 'Style_B/model/model18.npy', 'Style_B/model/model19.npy', 'Style_B/model/model2.npy', 'Style_B/model/model20.npy', 'Style_B/model/model21.npy', 'Style_B/model/model22.npy', 'Style_B/model/model23.npy', 'Style_B/model/model24.npy', 'Style_B/model/model25.npy', 'Style_B/model/model26.npy', 'Style_B/model/model27.npy', 'Style_B/model/model28.npy', 'Style_B/model/model29.npy', 'Style_B/model/model3.npy', 'Style_B/model/model30.npy', 'Style_B/model/model31.npy', 'Style_B/model/model32.npy', 'Style_B/model/model33.npy', 'Style_B/model/model34.npy', 'Style_B/model/model35.npy', 'Style_B/model/model36.npy', 'Style_B/model/model37.npy', 'Style_B/model/model38.npy', 'Style_B/model/model39.npy', 'Style_B/model/model4.npy', 'Style_B/model/model40.npy', 'Style_B/model/model41.npy', 'Style_B/model/model42.npy', 'Style_B/model/model43.npy', 'Style_B/model/model44.npy', 'Style_B/model/model45.npy', 'Style_B/model/model46.npy', 'Style_B/model/model47.npy', 'Style_B/model/model48.npy', 'Style_B/model/model49.npy', 'Style_B/model/model5.npy', 'Style_B/model/model50.npy', 'Style_B/model/model51.npy', 'Style_B/model/model52.npy', 'Style_B/model/model53.npy', 'Style_B/model/model54.npy', 'Style_B/model/model55.npy', 'Style_B/model/model56.npy', 'Style_B/model/model57.npy', 'Style_B/model/model58.npy', 'Style_B/model/model59.npy', 'Style_B/model/model6.npy', 'Style_B/model/model60.npy', 'Style_B/model/model61.npy', 'Style_B/model/model62.npy', 'Style_B/model/model63.npy', 'Style_B/model/model64.npy', 'Style_B/model/model65.npy', 'Style_B/model/model66.npy', 'Style_B/model/model67.npy', 'Style_B/model/model68.npy', 'Style_B/model/model69.npy', 'Style_B/model/model7.npy', 'Style_B/model/model70.npy', 'Style_B/model/model71.npy', 'Style_B/model/model72.npy', 'Style_B/model/model73.npy', 'Style_B/model/model74.npy', 'Style_B/model/model75.npy', 'Style_B/model/model76.npy', 'Style_B/model/model77.npy', 'Style_B/model/model78.npy', 'Style_B/model/model79.npy', 'Style_B/model/model8.npy', 'Style_B/model/model80.npy', 'Style_B/model/model81.npy', 'Style_B/model/model82.npy', 'Style_B/model/model83.npy', 'Style_B/model/model84.npy', 'Style_B/model/model85.npy', 'Style_B/model/model86.npy', 'Style_B/model/model87.npy', 'Style_B/model/model88.npy', 'Style_B/model/model89.npy', 'Style_B/model/model9.npy', 'Style_B/model/model90.npy', 'Style_B/model/model91.npy', 'Style_B/model/model92.npy', 'Style_B/model/model93.npy', 'Style_B/model/model94.npy', 'Style_B/model/model95.npy', 'Style_B/model/model96.npy', 'Style_B/model/model97.npy', 'Style_B/model/model98.npy', 'Style_B/model/model99.npy']\n",
      "1880\n"
     ]
    }
   ],
   "source": [
    "files = list_repo_files(repo_id=\"ashynf/OpenFWI\", repo_type=\"dataset\")\n",
    "files.remove(\".gitattributes\")\n",
    "files.remove(\"README.md\")\n",
    "print(files)\n",
    "print(len(files))"
   ]
  },
  {
   "cell_type": "markdown",
   "id": "6452734c",
   "metadata": {},
   "source": [
    "### Make a Output Directory"
   ]
  },
  {
   "cell_type": "code",
   "execution_count": 4,
   "id": "8740399e",
   "metadata": {},
   "outputs": [],
   "source": [
    "output_dir = Path(\"../data\")\n",
    "if not output_dir.is_dir():\n",
    "    output_dir.mkdir(exist_ok=True)"
   ]
  },
  {
   "cell_type": "code",
   "execution_count": 5,
   "id": "4b5945e3",
   "metadata": {},
   "outputs": [
    {
     "data": {
      "text/plain": [
       "{'CurveFault_A': {'seis2_1_0_vel2_1_0',\n",
       "  'seis2_1_10_vel2_1_10',\n",
       "  'seis2_1_11_vel2_1_11',\n",
       "  'seis2_1_12_vel2_1_12',\n",
       "  'seis2_1_13_vel2_1_13',\n",
       "  'seis2_1_14_vel2_1_14',\n",
       "  'seis2_1_15_vel2_1_15',\n",
       "  'seis2_1_16_vel2_1_16',\n",
       "  'seis2_1_17_vel2_1_17',\n",
       "  'seis2_1_18_vel2_1_18',\n",
       "  'seis2_1_19_vel2_1_19',\n",
       "  'seis2_1_1_vel2_1_1',\n",
       "  'seis2_1_20_vel2_1_20',\n",
       "  'seis2_1_21_vel2_1_21',\n",
       "  'seis2_1_22_vel2_1_22',\n",
       "  'seis2_1_23_vel2_1_23',\n",
       "  'seis2_1_24_vel2_1_24',\n",
       "  'seis2_1_25_vel2_1_25',\n",
       "  'seis2_1_26_vel2_1_26',\n",
       "  'seis2_1_27_vel2_1_27',\n",
       "  'seis2_1_28_vel2_1_28',\n",
       "  'seis2_1_29_vel2_1_29',\n",
       "  'seis2_1_2_vel2_1_2',\n",
       "  'seis2_1_30_vel2_1_30',\n",
       "  'seis2_1_31_vel2_1_31',\n",
       "  'seis2_1_32_vel2_1_32',\n",
       "  'seis2_1_33_vel2_1_33',\n",
       "  'seis2_1_34_vel2_1_34',\n",
       "  'seis2_1_35_vel2_1_35',\n",
       "  'seis2_1_3_vel2_1_3',\n",
       "  'seis2_1_4_vel2_1_4',\n",
       "  'seis2_1_5_vel2_1_5',\n",
       "  'seis2_1_6_vel2_1_6',\n",
       "  'seis2_1_7_vel2_1_7',\n",
       "  'seis2_1_8_vel2_1_8',\n",
       "  'seis2_1_9_vel2_1_9',\n",
       "  'seis3_1_0_vel3_1_0',\n",
       "  'seis3_1_10_vel3_1_10',\n",
       "  'seis3_1_11_vel3_1_11',\n",
       "  'seis3_1_12_vel3_1_12',\n",
       "  'seis3_1_13_vel3_1_13',\n",
       "  'seis3_1_14_vel3_1_14',\n",
       "  'seis3_1_15_vel3_1_15',\n",
       "  'seis3_1_16_vel3_1_16',\n",
       "  'seis3_1_17_vel3_1_17',\n",
       "  'seis3_1_18_vel3_1_18',\n",
       "  'seis3_1_19_vel3_1_19',\n",
       "  'seis3_1_1_vel3_1_1',\n",
       "  'seis3_1_20_vel3_1_20',\n",
       "  'seis3_1_21_vel3_1_21',\n",
       "  'seis3_1_22_vel3_1_22',\n",
       "  'seis3_1_23_vel3_1_23',\n",
       "  'seis3_1_24_vel3_1_24',\n",
       "  'seis3_1_25_vel3_1_25',\n",
       "  'seis3_1_26_vel3_1_26',\n",
       "  'seis3_1_27_vel3_1_27',\n",
       "  'seis3_1_28_vel3_1_28',\n",
       "  'seis3_1_29_vel3_1_29',\n",
       "  'seis3_1_2_vel3_1_2',\n",
       "  'seis3_1_30_vel3_1_30',\n",
       "  'seis3_1_31_vel3_1_31',\n",
       "  'seis3_1_32_vel3_1_32',\n",
       "  'seis3_1_33_vel3_1_33',\n",
       "  'seis3_1_34_vel3_1_34',\n",
       "  'seis3_1_35_vel3_1_35',\n",
       "  'seis3_1_3_vel3_1_3',\n",
       "  'seis3_1_4_vel3_1_4',\n",
       "  'seis3_1_5_vel3_1_5',\n",
       "  'seis3_1_6_vel3_1_6',\n",
       "  'seis3_1_7_vel3_1_7',\n",
       "  'seis3_1_8_vel3_1_8',\n",
       "  'seis3_1_9_vel3_1_9',\n",
       "  'seis4_1_0_vel4_1_0',\n",
       "  'seis4_1_10_vel4_1_10',\n",
       "  'seis4_1_11_vel4_1_11',\n",
       "  'seis4_1_12_vel4_1_12',\n",
       "  'seis4_1_13_vel4_1_13',\n",
       "  'seis4_1_14_vel4_1_14',\n",
       "  'seis4_1_15_vel4_1_15',\n",
       "  'seis4_1_16_vel4_1_16',\n",
       "  'seis4_1_17_vel4_1_17',\n",
       "  'seis4_1_18_vel4_1_18',\n",
       "  'seis4_1_19_vel4_1_19',\n",
       "  'seis4_1_1_vel4_1_1',\n",
       "  'seis4_1_20_vel4_1_20',\n",
       "  'seis4_1_21_vel4_1_21',\n",
       "  'seis4_1_22_vel4_1_22',\n",
       "  'seis4_1_23_vel4_1_23',\n",
       "  'seis4_1_24_vel4_1_24',\n",
       "  'seis4_1_25_vel4_1_25',\n",
       "  'seis4_1_26_vel4_1_26',\n",
       "  'seis4_1_27_vel4_1_27',\n",
       "  'seis4_1_28_vel4_1_28',\n",
       "  'seis4_1_29_vel4_1_29',\n",
       "  'seis4_1_2_vel4_1_2',\n",
       "  'seis4_1_30_vel4_1_30',\n",
       "  'seis4_1_31_vel4_1_31',\n",
       "  'seis4_1_32_vel4_1_32',\n",
       "  'seis4_1_33_vel4_1_33',\n",
       "  'seis4_1_34_vel4_1_34',\n",
       "  'seis4_1_35_vel4_1_35',\n",
       "  'seis4_1_3_vel4_1_3',\n",
       "  'seis4_1_4_vel4_1_4',\n",
       "  'seis4_1_5_vel4_1_5',\n",
       "  'seis4_1_6_vel4_1_6',\n",
       "  'seis4_1_7_vel4_1_7',\n",
       "  'seis4_1_8_vel4_1_8',\n",
       "  'seis4_1_9_vel4_1_9'},\n",
       " 'CurveFault_B': {'seis6_1_0_vel6_1_0',\n",
       "  'seis6_1_10_vel6_1_10',\n",
       "  'seis6_1_11_vel6_1_11',\n",
       "  'seis6_1_12_vel6_1_12',\n",
       "  'seis6_1_13_vel6_1_13',\n",
       "  'seis6_1_14_vel6_1_14',\n",
       "  'seis6_1_15_vel6_1_15',\n",
       "  'seis6_1_16_vel6_1_16',\n",
       "  'seis6_1_17_vel6_1_17',\n",
       "  'seis6_1_18_vel6_1_18',\n",
       "  'seis6_1_19_vel6_1_19',\n",
       "  'seis6_1_1_vel6_1_1',\n",
       "  'seis6_1_20_vel6_1_20',\n",
       "  'seis6_1_21_vel6_1_21',\n",
       "  'seis6_1_22_vel6_1_22',\n",
       "  'seis6_1_23_vel6_1_23',\n",
       "  'seis6_1_24_vel6_1_24',\n",
       "  'seis6_1_25_vel6_1_25',\n",
       "  'seis6_1_26_vel6_1_26',\n",
       "  'seis6_1_27_vel6_1_27',\n",
       "  'seis6_1_28_vel6_1_28',\n",
       "  'seis6_1_29_vel6_1_29',\n",
       "  'seis6_1_2_vel6_1_2',\n",
       "  'seis6_1_30_vel6_1_30',\n",
       "  'seis6_1_31_vel6_1_31',\n",
       "  'seis6_1_32_vel6_1_32',\n",
       "  'seis6_1_33_vel6_1_33',\n",
       "  'seis6_1_34_vel6_1_34',\n",
       "  'seis6_1_35_vel6_1_35',\n",
       "  'seis6_1_3_vel6_1_3',\n",
       "  'seis6_1_4_vel6_1_4',\n",
       "  'seis6_1_5_vel6_1_5',\n",
       "  'seis6_1_6_vel6_1_6',\n",
       "  'seis6_1_7_vel6_1_7',\n",
       "  'seis6_1_8_vel6_1_8',\n",
       "  'seis6_1_9_vel6_1_9',\n",
       "  'seis7_1_0_vel7_1_0',\n",
       "  'seis7_1_10_vel7_1_10',\n",
       "  'seis7_1_11_vel7_1_11',\n",
       "  'seis7_1_12_vel7_1_12',\n",
       "  'seis7_1_13_vel7_1_13',\n",
       "  'seis7_1_14_vel7_1_14',\n",
       "  'seis7_1_15_vel7_1_15',\n",
       "  'seis7_1_16_vel7_1_16',\n",
       "  'seis7_1_17_vel7_1_17',\n",
       "  'seis7_1_18_vel7_1_18',\n",
       "  'seis7_1_19_vel7_1_19',\n",
       "  'seis7_1_1_vel7_1_1',\n",
       "  'seis7_1_20_vel7_1_20',\n",
       "  'seis7_1_21_vel7_1_21',\n",
       "  'seis7_1_22_vel7_1_22',\n",
       "  'seis7_1_23_vel7_1_23',\n",
       "  'seis7_1_24_vel7_1_24',\n",
       "  'seis7_1_25_vel7_1_25',\n",
       "  'seis7_1_26_vel7_1_26',\n",
       "  'seis7_1_27_vel7_1_27',\n",
       "  'seis7_1_28_vel7_1_28',\n",
       "  'seis7_1_29_vel7_1_29',\n",
       "  'seis7_1_2_vel7_1_2',\n",
       "  'seis7_1_30_vel7_1_30',\n",
       "  'seis7_1_31_vel7_1_31',\n",
       "  'seis7_1_32_vel7_1_32',\n",
       "  'seis7_1_33_vel7_1_33',\n",
       "  'seis7_1_34_vel7_1_34',\n",
       "  'seis7_1_35_vel7_1_35',\n",
       "  'seis7_1_3_vel7_1_3',\n",
       "  'seis7_1_4_vel7_1_4',\n",
       "  'seis7_1_5_vel7_1_5',\n",
       "  'seis7_1_6_vel7_1_6',\n",
       "  'seis7_1_7_vel7_1_7',\n",
       "  'seis7_1_8_vel7_1_8',\n",
       "  'seis7_1_9_vel7_1_9',\n",
       "  'seis8_1_0_vel8_1_0',\n",
       "  'seis8_1_10_vel8_1_10',\n",
       "  'seis8_1_11_vel8_1_11',\n",
       "  'seis8_1_12_vel8_1_12',\n",
       "  'seis8_1_13_vel8_1_13',\n",
       "  'seis8_1_14_vel8_1_14',\n",
       "  'seis8_1_15_vel8_1_15',\n",
       "  'seis8_1_16_vel8_1_16',\n",
       "  'seis8_1_17_vel8_1_17',\n",
       "  'seis8_1_18_vel8_1_18',\n",
       "  'seis8_1_19_vel8_1_19',\n",
       "  'seis8_1_1_vel8_1_1',\n",
       "  'seis8_1_20_vel8_1_20',\n",
       "  'seis8_1_21_vel8_1_21',\n",
       "  'seis8_1_22_vel8_1_22',\n",
       "  'seis8_1_23_vel8_1_23',\n",
       "  'seis8_1_24_vel8_1_24',\n",
       "  'seis8_1_25_vel8_1_25',\n",
       "  'seis8_1_26_vel8_1_26',\n",
       "  'seis8_1_27_vel8_1_27',\n",
       "  'seis8_1_28_vel8_1_28',\n",
       "  'seis8_1_29_vel8_1_29',\n",
       "  'seis8_1_2_vel8_1_2',\n",
       "  'seis8_1_30_vel8_1_30',\n",
       "  'seis8_1_31_vel8_1_31',\n",
       "  'seis8_1_32_vel8_1_32',\n",
       "  'seis8_1_33_vel8_1_33',\n",
       "  'seis8_1_34_vel8_1_34',\n",
       "  'seis8_1_35_vel8_1_35',\n",
       "  'seis8_1_3_vel8_1_3',\n",
       "  'seis8_1_4_vel8_1_4',\n",
       "  'seis8_1_5_vel8_1_5',\n",
       "  'seis8_1_6_vel8_1_6',\n",
       "  'seis8_1_7_vel8_1_7',\n",
       "  'seis8_1_8_vel8_1_8',\n",
       "  'seis8_1_9_vel8_1_9'},\n",
       " 'CurveVel_A': {'data10_model10',\n",
       "  'data11_model11',\n",
       "  'data12_model12',\n",
       "  'data13_model13',\n",
       "  'data14_model14',\n",
       "  'data15_model15',\n",
       "  'data16_model16',\n",
       "  'data17_model17',\n",
       "  'data18_model18',\n",
       "  'data19_model19',\n",
       "  'data1_model1',\n",
       "  'data20_model20',\n",
       "  'data21_model21',\n",
       "  'data22_model22',\n",
       "  'data23_model23',\n",
       "  'data24_model24',\n",
       "  'data25_model25',\n",
       "  'data26_model26',\n",
       "  'data27_model27',\n",
       "  'data28_model28',\n",
       "  'data29_model29',\n",
       "  'data2_model2',\n",
       "  'data30_model30',\n",
       "  'data31_model31',\n",
       "  'data32_model32',\n",
       "  'data33_model33',\n",
       "  'data34_model34',\n",
       "  'data35_model35',\n",
       "  'data36_model36',\n",
       "  'data37_model37',\n",
       "  'data38_model38',\n",
       "  'data39_model39',\n",
       "  'data3_model3',\n",
       "  'data40_model40',\n",
       "  'data41_model41',\n",
       "  'data42_model42',\n",
       "  'data43_model43',\n",
       "  'data44_model44',\n",
       "  'data45_model45',\n",
       "  'data46_model46',\n",
       "  'data47_model47',\n",
       "  'data48_model48',\n",
       "  'data49_model49',\n",
       "  'data4_model4',\n",
       "  'data50_model50',\n",
       "  'data51_model51',\n",
       "  'data52_model52',\n",
       "  'data53_model53',\n",
       "  'data54_model54',\n",
       "  'data55_model55',\n",
       "  'data56_model56',\n",
       "  'data57_model57',\n",
       "  'data58_model58',\n",
       "  'data59_model59',\n",
       "  'data5_model5',\n",
       "  'data60_model60',\n",
       "  'data6_model6',\n",
       "  'data7_model7',\n",
       "  'data8_model8',\n",
       "  'data9_model9'},\n",
       " 'CurveVel_B': {'data10_model10',\n",
       "  'data11_model11',\n",
       "  'data12_model12',\n",
       "  'data13_model13',\n",
       "  'data14_model14',\n",
       "  'data15_model15',\n",
       "  'data16_model16',\n",
       "  'data17_model17',\n",
       "  'data18_model18',\n",
       "  'data19_model19',\n",
       "  'data1_model1',\n",
       "  'data20_model20',\n",
       "  'data21_model21',\n",
       "  'data22_model22',\n",
       "  'data23_model23',\n",
       "  'data24_model24',\n",
       "  'data25_model25',\n",
       "  'data26_model26',\n",
       "  'data27_model27',\n",
       "  'data28_model28',\n",
       "  'data29_model29',\n",
       "  'data2_model2',\n",
       "  'data30_model30',\n",
       "  'data31_model31',\n",
       "  'data32_model32',\n",
       "  'data33_model33',\n",
       "  'data34_model34',\n",
       "  'data35_model35',\n",
       "  'data36_model36',\n",
       "  'data37_model37',\n",
       "  'data38_model38',\n",
       "  'data39_model39',\n",
       "  'data3_model3',\n",
       "  'data40_model40',\n",
       "  'data41_model41',\n",
       "  'data42_model42',\n",
       "  'data43_model43',\n",
       "  'data44_model44',\n",
       "  'data45_model45',\n",
       "  'data46_model46',\n",
       "  'data47_model47',\n",
       "  'data48_model48',\n",
       "  'data49_model49',\n",
       "  'data4_model4',\n",
       "  'data50_model50',\n",
       "  'data51_model51',\n",
       "  'data52_model52',\n",
       "  'data53_model53',\n",
       "  'data54_model54',\n",
       "  'data55_model55',\n",
       "  'data56_model56',\n",
       "  'data57_model57',\n",
       "  'data58_model58',\n",
       "  'data59_model59',\n",
       "  'data5_model5',\n",
       "  'data60_model60',\n",
       "  'data6_model6',\n",
       "  'data7_model7',\n",
       "  'data8_model8',\n",
       "  'data9_model9'},\n",
       " 'FlatFault_A': {'seis2_1_0_vel2_1_0',\n",
       "  'seis2_1_10_vel2_1_10',\n",
       "  'seis2_1_11_vel2_1_11',\n",
       "  'seis2_1_12_vel2_1_12',\n",
       "  'seis2_1_13_vel2_1_13',\n",
       "  'seis2_1_14_vel2_1_14',\n",
       "  'seis2_1_15_vel2_1_15',\n",
       "  'seis2_1_16_vel2_1_16',\n",
       "  'seis2_1_17_vel2_1_17',\n",
       "  'seis2_1_18_vel2_1_18',\n",
       "  'seis2_1_19_vel2_1_19',\n",
       "  'seis2_1_1_vel2_1_1',\n",
       "  'seis2_1_20_vel2_1_20',\n",
       "  'seis2_1_21_vel2_1_21',\n",
       "  'seis2_1_22_vel2_1_22',\n",
       "  'seis2_1_23_vel2_1_23',\n",
       "  'seis2_1_24_vel2_1_24',\n",
       "  'seis2_1_25_vel2_1_25',\n",
       "  'seis2_1_26_vel2_1_26',\n",
       "  'seis2_1_27_vel2_1_27',\n",
       "  'seis2_1_28_vel2_1_28',\n",
       "  'seis2_1_29_vel2_1_29',\n",
       "  'seis2_1_2_vel2_1_2',\n",
       "  'seis2_1_30_vel2_1_30',\n",
       "  'seis2_1_31_vel2_1_31',\n",
       "  'seis2_1_32_vel2_1_32',\n",
       "  'seis2_1_33_vel2_1_33',\n",
       "  'seis2_1_34_vel2_1_34',\n",
       "  'seis2_1_35_vel2_1_35',\n",
       "  'seis2_1_3_vel2_1_3',\n",
       "  'seis2_1_4_vel2_1_4',\n",
       "  'seis2_1_5_vel2_1_5',\n",
       "  'seis2_1_6_vel2_1_6',\n",
       "  'seis2_1_7_vel2_1_7',\n",
       "  'seis2_1_8_vel2_1_8',\n",
       "  'seis2_1_9_vel2_1_9',\n",
       "  'seis3_1_0_vel3_1_0',\n",
       "  'seis3_1_10_vel3_1_10',\n",
       "  'seis3_1_11_vel3_1_11',\n",
       "  'seis3_1_12_vel3_1_12',\n",
       "  'seis3_1_13_vel3_1_13',\n",
       "  'seis3_1_14_vel3_1_14',\n",
       "  'seis3_1_15_vel3_1_15',\n",
       "  'seis3_1_16_vel3_1_16',\n",
       "  'seis3_1_17_vel3_1_17',\n",
       "  'seis3_1_18_vel3_1_18',\n",
       "  'seis3_1_19_vel3_1_19',\n",
       "  'seis3_1_1_vel3_1_1',\n",
       "  'seis3_1_20_vel3_1_20',\n",
       "  'seis3_1_21_vel3_1_21',\n",
       "  'seis3_1_22_vel3_1_22',\n",
       "  'seis3_1_23_vel3_1_23',\n",
       "  'seis3_1_24_vel3_1_24',\n",
       "  'seis3_1_25_vel3_1_25',\n",
       "  'seis3_1_26_vel3_1_26',\n",
       "  'seis3_1_27_vel3_1_27',\n",
       "  'seis3_1_28_vel3_1_28',\n",
       "  'seis3_1_29_vel3_1_29',\n",
       "  'seis3_1_2_vel3_1_2',\n",
       "  'seis3_1_30_vel3_1_30',\n",
       "  'seis3_1_31_vel3_1_31',\n",
       "  'seis3_1_32_vel3_1_32',\n",
       "  'seis3_1_33_vel3_1_33',\n",
       "  'seis3_1_34_vel3_1_34',\n",
       "  'seis3_1_35_vel3_1_35',\n",
       "  'seis3_1_3_vel3_1_3',\n",
       "  'seis3_1_4_vel3_1_4',\n",
       "  'seis3_1_5_vel3_1_5',\n",
       "  'seis3_1_6_vel3_1_6',\n",
       "  'seis3_1_7_vel3_1_7',\n",
       "  'seis3_1_8_vel3_1_8',\n",
       "  'seis3_1_9_vel3_1_9',\n",
       "  'seis4_1_0_vel4_1_0',\n",
       "  'seis4_1_10_vel4_1_10',\n",
       "  'seis4_1_11_vel4_1_11',\n",
       "  'seis4_1_12_vel4_1_12',\n",
       "  'seis4_1_13_vel4_1_13',\n",
       "  'seis4_1_14_vel4_1_14',\n",
       "  'seis4_1_15_vel4_1_15',\n",
       "  'seis4_1_16_vel4_1_16',\n",
       "  'seis4_1_17_vel4_1_17',\n",
       "  'seis4_1_18_vel4_1_18',\n",
       "  'seis4_1_19_vel4_1_19',\n",
       "  'seis4_1_1_vel4_1_1',\n",
       "  'seis4_1_20_vel4_1_20',\n",
       "  'seis4_1_21_vel4_1_21',\n",
       "  'seis4_1_22_vel4_1_22',\n",
       "  'seis4_1_23_vel4_1_23',\n",
       "  'seis4_1_24_vel4_1_24',\n",
       "  'seis4_1_25_vel4_1_25',\n",
       "  'seis4_1_26_vel4_1_26',\n",
       "  'seis4_1_27_vel4_1_27',\n",
       "  'seis4_1_28_vel4_1_28',\n",
       "  'seis4_1_29_vel4_1_29',\n",
       "  'seis4_1_2_vel4_1_2',\n",
       "  'seis4_1_30_vel4_1_30',\n",
       "  'seis4_1_31_vel4_1_31',\n",
       "  'seis4_1_32_vel4_1_32',\n",
       "  'seis4_1_33_vel4_1_33',\n",
       "  'seis4_1_34_vel4_1_34',\n",
       "  'seis4_1_35_vel4_1_35',\n",
       "  'seis4_1_3_vel4_1_3',\n",
       "  'seis4_1_4_vel4_1_4',\n",
       "  'seis4_1_5_vel4_1_5',\n",
       "  'seis4_1_6_vel4_1_6',\n",
       "  'seis4_1_7_vel4_1_7',\n",
       "  'seis4_1_8_vel4_1_8',\n",
       "  'seis4_1_9_vel4_1_9'},\n",
       " 'FlatFault_B': {'seis6_1_0_vel6_1_0',\n",
       "  'seis6_1_10_vel6_1_10',\n",
       "  'seis6_1_11_vel6_1_11',\n",
       "  'seis6_1_12_vel6_1_12',\n",
       "  'seis6_1_13_vel6_1_13',\n",
       "  'seis6_1_14_vel6_1_14',\n",
       "  'seis6_1_15_vel6_1_15',\n",
       "  'seis6_1_16_vel6_1_16',\n",
       "  'seis6_1_17_vel6_1_17',\n",
       "  'seis6_1_18_vel6_1_18',\n",
       "  'seis6_1_19_vel6_1_19',\n",
       "  'seis6_1_1_vel6_1_1',\n",
       "  'seis6_1_20_vel6_1_20',\n",
       "  'seis6_1_21_vel6_1_21',\n",
       "  'seis6_1_22_vel6_1_22',\n",
       "  'seis6_1_23_vel6_1_23',\n",
       "  'seis6_1_24_vel6_1_24',\n",
       "  'seis6_1_25_vel6_1_25',\n",
       "  'seis6_1_26_vel6_1_26',\n",
       "  'seis6_1_27_vel6_1_27',\n",
       "  'seis6_1_28_vel6_1_28',\n",
       "  'seis6_1_29_vel6_1_29',\n",
       "  'seis6_1_2_vel6_1_2',\n",
       "  'seis6_1_30_vel6_1_30',\n",
       "  'seis6_1_31_vel6_1_31',\n",
       "  'seis6_1_32_vel6_1_32',\n",
       "  'seis6_1_33_vel6_1_33',\n",
       "  'seis6_1_34_vel6_1_34',\n",
       "  'seis6_1_35_vel6_1_35',\n",
       "  'seis6_1_3_vel6_1_3',\n",
       "  'seis6_1_4_vel6_1_4',\n",
       "  'seis6_1_5_vel6_1_5',\n",
       "  'seis6_1_6_vel6_1_6',\n",
       "  'seis6_1_7_vel6_1_7',\n",
       "  'seis6_1_8_vel6_1_8',\n",
       "  'seis6_1_9_vel6_1_9',\n",
       "  'seis7_1_0_vel7_1_0',\n",
       "  'seis7_1_10_vel7_1_10',\n",
       "  'seis7_1_11_vel7_1_11',\n",
       "  'seis7_1_12_vel7_1_12',\n",
       "  'seis7_1_13_vel7_1_13',\n",
       "  'seis7_1_14_vel7_1_14',\n",
       "  'seis7_1_15_vel7_1_15',\n",
       "  'seis7_1_16_vel7_1_16',\n",
       "  'seis7_1_17_vel7_1_17',\n",
       "  'seis7_1_18_vel7_1_18',\n",
       "  'seis7_1_19_vel7_1_19',\n",
       "  'seis7_1_1_vel7_1_1',\n",
       "  'seis7_1_20_vel7_1_20',\n",
       "  'seis7_1_21_vel7_1_21',\n",
       "  'seis7_1_22_vel7_1_22',\n",
       "  'seis7_1_23_vel7_1_23',\n",
       "  'seis7_1_24_vel7_1_24',\n",
       "  'seis7_1_25_vel7_1_25',\n",
       "  'seis7_1_26_vel7_1_26',\n",
       "  'seis7_1_27_vel7_1_27',\n",
       "  'seis7_1_28_vel7_1_28',\n",
       "  'seis7_1_29_vel7_1_29',\n",
       "  'seis7_1_2_vel7_1_2',\n",
       "  'seis7_1_30_vel7_1_30',\n",
       "  'seis7_1_31_vel7_1_31',\n",
       "  'seis7_1_32_vel7_1_32',\n",
       "  'seis7_1_33_vel7_1_33',\n",
       "  'seis7_1_34_vel7_1_34',\n",
       "  'seis7_1_35_vel7_1_35',\n",
       "  'seis7_1_3_vel7_1_3',\n",
       "  'seis7_1_4_vel7_1_4',\n",
       "  'seis7_1_5_vel7_1_5',\n",
       "  'seis7_1_6_vel7_1_6',\n",
       "  'seis7_1_7_vel7_1_7',\n",
       "  'seis7_1_8_vel7_1_8',\n",
       "  'seis7_1_9_vel7_1_9',\n",
       "  'seis8_1_0_vel8_1_0',\n",
       "  'seis8_1_10_vel8_1_10',\n",
       "  'seis8_1_11_vel8_1_11',\n",
       "  'seis8_1_12_vel8_1_12',\n",
       "  'seis8_1_13_vel8_1_13',\n",
       "  'seis8_1_14_vel8_1_14',\n",
       "  'seis8_1_15_vel8_1_15',\n",
       "  'seis8_1_16_vel8_1_16',\n",
       "  'seis8_1_17_vel8_1_17',\n",
       "  'seis8_1_18_vel8_1_18',\n",
       "  'seis8_1_19_vel8_1_19',\n",
       "  'seis8_1_1_vel8_1_1',\n",
       "  'seis8_1_20_vel8_1_20',\n",
       "  'seis8_1_21_vel8_1_21',\n",
       "  'seis8_1_22_vel8_1_22',\n",
       "  'seis8_1_23_vel8_1_23',\n",
       "  'seis8_1_24_vel8_1_24',\n",
       "  'seis8_1_25_vel8_1_25',\n",
       "  'seis8_1_26_vel8_1_26',\n",
       "  'seis8_1_27_vel8_1_27',\n",
       "  'seis8_1_28_vel8_1_28',\n",
       "  'seis8_1_29_vel8_1_29',\n",
       "  'seis8_1_2_vel8_1_2',\n",
       "  'seis8_1_30_vel8_1_30',\n",
       "  'seis8_1_31_vel8_1_31',\n",
       "  'seis8_1_32_vel8_1_32',\n",
       "  'seis8_1_33_vel8_1_33',\n",
       "  'seis8_1_34_vel8_1_34',\n",
       "  'seis8_1_35_vel8_1_35',\n",
       "  'seis8_1_3_vel8_1_3',\n",
       "  'seis8_1_4_vel8_1_4',\n",
       "  'seis8_1_5_vel8_1_5',\n",
       "  'seis8_1_6_vel8_1_6',\n",
       "  'seis8_1_7_vel8_1_7',\n",
       "  'seis8_1_8_vel8_1_8',\n",
       "  'seis8_1_9_vel8_1_9'},\n",
       " 'FlatVel_A': {'data10_model10',\n",
       "  'data11_model11',\n",
       "  'data12_model12',\n",
       "  'data13_model13',\n",
       "  'data14_model14',\n",
       "  'data15_model15',\n",
       "  'data16_model16',\n",
       "  'data17_model17',\n",
       "  'data18_model18',\n",
       "  'data19_model19',\n",
       "  'data1_model1',\n",
       "  'data20_model20',\n",
       "  'data21_model21',\n",
       "  'data22_model22',\n",
       "  'data23_model23',\n",
       "  'data24_model24',\n",
       "  'data25_model25',\n",
       "  'data26_model26',\n",
       "  'data27_model27',\n",
       "  'data28_model28',\n",
       "  'data29_model29',\n",
       "  'data2_model2',\n",
       "  'data30_model30',\n",
       "  'data31_model31',\n",
       "  'data32_model32',\n",
       "  'data33_model33',\n",
       "  'data34_model34',\n",
       "  'data35_model35',\n",
       "  'data36_model36',\n",
       "  'data37_model37',\n",
       "  'data38_model38',\n",
       "  'data39_model39',\n",
       "  'data3_model3',\n",
       "  'data40_model40',\n",
       "  'data41_model41',\n",
       "  'data42_model42',\n",
       "  'data43_model43',\n",
       "  'data44_model44',\n",
       "  'data45_model45',\n",
       "  'data46_model46',\n",
       "  'data47_model47',\n",
       "  'data48_model48',\n",
       "  'data49_model49',\n",
       "  'data4_model4',\n",
       "  'data50_model50',\n",
       "  'data51_model51',\n",
       "  'data52_model52',\n",
       "  'data53_model53',\n",
       "  'data54_model54',\n",
       "  'data55_model55',\n",
       "  'data56_model56',\n",
       "  'data57_model57',\n",
       "  'data58_model58',\n",
       "  'data59_model59',\n",
       "  'data5_model5',\n",
       "  'data60_model60',\n",
       "  'data6_model6',\n",
       "  'data7_model7',\n",
       "  'data8_model8',\n",
       "  'data9_model9'},\n",
       " 'FlatVel_B': {'data10_model10',\n",
       "  'data11_model11',\n",
       "  'data12_model12',\n",
       "  'data13_model13',\n",
       "  'data14_model14',\n",
       "  'data15_model15',\n",
       "  'data16_model16',\n",
       "  'data17_model17',\n",
       "  'data18_model18',\n",
       "  'data19_model19',\n",
       "  'data1_model1',\n",
       "  'data20_model20',\n",
       "  'data21_model21',\n",
       "  'data22_model22',\n",
       "  'data23_model23',\n",
       "  'data24_model24',\n",
       "  'data25_model25',\n",
       "  'data26_model26',\n",
       "  'data27_model27',\n",
       "  'data28_model28',\n",
       "  'data29_model29',\n",
       "  'data2_model2',\n",
       "  'data30_model30',\n",
       "  'data31_model31',\n",
       "  'data32_model32',\n",
       "  'data33_model33',\n",
       "  'data34_model34',\n",
       "  'data35_model35',\n",
       "  'data36_model36',\n",
       "  'data37_model37',\n",
       "  'data38_model38',\n",
       "  'data39_model39',\n",
       "  'data3_model3',\n",
       "  'data40_model40',\n",
       "  'data41_model41',\n",
       "  'data42_model42',\n",
       "  'data43_model43',\n",
       "  'data44_model44',\n",
       "  'data45_model45',\n",
       "  'data46_model46',\n",
       "  'data47_model47',\n",
       "  'data48_model48',\n",
       "  'data49_model49',\n",
       "  'data4_model4',\n",
       "  'data50_model50',\n",
       "  'data51_model51',\n",
       "  'data52_model52',\n",
       "  'data53_model53',\n",
       "  'data54_model54',\n",
       "  'data55_model55',\n",
       "  'data56_model56',\n",
       "  'data57_model57',\n",
       "  'data58_model58',\n",
       "  'data59_model59',\n",
       "  'data5_model5',\n",
       "  'data60_model60',\n",
       "  'data6_model6',\n",
       "  'data7_model7',\n",
       "  'data8_model8',\n",
       "  'data9_model9'},\n",
       " 'Style_A': {'data101_model101',\n",
       "  'data102_model102',\n",
       "  'data105_model105',\n",
       "  'data106_model106',\n",
       "  'data109_model109',\n",
       "  'data10_model10',\n",
       "  'data110_model110',\n",
       "  'data111_model111',\n",
       "  'data112_model112',\n",
       "  'data113_model113',\n",
       "  'data115_model115',\n",
       "  'data118_model118',\n",
       "  'data119_model119',\n",
       "  'data11_model11',\n",
       "  'data120_model120',\n",
       "  'data121_model121',\n",
       "  'data123_model123',\n",
       "  'data125_model125',\n",
       "  'data126_model126',\n",
       "  'data128_model128',\n",
       "  'data12_model12',\n",
       "  'data130_model130',\n",
       "  'data131_model131',\n",
       "  'data132_model132',\n",
       "  'data133_model133',\n",
       "  'data13_model13',\n",
       "  'data14_model14',\n",
       "  'data16_model16',\n",
       "  'data17_model17',\n",
       "  'data18_model18',\n",
       "  'data19_model19',\n",
       "  'data1_model1',\n",
       "  'data20_model20',\n",
       "  'data23_model23',\n",
       "  'data25_model25',\n",
       "  'data26_model26',\n",
       "  'data27_model27',\n",
       "  'data28_model28',\n",
       "  'data29_model29',\n",
       "  'data31_model31',\n",
       "  'data32_model32',\n",
       "  'data34_model34',\n",
       "  'data35_model35',\n",
       "  'data36_model36',\n",
       "  'data37_model37',\n",
       "  'data39_model39',\n",
       "  'data40_model40',\n",
       "  'data41_model41',\n",
       "  'data42_model42',\n",
       "  'data43_model43',\n",
       "  'data44_model44',\n",
       "  'data45_model45',\n",
       "  'data46_model46',\n",
       "  'data47_model47',\n",
       "  'data48_model48',\n",
       "  'data49_model49',\n",
       "  'data4_model4',\n",
       "  'data50_model50',\n",
       "  'data51_model51',\n",
       "  'data52_model52',\n",
       "  'data54_model54',\n",
       "  'data55_model55',\n",
       "  'data56_model56',\n",
       "  'data57_model57',\n",
       "  'data59_model59',\n",
       "  'data5_model5',\n",
       "  'data61_model61',\n",
       "  'data62_model62',\n",
       "  'data63_model63',\n",
       "  'data65_model65',\n",
       "  'data66_model66',\n",
       "  'data67_model67',\n",
       "  'data68_model68',\n",
       "  'data69_model69',\n",
       "  'data6_model6',\n",
       "  'data70_model70',\n",
       "  'data71_model71',\n",
       "  'data73_model73',\n",
       "  'data74_model74',\n",
       "  'data77_model77',\n",
       "  'data78_model78',\n",
       "  'data79_model79',\n",
       "  'data7_model7',\n",
       "  'data80_model80',\n",
       "  'data81_model81',\n",
       "  'data82_model82',\n",
       "  'data84_model84',\n",
       "  'data85_model85',\n",
       "  'data86_model86',\n",
       "  'data8_model8',\n",
       "  'data90_model90',\n",
       "  'data91_model91',\n",
       "  'data92_model92',\n",
       "  'data94_model94',\n",
       "  'data95_model95',\n",
       "  'data96_model96',\n",
       "  'data97_model97',\n",
       "  'data98_model98',\n",
       "  'data99_model99',\n",
       "  'data9_model9'},\n",
       " 'Style_B': {'data101_model101',\n",
       "  'data102_model102',\n",
       "  'data105_model105',\n",
       "  'data106_model106',\n",
       "  'data109_model109',\n",
       "  'data10_model10',\n",
       "  'data110_model110',\n",
       "  'data111_model111',\n",
       "  'data112_model112',\n",
       "  'data113_model113',\n",
       "  'data115_model115',\n",
       "  'data118_model118',\n",
       "  'data119_model119',\n",
       "  'data11_model11',\n",
       "  'data120_model120',\n",
       "  'data121_model121',\n",
       "  'data123_model123',\n",
       "  'data125_model125',\n",
       "  'data126_model126',\n",
       "  'data128_model128',\n",
       "  'data12_model12',\n",
       "  'data130_model130',\n",
       "  'data131_model131',\n",
       "  'data132_model132',\n",
       "  'data133_model133',\n",
       "  'data13_model13',\n",
       "  'data14_model14',\n",
       "  'data16_model16',\n",
       "  'data17_model17',\n",
       "  'data18_model18',\n",
       "  'data19_model19',\n",
       "  'data1_model1',\n",
       "  'data20_model20',\n",
       "  'data23_model23',\n",
       "  'data25_model25',\n",
       "  'data26_model26',\n",
       "  'data27_model27',\n",
       "  'data28_model28',\n",
       "  'data29_model29',\n",
       "  'data31_model31',\n",
       "  'data32_model32',\n",
       "  'data34_model34',\n",
       "  'data35_model35',\n",
       "  'data36_model36',\n",
       "  'data37_model37',\n",
       "  'data39_model39',\n",
       "  'data40_model40',\n",
       "  'data41_model41',\n",
       "  'data42_model42',\n",
       "  'data43_model43',\n",
       "  'data44_model44',\n",
       "  'data45_model45',\n",
       "  'data46_model46',\n",
       "  'data47_model47',\n",
       "  'data48_model48',\n",
       "  'data49_model49',\n",
       "  'data4_model4',\n",
       "  'data50_model50',\n",
       "  'data51_model51',\n",
       "  'data52_model52',\n",
       "  'data54_model54',\n",
       "  'data55_model55',\n",
       "  'data56_model56',\n",
       "  'data57_model57',\n",
       "  'data59_model59',\n",
       "  'data5_model5',\n",
       "  'data61_model61',\n",
       "  'data62_model62',\n",
       "  'data63_model63',\n",
       "  'data65_model65',\n",
       "  'data66_model66',\n",
       "  'data67_model67',\n",
       "  'data68_model68',\n",
       "  'data69_model69',\n",
       "  'data6_model6',\n",
       "  'data70_model70',\n",
       "  'data71_model71',\n",
       "  'data73_model73',\n",
       "  'data74_model74',\n",
       "  'data77_model77',\n",
       "  'data78_model78',\n",
       "  'data79_model79',\n",
       "  'data7_model7',\n",
       "  'data80_model80',\n",
       "  'data81_model81',\n",
       "  'data82_model82',\n",
       "  'data84_model84',\n",
       "  'data85_model85',\n",
       "  'data86_model86',\n",
       "  'data8_model8',\n",
       "  'data90_model90',\n",
       "  'data91_model91',\n",
       "  'data92_model92',\n",
       "  'data94_model94',\n",
       "  'data95_model95',\n",
       "  'data96_model96',\n",
       "  'data97_model97',\n",
       "  'data98_model98',\n",
       "  'data99_model99',\n",
       "  'data9_model9'}}"
      ]
     },
     "metadata": {},
     "output_type": "display_data"
    },
    {
     "name": "stdout",
     "output_type": "stream",
     "text": [
      "CurveFault_A 108\n",
      "CurveFault_B 108\n",
      "CurveVel_A 60\n",
      "CurveVel_B 60\n",
      "FlatFault_A 108\n",
      "FlatFault_B 108\n",
      "FlatVel_A 60\n",
      "FlatVel_B 60\n",
      "Style_A 100\n",
      "Style_B 100\n"
     ]
    }
   ],
   "source": [
    "exists = {\n",
    "    \"CurveFault_A\": set(),\n",
    "    \"CurveFault_B\": set(),\n",
    "    \"CurveVel_A\": set(),\n",
    "    \"CurveVel_B\": set(),\n",
    "    \"FlatFault_A\": set(),\n",
    "    \"FlatFault_B\": set(),\n",
    "    \"FlatVel_A\": set(),\n",
    "    \"FlatVel_B\": set(),\n",
    "    \"Style_A\": set(),\n",
    "    \"Style_B\": set(),\n",
    "}\n",
    "\n",
    "for k, v in exists.items():\n",
    "    for p in output_dir.joinpath(k).glob(\"*.npz\"):\n",
    "        exists[k].add(\"_\".join(p.stem.split(\"_\")[:-1]))\n",
    "display(exists)\n",
    "\n",
    "for k, v in exists.items():\n",
    "    print(k, len(v))"
   ]
  },
  {
   "cell_type": "markdown",
   "id": "0f951572",
   "metadata": {},
   "source": [
    "### Load and Save Data"
   ]
  },
  {
   "cell_type": "code",
   "execution_count": 6,
   "id": "83853479",
   "metadata": {},
   "outputs": [],
   "source": [
    "def check_already_exist(x: pd.Series):\n",
    "    path = x.iloc[0].split(\"/\")[-1][:-4] + \"_\" + x.iloc[1].split(\"/\")[-1][:-4]\n",
    "    if path in exists[k]:\n",
    "        return True\n",
    "    else:\n",
    "        return False"
   ]
  },
  {
   "cell_type": "code",
   "execution_count": 7,
   "id": "aa7f632a",
   "metadata": {},
   "outputs": [
    {
     "data": {
      "application/vnd.jupyter.widget-view+json": {
       "model_id": "e86a4176a2b54916b26151147415d4ef",
       "version_major": 2,
       "version_minor": 0
      },
      "text/plain": [
       "Outer loop:   0%|          | 0/2 [00:00<?, ?it/s]"
      ]
     },
     "metadata": {},
     "output_type": "display_data"
    },
    {
     "data": {
      "text/plain": [
       "'Style_A'"
      ]
     },
     "metadata": {},
     "output_type": "display_data"
    },
    {
     "data": {
      "text/plain": [
       "34"
      ]
     },
     "metadata": {},
     "output_type": "display_data"
    },
    {
     "data": {
      "text/html": [
       "<div>\n",
       "<style scoped>\n",
       "    .dataframe tbody tr th:only-of-type {\n",
       "        vertical-align: middle;\n",
       "    }\n",
       "\n",
       "    .dataframe tbody tr th {\n",
       "        vertical-align: top;\n",
       "    }\n",
       "\n",
       "    .dataframe thead th {\n",
       "        text-align: right;\n",
       "    }\n",
       "</style>\n",
       "<table border=\"1\" class=\"dataframe\">\n",
       "  <thead>\n",
       "    <tr style=\"text-align: right;\">\n",
       "      <th></th>\n",
       "      <th>data</th>\n",
       "      <th>model</th>\n",
       "      <th>exist</th>\n",
       "    </tr>\n",
       "  </thead>\n",
       "  <tbody>\n",
       "    <tr>\n",
       "      <th>88</th>\n",
       "      <td>Style_A/data/data89.npy</td>\n",
       "      <td>Style_A/model/model89.npy</td>\n",
       "      <td>False</td>\n",
       "    </tr>\n",
       "    <tr>\n",
       "      <th>115</th>\n",
       "      <td>Style_A/data/data116.npy</td>\n",
       "      <td>Style_A/model/model116.npy</td>\n",
       "      <td>False</td>\n",
       "    </tr>\n",
       "    <tr>\n",
       "      <th>57</th>\n",
       "      <td>Style_A/data/data58.npy</td>\n",
       "      <td>Style_A/model/model58.npy</td>\n",
       "      <td>False</td>\n",
       "    </tr>\n",
       "    <tr>\n",
       "      <th>75</th>\n",
       "      <td>Style_A/data/data76.npy</td>\n",
       "      <td>Style_A/model/model76.npy</td>\n",
       "      <td>False</td>\n",
       "    </tr>\n",
       "    <tr>\n",
       "      <th>32</th>\n",
       "      <td>Style_A/data/data33.npy</td>\n",
       "      <td>Style_A/model/model33.npy</td>\n",
       "      <td>False</td>\n",
       "    </tr>\n",
       "  </tbody>\n",
       "</table>\n",
       "</div>"
      ],
      "text/plain": [
       "                         data                       model  exist\n",
       "88    Style_A/data/data89.npy   Style_A/model/model89.npy  False\n",
       "115  Style_A/data/data116.npy  Style_A/model/model116.npy  False\n",
       "57    Style_A/data/data58.npy   Style_A/model/model58.npy  False\n",
       "75    Style_A/data/data76.npy   Style_A/model/model76.npy  False\n",
       "32    Style_A/data/data33.npy   Style_A/model/model33.npy  False"
      ]
     },
     "metadata": {},
     "output_type": "display_data"
    },
    {
     "data": {
      "text/plain": [
       "'===================================================================================================='"
      ]
     },
     "metadata": {},
     "output_type": "display_data"
    },
    {
     "data": {
      "application/vnd.jupyter.widget-view+json": {
       "model_id": "2ade772b43ce4d968bcbf11da05b5606",
       "version_major": 2,
       "version_minor": 0
      },
      "text/plain": [
       "Inner loop:   0%|          | 0/34 [00:00<?, ?it/s]"
      ]
     },
     "metadata": {},
     "output_type": "display_data"
    },
    {
     "name": "stdout",
     "output_type": "stream",
     "text": [
      "Style_A/data/data89.npy\n"
     ]
    },
    {
     "data": {
      "application/vnd.jupyter.widget-view+json": {
       "model_id": "e1fe349cd6bb4c25965b391f6b65ad2f",
       "version_major": 2,
       "version_minor": 0
      },
      "text/plain": [
       "data89.npy:   0%|          | 0.00/700M [00:00<?, ?B/s]"
      ]
     },
     "metadata": {},
     "output_type": "display_data"
    },
    {
     "name": "stdout",
     "output_type": "stream",
     "text": [
      "Style_A/model/model89.npy\n"
     ]
    },
    {
     "data": {
      "application/vnd.jupyter.widget-view+json": {
       "model_id": "38f46f31a68349588b943fcffbdd076d",
       "version_major": 2,
       "version_minor": 0
      },
      "text/plain": [
       "model89.npy:   0%|          | 0.00/9.80M [00:00<?, ?B/s]"
      ]
     },
     "metadata": {},
     "output_type": "display_data"
    },
    {
     "name": "stdout",
     "output_type": "stream",
     "text": [
      "Style_A/data/data116.npy\n"
     ]
    },
    {
     "data": {
      "application/vnd.jupyter.widget-view+json": {
       "model_id": "0f421b6ecd6b4d4cac8f527509e048f0",
       "version_major": 2,
       "version_minor": 0
      },
      "text/plain": [
       "data116.npy:   0%|          | 0.00/700M [00:00<?, ?B/s]"
      ]
     },
     "metadata": {},
     "output_type": "display_data"
    },
    {
     "name": "stdout",
     "output_type": "stream",
     "text": [
      "Style_A/model/model116.npy\n"
     ]
    },
    {
     "data": {
      "application/vnd.jupyter.widget-view+json": {
       "model_id": "866ad14780c04f4ca5afec8796adf1ac",
       "version_major": 2,
       "version_minor": 0
      },
      "text/plain": [
       "model116.npy:   0%|          | 0.00/9.80M [00:00<?, ?B/s]"
      ]
     },
     "metadata": {},
     "output_type": "display_data"
    },
    {
     "name": "stdout",
     "output_type": "stream",
     "text": [
      "Style_A/data/data58.npy\n"
     ]
    },
    {
     "data": {
      "application/vnd.jupyter.widget-view+json": {
       "model_id": "ed3b7ad317df42008169b41606d34408",
       "version_major": 2,
       "version_minor": 0
      },
      "text/plain": [
       "data58.npy:   0%|          | 0.00/700M [00:00<?, ?B/s]"
      ]
     },
     "metadata": {},
     "output_type": "display_data"
    },
    {
     "name": "stdout",
     "output_type": "stream",
     "text": [
      "Style_A/model/model58.npy\n"
     ]
    },
    {
     "data": {
      "application/vnd.jupyter.widget-view+json": {
       "model_id": "865eeaecafd440308a08fd7b35ff9ef5",
       "version_major": 2,
       "version_minor": 0
      },
      "text/plain": [
       "model58.npy:   0%|          | 0.00/9.80M [00:00<?, ?B/s]"
      ]
     },
     "metadata": {},
     "output_type": "display_data"
    },
    {
     "name": "stdout",
     "output_type": "stream",
     "text": [
      "Style_A/data/data76.npy\n"
     ]
    },
    {
     "data": {
      "application/vnd.jupyter.widget-view+json": {
       "model_id": "3cc4710ba26b4ddabbd1e97a6f2b7330",
       "version_major": 2,
       "version_minor": 0
      },
      "text/plain": [
       "data76.npy:   0%|          | 0.00/700M [00:00<?, ?B/s]"
      ]
     },
     "metadata": {},
     "output_type": "display_data"
    },
    {
     "name": "stdout",
     "output_type": "stream",
     "text": [
      "Style_A/model/model76.npy\n"
     ]
    },
    {
     "data": {
      "application/vnd.jupyter.widget-view+json": {
       "model_id": "9d617b8cab4c4cbbb7f29c98b0695e41",
       "version_major": 2,
       "version_minor": 0
      },
      "text/plain": [
       "model76.npy:   0%|          | 0.00/9.80M [00:00<?, ?B/s]"
      ]
     },
     "metadata": {},
     "output_type": "display_data"
    },
    {
     "name": "stdout",
     "output_type": "stream",
     "text": [
      "Style_A/data/data33.npy\n"
     ]
    },
    {
     "data": {
      "application/vnd.jupyter.widget-view+json": {
       "model_id": "049c3aeea2304565aa925a33451a8862",
       "version_major": 2,
       "version_minor": 0
      },
      "text/plain": [
       "data33.npy:   0%|          | 0.00/700M [00:00<?, ?B/s]"
      ]
     },
     "metadata": {},
     "output_type": "display_data"
    },
    {
     "name": "stdout",
     "output_type": "stream",
     "text": [
      "Style_A/model/model33.npy\n"
     ]
    },
    {
     "data": {
      "application/vnd.jupyter.widget-view+json": {
       "model_id": "489be50ab51943638ade3bd4d3b004d3",
       "version_major": 2,
       "version_minor": 0
      },
      "text/plain": [
       "model33.npy:   0%|          | 0.00/9.80M [00:00<?, ?B/s]"
      ]
     },
     "metadata": {},
     "output_type": "display_data"
    },
    {
     "name": "stdout",
     "output_type": "stream",
     "text": [
      "Style_A/data/data129.npy\n"
     ]
    },
    {
     "data": {
      "application/vnd.jupyter.widget-view+json": {
       "model_id": "e1fe4641b4f34a1e9609170fdf365bcb",
       "version_major": 2,
       "version_minor": 0
      },
      "text/plain": [
       "data129.npy:   0%|          | 0.00/700M [00:00<?, ?B/s]"
      ]
     },
     "metadata": {},
     "output_type": "display_data"
    },
    {
     "name": "stdout",
     "output_type": "stream",
     "text": [
      "Style_A/model/model129.npy\n"
     ]
    },
    {
     "data": {
      "application/vnd.jupyter.widget-view+json": {
       "model_id": "00ce6f0d269b40f4a446777b3846773e",
       "version_major": 2,
       "version_minor": 0
      },
      "text/plain": [
       "model129.npy:   0%|          | 0.00/19.6M [00:00<?, ?B/s]"
      ]
     },
     "metadata": {},
     "output_type": "display_data"
    },
    {
     "name": "stdout",
     "output_type": "stream",
     "text": [
      "Style_A/data/data60.npy\n"
     ]
    },
    {
     "data": {
      "application/vnd.jupyter.widget-view+json": {
       "model_id": "86fa9e87a416425cb9a67303be108643",
       "version_major": 2,
       "version_minor": 0
      },
      "text/plain": [
       "data60.npy:   0%|          | 0.00/700M [00:00<?, ?B/s]"
      ]
     },
     "metadata": {},
     "output_type": "display_data"
    },
    {
     "name": "stdout",
     "output_type": "stream",
     "text": [
      "Style_A/model/model60.npy\n"
     ]
    },
    {
     "data": {
      "application/vnd.jupyter.widget-view+json": {
       "model_id": "06426861bb244b5db9653ee3b7578d6e",
       "version_major": 2,
       "version_minor": 0
      },
      "text/plain": [
       "model60.npy:   0%|          | 0.00/9.80M [00:00<?, ?B/s]"
      ]
     },
     "metadata": {},
     "output_type": "display_data"
    },
    {
     "name": "stdout",
     "output_type": "stream",
     "text": [
      "Style_A/data/data64.npy\n"
     ]
    },
    {
     "data": {
      "application/vnd.jupyter.widget-view+json": {
       "model_id": "9641980f6435445a8a741b9ce7c2e7b0",
       "version_major": 2,
       "version_minor": 0
      },
      "text/plain": [
       "data64.npy:   0%|          | 0.00/700M [00:00<?, ?B/s]"
      ]
     },
     "metadata": {},
     "output_type": "display_data"
    },
    {
     "name": "stdout",
     "output_type": "stream",
     "text": [
      "Style_A/model/model64.npy\n"
     ]
    },
    {
     "data": {
      "application/vnd.jupyter.widget-view+json": {
       "model_id": "c391e49c400943b9a2d1790d3d3dcfc2",
       "version_major": 2,
       "version_minor": 0
      },
      "text/plain": [
       "model64.npy:   0%|          | 0.00/9.80M [00:00<?, ?B/s]"
      ]
     },
     "metadata": {},
     "output_type": "display_data"
    },
    {
     "name": "stdout",
     "output_type": "stream",
     "text": [
      "Style_A/data/data114.npy\n"
     ]
    },
    {
     "data": {
      "application/vnd.jupyter.widget-view+json": {
       "model_id": "9c8be5b883d047299f24032b394f7800",
       "version_major": 2,
       "version_minor": 0
      },
      "text/plain": [
       "data114.npy:   0%|          | 0.00/700M [00:00<?, ?B/s]"
      ]
     },
     "metadata": {},
     "output_type": "display_data"
    },
    {
     "name": "stdout",
     "output_type": "stream",
     "text": [
      "Style_A/model/model114.npy\n"
     ]
    },
    {
     "data": {
      "application/vnd.jupyter.widget-view+json": {
       "model_id": "aada7bd6acd2436891f87aa4b1fe42e7",
       "version_major": 2,
       "version_minor": 0
      },
      "text/plain": [
       "model114.npy:   0%|          | 0.00/9.80M [00:00<?, ?B/s]"
      ]
     },
     "metadata": {},
     "output_type": "display_data"
    },
    {
     "name": "stdout",
     "output_type": "stream",
     "text": [
      "Style_A/data/data38.npy\n"
     ]
    },
    {
     "data": {
      "application/vnd.jupyter.widget-view+json": {
       "model_id": "e71b3c0ac48644eb9224bed79048e0c5",
       "version_major": 2,
       "version_minor": 0
      },
      "text/plain": [
       "data38.npy:   0%|          | 0.00/700M [00:00<?, ?B/s]"
      ]
     },
     "metadata": {},
     "output_type": "display_data"
    },
    {
     "name": "stdout",
     "output_type": "stream",
     "text": [
      "Style_A/model/model38.npy\n"
     ]
    },
    {
     "data": {
      "application/vnd.jupyter.widget-view+json": {
       "model_id": "0aca5a2ef0b4413c9ee5e6aa091d8e5e",
       "version_major": 2,
       "version_minor": 0
      },
      "text/plain": [
       "model38.npy:   0%|          | 0.00/9.80M [00:00<?, ?B/s]"
      ]
     },
     "metadata": {},
     "output_type": "display_data"
    },
    {
     "name": "stdout",
     "output_type": "stream",
     "text": [
      "Style_A/data/data30.npy\n"
     ]
    },
    {
     "data": {
      "application/vnd.jupyter.widget-view+json": {
       "model_id": "65e55e8f76ca415fb5f08b203c756463",
       "version_major": 2,
       "version_minor": 0
      },
      "text/plain": [
       "data30.npy:   0%|          | 0.00/700M [00:00<?, ?B/s]"
      ]
     },
     "metadata": {},
     "output_type": "display_data"
    },
    {
     "name": "stdout",
     "output_type": "stream",
     "text": [
      "Style_A/model/model30.npy\n"
     ]
    },
    {
     "data": {
      "application/vnd.jupyter.widget-view+json": {
       "model_id": "280ca18b45c645cf9d3bb97f5b514648",
       "version_major": 2,
       "version_minor": 0
      },
      "text/plain": [
       "model30.npy:   0%|          | 0.00/9.80M [00:00<?, ?B/s]"
      ]
     },
     "metadata": {},
     "output_type": "display_data"
    },
    {
     "name": "stdout",
     "output_type": "stream",
     "text": [
      "Style_A/data/data108.npy\n"
     ]
    },
    {
     "data": {
      "application/vnd.jupyter.widget-view+json": {
       "model_id": "8c43a5718f374bbb9a78d6bb29711fbb",
       "version_major": 2,
       "version_minor": 0
      },
      "text/plain": [
       "data108.npy:   0%|          | 0.00/700M [00:00<?, ?B/s]"
      ]
     },
     "metadata": {},
     "output_type": "display_data"
    },
    {
     "name": "stdout",
     "output_type": "stream",
     "text": [
      "Style_A/model/model108.npy\n"
     ]
    },
    {
     "data": {
      "application/vnd.jupyter.widget-view+json": {
       "model_id": "287739e300fa4ff482f08cebf56562d7",
       "version_major": 2,
       "version_minor": 0
      },
      "text/plain": [
       "model108.npy:   0%|          | 0.00/9.80M [00:00<?, ?B/s]"
      ]
     },
     "metadata": {},
     "output_type": "display_data"
    },
    {
     "name": "stdout",
     "output_type": "stream",
     "text": [
      "Style_A/data/data127.npy\n"
     ]
    },
    {
     "data": {
      "application/vnd.jupyter.widget-view+json": {
       "model_id": "ba3bd215afb64229bd2f0a2d4bd9e031",
       "version_major": 2,
       "version_minor": 0
      },
      "text/plain": [
       "data127.npy:   0%|          | 0.00/700M [00:00<?, ?B/s]"
      ]
     },
     "metadata": {},
     "output_type": "display_data"
    },
    {
     "name": "stdout",
     "output_type": "stream",
     "text": [
      "Style_A/model/model127.npy\n"
     ]
    },
    {
     "data": {
      "application/vnd.jupyter.widget-view+json": {
       "model_id": "ea6d6d94f1084d8781ab4034229f52ec",
       "version_major": 2,
       "version_minor": 0
      },
      "text/plain": [
       "model127.npy:   0%|          | 0.00/19.6M [00:00<?, ?B/s]"
      ]
     },
     "metadata": {},
     "output_type": "display_data"
    },
    {
     "name": "stdout",
     "output_type": "stream",
     "text": [
      "Style_A/data/data2.npy\n"
     ]
    },
    {
     "data": {
      "application/vnd.jupyter.widget-view+json": {
       "model_id": "24837af66c344c938936868f46d5c724",
       "version_major": 2,
       "version_minor": 0
      },
      "text/plain": [
       "data2.npy:   0%|          | 0.00/700M [00:00<?, ?B/s]"
      ]
     },
     "metadata": {},
     "output_type": "display_data"
    },
    {
     "name": "stdout",
     "output_type": "stream",
     "text": [
      "Style_A/model/model2.npy\n"
     ]
    },
    {
     "data": {
      "application/vnd.jupyter.widget-view+json": {
       "model_id": "d855bc19b97a4622a32638970e4f91b9",
       "version_major": 2,
       "version_minor": 0
      },
      "text/plain": [
       "model2.npy:   0%|          | 0.00/9.80M [00:00<?, ?B/s]"
      ]
     },
     "metadata": {},
     "output_type": "display_data"
    },
    {
     "name": "stdout",
     "output_type": "stream",
     "text": [
      "Style_A/data/data53.npy\n"
     ]
    },
    {
     "data": {
      "application/vnd.jupyter.widget-view+json": {
       "model_id": "d8327f8bd7554860961b4a56d537a560",
       "version_major": 2,
       "version_minor": 0
      },
      "text/plain": [
       "data53.npy:   0%|          | 0.00/700M [00:00<?, ?B/s]"
      ]
     },
     "metadata": {},
     "output_type": "display_data"
    },
    {
     "name": "stdout",
     "output_type": "stream",
     "text": [
      "Style_A/model/model53.npy\n"
     ]
    },
    {
     "data": {
      "application/vnd.jupyter.widget-view+json": {
       "model_id": "9445e8eb795e40e8bdb3a0e51d2757c6",
       "version_major": 2,
       "version_minor": 0
      },
      "text/plain": [
       "model53.npy:   0%|          | 0.00/9.80M [00:00<?, ?B/s]"
      ]
     },
     "metadata": {},
     "output_type": "display_data"
    },
    {
     "name": "stdout",
     "output_type": "stream",
     "text": [
      "Style_A/data/data22.npy\n"
     ]
    },
    {
     "data": {
      "application/vnd.jupyter.widget-view+json": {
       "model_id": "cd5f7a3a70974c528dcdcfb4488af11e",
       "version_major": 2,
       "version_minor": 0
      },
      "text/plain": [
       "data22.npy:   0%|          | 0.00/700M [00:00<?, ?B/s]"
      ]
     },
     "metadata": {},
     "output_type": "display_data"
    },
    {
     "name": "stdout",
     "output_type": "stream",
     "text": [
      "Style_A/model/model22.npy\n"
     ]
    },
    {
     "data": {
      "application/vnd.jupyter.widget-view+json": {
       "model_id": "988b5d88c78b4e5d95439a131f9bf5fc",
       "version_major": 2,
       "version_minor": 0
      },
      "text/plain": [
       "model22.npy:   0%|          | 0.00/9.80M [00:00<?, ?B/s]"
      ]
     },
     "metadata": {},
     "output_type": "display_data"
    },
    {
     "name": "stdout",
     "output_type": "stream",
     "text": [
      "Style_A/data/data3.npy\n"
     ]
    },
    {
     "data": {
      "application/vnd.jupyter.widget-view+json": {
       "model_id": "b5d9efcf43504b769d2a15f9b58c400f",
       "version_major": 2,
       "version_minor": 0
      },
      "text/plain": [
       "data3.npy:   0%|          | 0.00/700M [00:00<?, ?B/s]"
      ]
     },
     "metadata": {},
     "output_type": "display_data"
    },
    {
     "name": "stdout",
     "output_type": "stream",
     "text": [
      "Style_A/model/model3.npy\n"
     ]
    },
    {
     "data": {
      "application/vnd.jupyter.widget-view+json": {
       "model_id": "2ae585e29eab444b9a21379b08721e36",
       "version_major": 2,
       "version_minor": 0
      },
      "text/plain": [
       "model3.npy:   0%|          | 0.00/9.80M [00:00<?, ?B/s]"
      ]
     },
     "metadata": {},
     "output_type": "display_data"
    },
    {
     "name": "stdout",
     "output_type": "stream",
     "text": [
      "Style_A/data/data24.npy\n"
     ]
    },
    {
     "data": {
      "application/vnd.jupyter.widget-view+json": {
       "model_id": "7f228d097b5a4bf5b36d25d46a0895a1",
       "version_major": 2,
       "version_minor": 0
      },
      "text/plain": [
       "data24.npy:   0%|          | 0.00/700M [00:00<?, ?B/s]"
      ]
     },
     "metadata": {},
     "output_type": "display_data"
    },
    {
     "name": "stdout",
     "output_type": "stream",
     "text": [
      "Style_A/model/model24.npy\n"
     ]
    },
    {
     "data": {
      "application/vnd.jupyter.widget-view+json": {
       "model_id": "e7a5afdc811f4720934cfc127e317356",
       "version_major": 2,
       "version_minor": 0
      },
      "text/plain": [
       "model24.npy:   0%|          | 0.00/9.80M [00:00<?, ?B/s]"
      ]
     },
     "metadata": {},
     "output_type": "display_data"
    },
    {
     "name": "stdout",
     "output_type": "stream",
     "text": [
      "Style_A/data/data104.npy\n"
     ]
    },
    {
     "data": {
      "application/vnd.jupyter.widget-view+json": {
       "model_id": "5a1fed0201e2493883275ff9016f0726",
       "version_major": 2,
       "version_minor": 0
      },
      "text/plain": [
       "data104.npy:   0%|          | 0.00/700M [00:00<?, ?B/s]"
      ]
     },
     "metadata": {},
     "output_type": "display_data"
    },
    {
     "name": "stdout",
     "output_type": "stream",
     "text": [
      "Style_A/model/model104.npy\n"
     ]
    },
    {
     "data": {
      "application/vnd.jupyter.widget-view+json": {
       "model_id": "5ed452e7805a49efadab358304960ba4",
       "version_major": 2,
       "version_minor": 0
      },
      "text/plain": [
       "model104.npy:   0%|          | 0.00/9.80M [00:00<?, ?B/s]"
      ]
     },
     "metadata": {},
     "output_type": "display_data"
    },
    {
     "name": "stdout",
     "output_type": "stream",
     "text": [
      "Style_A/data/data100.npy\n"
     ]
    },
    {
     "data": {
      "application/vnd.jupyter.widget-view+json": {
       "model_id": "83ef658843d1428dbce7c552ea84af1e",
       "version_major": 2,
       "version_minor": 0
      },
      "text/plain": [
       "data100.npy:   0%|          | 0.00/700M [00:00<?, ?B/s]"
      ]
     },
     "metadata": {},
     "output_type": "display_data"
    },
    {
     "name": "stdout",
     "output_type": "stream",
     "text": [
      "Style_A/model/model100.npy\n"
     ]
    },
    {
     "data": {
      "application/vnd.jupyter.widget-view+json": {
       "model_id": "ba7732e5eab64174b5694887c085479f",
       "version_major": 2,
       "version_minor": 0
      },
      "text/plain": [
       "model100.npy:   0%|          | 0.00/9.80M [00:00<?, ?B/s]"
      ]
     },
     "metadata": {},
     "output_type": "display_data"
    },
    {
     "name": "stdout",
     "output_type": "stream",
     "text": [
      "Style_A/data/data117.npy\n"
     ]
    },
    {
     "data": {
      "application/vnd.jupyter.widget-view+json": {
       "model_id": "e9bd0e8ab8054cff94bb791bfd67cfa9",
       "version_major": 2,
       "version_minor": 0
      },
      "text/plain": [
       "data117.npy:   0%|          | 0.00/700M [00:00<?, ?B/s]"
      ]
     },
     "metadata": {},
     "output_type": "display_data"
    },
    {
     "name": "stdout",
     "output_type": "stream",
     "text": [
      "Style_A/model/model117.npy\n"
     ]
    },
    {
     "data": {
      "application/vnd.jupyter.widget-view+json": {
       "model_id": "26af1e2297fc472989351dd754d7b1b8",
       "version_major": 2,
       "version_minor": 0
      },
      "text/plain": [
       "model117.npy:   0%|          | 0.00/9.80M [00:00<?, ?B/s]"
      ]
     },
     "metadata": {},
     "output_type": "display_data"
    },
    {
     "name": "stdout",
     "output_type": "stream",
     "text": [
      "Style_A/data/data88.npy\n"
     ]
    },
    {
     "data": {
      "application/vnd.jupyter.widget-view+json": {
       "model_id": "2b04e45bc3bf48a1ad0122999b665e8a",
       "version_major": 2,
       "version_minor": 0
      },
      "text/plain": [
       "data88.npy:   0%|          | 0.00/700M [00:00<?, ?B/s]"
      ]
     },
     "metadata": {},
     "output_type": "display_data"
    },
    {
     "name": "stdout",
     "output_type": "stream",
     "text": [
      "Style_A/model/model88.npy\n"
     ]
    },
    {
     "data": {
      "application/vnd.jupyter.widget-view+json": {
       "model_id": "9f5178f3aa6449beac946ee827d310e5",
       "version_major": 2,
       "version_minor": 0
      },
      "text/plain": [
       "model88.npy:   0%|          | 0.00/9.80M [00:00<?, ?B/s]"
      ]
     },
     "metadata": {},
     "output_type": "display_data"
    },
    {
     "name": "stdout",
     "output_type": "stream",
     "text": [
      "Style_A/data/data124.npy\n"
     ]
    },
    {
     "data": {
      "application/vnd.jupyter.widget-view+json": {
       "model_id": "3f2d6b96e8a34275822b8133a2e6adb2",
       "version_major": 2,
       "version_minor": 0
      },
      "text/plain": [
       "data124.npy:   0%|          | 0.00/700M [00:00<?, ?B/s]"
      ]
     },
     "metadata": {},
     "output_type": "display_data"
    },
    {
     "name": "stdout",
     "output_type": "stream",
     "text": [
      "Style_A/model/model124.npy\n"
     ]
    },
    {
     "data": {
      "application/vnd.jupyter.widget-view+json": {
       "model_id": "276dbd35088d46cca16c8aaf9f86ec32",
       "version_major": 2,
       "version_minor": 0
      },
      "text/plain": [
       "model124.npy:   0%|          | 0.00/19.6M [00:00<?, ?B/s]"
      ]
     },
     "metadata": {},
     "output_type": "display_data"
    },
    {
     "name": "stdout",
     "output_type": "stream",
     "text": [
      "Style_A/data/data75.npy\n"
     ]
    },
    {
     "data": {
      "application/vnd.jupyter.widget-view+json": {
       "model_id": "eebb4a07d78b40019d61a96248632714",
       "version_major": 2,
       "version_minor": 0
      },
      "text/plain": [
       "data75.npy:   0%|          | 0.00/700M [00:00<?, ?B/s]"
      ]
     },
     "metadata": {},
     "output_type": "display_data"
    },
    {
     "name": "stdout",
     "output_type": "stream",
     "text": [
      "Style_A/model/model75.npy\n"
     ]
    },
    {
     "data": {
      "application/vnd.jupyter.widget-view+json": {
       "model_id": "b87210c5bb4a473390b98fca9b7fb1e9",
       "version_major": 2,
       "version_minor": 0
      },
      "text/plain": [
       "model75.npy:   0%|          | 0.00/9.80M [00:00<?, ?B/s]"
      ]
     },
     "metadata": {},
     "output_type": "display_data"
    },
    {
     "name": "stdout",
     "output_type": "stream",
     "text": [
      "Style_A/data/data87.npy\n"
     ]
    },
    {
     "data": {
      "application/vnd.jupyter.widget-view+json": {
       "model_id": "0ebcf28534fb4ad2bf8feda9805d17ae",
       "version_major": 2,
       "version_minor": 0
      },
      "text/plain": [
       "data87.npy:   0%|          | 0.00/700M [00:00<?, ?B/s]"
      ]
     },
     "metadata": {},
     "output_type": "display_data"
    },
    {
     "name": "stdout",
     "output_type": "stream",
     "text": [
      "Style_A/model/model87.npy\n"
     ]
    },
    {
     "data": {
      "application/vnd.jupyter.widget-view+json": {
       "model_id": "3e9f2d5ae5444e61895feccf28ba45a5",
       "version_major": 2,
       "version_minor": 0
      },
      "text/plain": [
       "model87.npy:   0%|          | 0.00/9.80M [00:00<?, ?B/s]"
      ]
     },
     "metadata": {},
     "output_type": "display_data"
    },
    {
     "name": "stdout",
     "output_type": "stream",
     "text": [
      "Style_A/data/data83.npy\n"
     ]
    },
    {
     "data": {
      "application/vnd.jupyter.widget-view+json": {
       "model_id": "88defcd7d7c84d109911e10c0adfdb27",
       "version_major": 2,
       "version_minor": 0
      },
      "text/plain": [
       "data83.npy:   0%|          | 0.00/700M [00:00<?, ?B/s]"
      ]
     },
     "metadata": {},
     "output_type": "display_data"
    },
    {
     "name": "stdout",
     "output_type": "stream",
     "text": [
      "Style_A/model/model83.npy\n"
     ]
    },
    {
     "data": {
      "application/vnd.jupyter.widget-view+json": {
       "model_id": "52f4e6b352144ca69603b85285e45d13",
       "version_major": 2,
       "version_minor": 0
      },
      "text/plain": [
       "model83.npy:   0%|          | 0.00/9.80M [00:00<?, ?B/s]"
      ]
     },
     "metadata": {},
     "output_type": "display_data"
    },
    {
     "name": "stdout",
     "output_type": "stream",
     "text": [
      "Style_A/data/data122.npy\n"
     ]
    },
    {
     "data": {
      "application/vnd.jupyter.widget-view+json": {
       "model_id": "4e281143051c47398812eb81670c653f",
       "version_major": 2,
       "version_minor": 0
      },
      "text/plain": [
       "data122.npy:   0%|          | 0.00/700M [00:00<?, ?B/s]"
      ]
     },
     "metadata": {},
     "output_type": "display_data"
    },
    {
     "name": "stdout",
     "output_type": "stream",
     "text": [
      "Style_A/model/model122.npy\n"
     ]
    },
    {
     "data": {
      "application/vnd.jupyter.widget-view+json": {
       "model_id": "be8b69d60cd44645a78211fdec5a4945",
       "version_major": 2,
       "version_minor": 0
      },
      "text/plain": [
       "model122.npy:   0%|          | 0.00/19.6M [00:00<?, ?B/s]"
      ]
     },
     "metadata": {},
     "output_type": "display_data"
    },
    {
     "name": "stdout",
     "output_type": "stream",
     "text": [
      "Style_A/data/data134.npy\n"
     ]
    },
    {
     "data": {
      "application/vnd.jupyter.widget-view+json": {
       "model_id": "5fe2357164d54d6eb045df9b74886fd3",
       "version_major": 2,
       "version_minor": 0
      },
      "text/plain": [
       "data134.npy:   0%|          | 0.00/700M [00:00<?, ?B/s]"
      ]
     },
     "metadata": {},
     "output_type": "display_data"
    },
    {
     "name": "stdout",
     "output_type": "stream",
     "text": [
      "Style_A/model/model134.npy\n"
     ]
    },
    {
     "data": {
      "application/vnd.jupyter.widget-view+json": {
       "model_id": "19be2f495b5d4e58a5d39c1486e24f65",
       "version_major": 2,
       "version_minor": 0
      },
      "text/plain": [
       "model134.npy:   0%|          | 0.00/19.6M [00:00<?, ?B/s]"
      ]
     },
     "metadata": {},
     "output_type": "display_data"
    },
    {
     "name": "stdout",
     "output_type": "stream",
     "text": [
      "Style_A/data/data21.npy\n"
     ]
    },
    {
     "data": {
      "application/vnd.jupyter.widget-view+json": {
       "model_id": "eed295b8446845e6b7f95d666d4c27c4",
       "version_major": 2,
       "version_minor": 0
      },
      "text/plain": [
       "data21.npy:   0%|          | 0.00/700M [00:00<?, ?B/s]"
      ]
     },
     "metadata": {},
     "output_type": "display_data"
    },
    {
     "name": "stdout",
     "output_type": "stream",
     "text": [
      "Style_A/model/model21.npy\n"
     ]
    },
    {
     "data": {
      "application/vnd.jupyter.widget-view+json": {
       "model_id": "f26396301eca498c9ed76d3fe030b972",
       "version_major": 2,
       "version_minor": 0
      },
      "text/plain": [
       "model21.npy:   0%|          | 0.00/9.80M [00:00<?, ?B/s]"
      ]
     },
     "metadata": {},
     "output_type": "display_data"
    },
    {
     "name": "stdout",
     "output_type": "stream",
     "text": [
      "Style_A/data/data72.npy\n"
     ]
    },
    {
     "data": {
      "application/vnd.jupyter.widget-view+json": {
       "model_id": "7904b826e2d4484e85e0ab54f83a4290",
       "version_major": 2,
       "version_minor": 0
      },
      "text/plain": [
       "data72.npy:   0%|          | 0.00/700M [00:00<?, ?B/s]"
      ]
     },
     "metadata": {},
     "output_type": "display_data"
    },
    {
     "name": "stdout",
     "output_type": "stream",
     "text": [
      "Style_A/model/model72.npy\n"
     ]
    },
    {
     "data": {
      "application/vnd.jupyter.widget-view+json": {
       "model_id": "fca69f161e9e4c72a88f4ffcc15b8d6d",
       "version_major": 2,
       "version_minor": 0
      },
      "text/plain": [
       "model72.npy:   0%|          | 0.00/9.80M [00:00<?, ?B/s]"
      ]
     },
     "metadata": {},
     "output_type": "display_data"
    },
    {
     "name": "stdout",
     "output_type": "stream",
     "text": [
      "Style_A/data/data107.npy\n"
     ]
    },
    {
     "data": {
      "application/vnd.jupyter.widget-view+json": {
       "model_id": "10d1b0924abe45018d6be47129ec4709",
       "version_major": 2,
       "version_minor": 0
      },
      "text/plain": [
       "data107.npy:   0%|          | 0.00/700M [00:00<?, ?B/s]"
      ]
     },
     "metadata": {},
     "output_type": "display_data"
    },
    {
     "name": "stdout",
     "output_type": "stream",
     "text": [
      "Style_A/model/model107.npy\n"
     ]
    },
    {
     "data": {
      "application/vnd.jupyter.widget-view+json": {
       "model_id": "6e201efffbd448bcaf5104ba0823428d",
       "version_major": 2,
       "version_minor": 0
      },
      "text/plain": [
       "model107.npy:   0%|          | 0.00/9.80M [00:00<?, ?B/s]"
      ]
     },
     "metadata": {},
     "output_type": "display_data"
    },
    {
     "name": "stdout",
     "output_type": "stream",
     "text": [
      "Style_A/data/data15.npy\n"
     ]
    },
    {
     "data": {
      "application/vnd.jupyter.widget-view+json": {
       "model_id": "0468ad6922ef455fb24496c14d507029",
       "version_major": 2,
       "version_minor": 0
      },
      "text/plain": [
       "data15.npy:   0%|          | 0.00/700M [00:00<?, ?B/s]"
      ]
     },
     "metadata": {},
     "output_type": "display_data"
    },
    {
     "name": "stdout",
     "output_type": "stream",
     "text": [
      "Style_A/model/model15.npy\n"
     ]
    },
    {
     "data": {
      "application/vnd.jupyter.widget-view+json": {
       "model_id": "fd2f57466d874dfcaca1a6136af53771",
       "version_major": 2,
       "version_minor": 0
      },
      "text/plain": [
       "model15.npy:   0%|          | 0.00/9.80M [00:00<?, ?B/s]"
      ]
     },
     "metadata": {},
     "output_type": "display_data"
    },
    {
     "name": "stdout",
     "output_type": "stream",
     "text": [
      "Style_A/data/data93.npy\n"
     ]
    },
    {
     "data": {
      "application/vnd.jupyter.widget-view+json": {
       "model_id": "8dc39dda8c1d4f07b982930005ab2837",
       "version_major": 2,
       "version_minor": 0
      },
      "text/plain": [
       "data93.npy:   0%|          | 0.00/700M [00:00<?, ?B/s]"
      ]
     },
     "metadata": {},
     "output_type": "display_data"
    },
    {
     "name": "stdout",
     "output_type": "stream",
     "text": [
      "Style_A/model/model93.npy\n"
     ]
    },
    {
     "data": {
      "application/vnd.jupyter.widget-view+json": {
       "model_id": "bc2cbfa21fa14e04a995b3f44802f590",
       "version_major": 2,
       "version_minor": 0
      },
      "text/plain": [
       "model93.npy:   0%|          | 0.00/9.80M [00:00<?, ?B/s]"
      ]
     },
     "metadata": {},
     "output_type": "display_data"
    },
    {
     "name": "stdout",
     "output_type": "stream",
     "text": [
      "Style_A/data/data103.npy\n"
     ]
    },
    {
     "data": {
      "application/vnd.jupyter.widget-view+json": {
       "model_id": "a633fff88a0e4796abb90ecb8c7d1576",
       "version_major": 2,
       "version_minor": 0
      },
      "text/plain": [
       "data103.npy:   0%|          | 0.00/700M [00:00<?, ?B/s]"
      ]
     },
     "metadata": {},
     "output_type": "display_data"
    },
    {
     "name": "stdout",
     "output_type": "stream",
     "text": [
      "Style_A/model/model103.npy\n"
     ]
    },
    {
     "data": {
      "application/vnd.jupyter.widget-view+json": {
       "model_id": "b6b7ce70dc2a4ba799bf95c2fc0f74f2",
       "version_major": 2,
       "version_minor": 0
      },
      "text/plain": [
       "model103.npy:   0%|          | 0.00/9.80M [00:00<?, ?B/s]"
      ]
     },
     "metadata": {},
     "output_type": "display_data"
    },
    {
     "data": {
      "text/plain": [
       "'Style_B'"
      ]
     },
     "metadata": {},
     "output_type": "display_data"
    },
    {
     "data": {
      "text/plain": [
       "34"
      ]
     },
     "metadata": {},
     "output_type": "display_data"
    },
    {
     "data": {
      "text/html": [
       "<div>\n",
       "<style scoped>\n",
       "    .dataframe tbody tr th:only-of-type {\n",
       "        vertical-align: middle;\n",
       "    }\n",
       "\n",
       "    .dataframe tbody tr th {\n",
       "        vertical-align: top;\n",
       "    }\n",
       "\n",
       "    .dataframe thead th {\n",
       "        text-align: right;\n",
       "    }\n",
       "</style>\n",
       "<table border=\"1\" class=\"dataframe\">\n",
       "  <thead>\n",
       "    <tr style=\"text-align: right;\">\n",
       "      <th></th>\n",
       "      <th>data</th>\n",
       "      <th>model</th>\n",
       "      <th>exist</th>\n",
       "    </tr>\n",
       "  </thead>\n",
       "  <tbody>\n",
       "    <tr>\n",
       "      <th>88</th>\n",
       "      <td>Style_B/data/data89.npy</td>\n",
       "      <td>Style_B/model/model89.npy</td>\n",
       "      <td>False</td>\n",
       "    </tr>\n",
       "    <tr>\n",
       "      <th>115</th>\n",
       "      <td>Style_B/data/data116.npy</td>\n",
       "      <td>Style_B/model/model116.npy</td>\n",
       "      <td>False</td>\n",
       "    </tr>\n",
       "    <tr>\n",
       "      <th>57</th>\n",
       "      <td>Style_B/data/data58.npy</td>\n",
       "      <td>Style_B/model/model58.npy</td>\n",
       "      <td>False</td>\n",
       "    </tr>\n",
       "    <tr>\n",
       "      <th>75</th>\n",
       "      <td>Style_B/data/data76.npy</td>\n",
       "      <td>Style_B/model/model76.npy</td>\n",
       "      <td>False</td>\n",
       "    </tr>\n",
       "    <tr>\n",
       "      <th>32</th>\n",
       "      <td>Style_B/data/data33.npy</td>\n",
       "      <td>Style_B/model/model33.npy</td>\n",
       "      <td>False</td>\n",
       "    </tr>\n",
       "  </tbody>\n",
       "</table>\n",
       "</div>"
      ],
      "text/plain": [
       "                         data                       model  exist\n",
       "88    Style_B/data/data89.npy   Style_B/model/model89.npy  False\n",
       "115  Style_B/data/data116.npy  Style_B/model/model116.npy  False\n",
       "57    Style_B/data/data58.npy   Style_B/model/model58.npy  False\n",
       "75    Style_B/data/data76.npy   Style_B/model/model76.npy  False\n",
       "32    Style_B/data/data33.npy   Style_B/model/model33.npy  False"
      ]
     },
     "metadata": {},
     "output_type": "display_data"
    },
    {
     "data": {
      "text/plain": [
       "'===================================================================================================='"
      ]
     },
     "metadata": {},
     "output_type": "display_data"
    },
    {
     "data": {
      "application/vnd.jupyter.widget-view+json": {
       "model_id": "8e148022626f45e180bec3f666ef98e2",
       "version_major": 2,
       "version_minor": 0
      },
      "text/plain": [
       "Inner loop:   0%|          | 0/34 [00:00<?, ?it/s]"
      ]
     },
     "metadata": {},
     "output_type": "display_data"
    },
    {
     "name": "stdout",
     "output_type": "stream",
     "text": [
      "Style_B/data/data89.npy\n"
     ]
    },
    {
     "data": {
      "application/vnd.jupyter.widget-view+json": {
       "model_id": "2340e36b6ac94d08b6b049c33565ffe1",
       "version_major": 2,
       "version_minor": 0
      },
      "text/plain": [
       "data89.npy:   0%|          | 0.00/700M [00:00<?, ?B/s]"
      ]
     },
     "metadata": {},
     "output_type": "display_data"
    },
    {
     "name": "stdout",
     "output_type": "stream",
     "text": [
      "Style_B/model/model89.npy\n"
     ]
    },
    {
     "data": {
      "application/vnd.jupyter.widget-view+json": {
       "model_id": "9eaa2b3a3a4640d7a9e9c2ff3be7933c",
       "version_major": 2,
       "version_minor": 0
      },
      "text/plain": [
       "model89.npy:   0%|          | 0.00/9.80M [00:00<?, ?B/s]"
      ]
     },
     "metadata": {},
     "output_type": "display_data"
    },
    {
     "name": "stdout",
     "output_type": "stream",
     "text": [
      "Style_B/data/data116.npy\n"
     ]
    },
    {
     "data": {
      "application/vnd.jupyter.widget-view+json": {
       "model_id": "9f48d624ea5a45cdb08ea44f86f7976f",
       "version_major": 2,
       "version_minor": 0
      },
      "text/plain": [
       "data116.npy:   0%|          | 0.00/700M [00:00<?, ?B/s]"
      ]
     },
     "metadata": {},
     "output_type": "display_data"
    },
    {
     "name": "stdout",
     "output_type": "stream",
     "text": [
      "Style_B/model/model116.npy\n"
     ]
    },
    {
     "data": {
      "application/vnd.jupyter.widget-view+json": {
       "model_id": "78a943056e8543a3963bc456aff9ff27",
       "version_major": 2,
       "version_minor": 0
      },
      "text/plain": [
       "model116.npy:   0%|          | 0.00/9.80M [00:00<?, ?B/s]"
      ]
     },
     "metadata": {},
     "output_type": "display_data"
    },
    {
     "name": "stdout",
     "output_type": "stream",
     "text": [
      "Style_B/data/data58.npy\n"
     ]
    },
    {
     "data": {
      "application/vnd.jupyter.widget-view+json": {
       "model_id": "3c38f635ed6a446eac6524b27b0a53d4",
       "version_major": 2,
       "version_minor": 0
      },
      "text/plain": [
       "data58.npy:   0%|          | 0.00/700M [00:00<?, ?B/s]"
      ]
     },
     "metadata": {},
     "output_type": "display_data"
    },
    {
     "name": "stdout",
     "output_type": "stream",
     "text": [
      "Style_B/model/model58.npy\n"
     ]
    },
    {
     "data": {
      "application/vnd.jupyter.widget-view+json": {
       "model_id": "9471165f10594f81a8e79cf74879c378",
       "version_major": 2,
       "version_minor": 0
      },
      "text/plain": [
       "model58.npy:   0%|          | 0.00/9.80M [00:00<?, ?B/s]"
      ]
     },
     "metadata": {},
     "output_type": "display_data"
    },
    {
     "name": "stdout",
     "output_type": "stream",
     "text": [
      "Style_B/data/data76.npy\n"
     ]
    },
    {
     "data": {
      "application/vnd.jupyter.widget-view+json": {
       "model_id": "daf9597f2390403a8f0c791a5523d005",
       "version_major": 2,
       "version_minor": 0
      },
      "text/plain": [
       "data76.npy:   0%|          | 0.00/700M [00:00<?, ?B/s]"
      ]
     },
     "metadata": {},
     "output_type": "display_data"
    },
    {
     "name": "stdout",
     "output_type": "stream",
     "text": [
      "Style_B/model/model76.npy\n"
     ]
    },
    {
     "data": {
      "application/vnd.jupyter.widget-view+json": {
       "model_id": "a9785bca732f49458aa91edf74483890",
       "version_major": 2,
       "version_minor": 0
      },
      "text/plain": [
       "model76.npy:   0%|          | 0.00/9.80M [00:00<?, ?B/s]"
      ]
     },
     "metadata": {},
     "output_type": "display_data"
    },
    {
     "name": "stdout",
     "output_type": "stream",
     "text": [
      "Style_B/data/data33.npy\n"
     ]
    },
    {
     "data": {
      "application/vnd.jupyter.widget-view+json": {
       "model_id": "c242f745f470435a87c5fa4647b5b941",
       "version_major": 2,
       "version_minor": 0
      },
      "text/plain": [
       "data33.npy:   0%|          | 0.00/700M [00:00<?, ?B/s]"
      ]
     },
     "metadata": {},
     "output_type": "display_data"
    },
    {
     "name": "stdout",
     "output_type": "stream",
     "text": [
      "Style_B/model/model33.npy\n"
     ]
    },
    {
     "data": {
      "application/vnd.jupyter.widget-view+json": {
       "model_id": "4e0eee703fc0454ebb83d741eaa14d08",
       "version_major": 2,
       "version_minor": 0
      },
      "text/plain": [
       "model33.npy:   0%|          | 0.00/9.80M [00:00<?, ?B/s]"
      ]
     },
     "metadata": {},
     "output_type": "display_data"
    },
    {
     "name": "stdout",
     "output_type": "stream",
     "text": [
      "Style_B/data/data129.npy\n"
     ]
    },
    {
     "data": {
      "application/vnd.jupyter.widget-view+json": {
       "model_id": "911849764102433f96de1f85b06ecc47",
       "version_major": 2,
       "version_minor": 0
      },
      "text/plain": [
       "data129.npy:   0%|          | 0.00/700M [00:00<?, ?B/s]"
      ]
     },
     "metadata": {},
     "output_type": "display_data"
    },
    {
     "name": "stdout",
     "output_type": "stream",
     "text": [
      "Style_B/model/model129.npy\n"
     ]
    },
    {
     "data": {
      "application/vnd.jupyter.widget-view+json": {
       "model_id": "54c7e48925564cd38189a82ed3518951",
       "version_major": 2,
       "version_minor": 0
      },
      "text/plain": [
       "model129.npy:   0%|          | 0.00/9.80M [00:00<?, ?B/s]"
      ]
     },
     "metadata": {},
     "output_type": "display_data"
    },
    {
     "name": "stdout",
     "output_type": "stream",
     "text": [
      "Style_B/data/data60.npy\n"
     ]
    },
    {
     "data": {
      "application/vnd.jupyter.widget-view+json": {
       "model_id": "fcb4bf3f56d4479b98c52f147dece51b",
       "version_major": 2,
       "version_minor": 0
      },
      "text/plain": [
       "data60.npy:   0%|          | 0.00/700M [00:00<?, ?B/s]"
      ]
     },
     "metadata": {},
     "output_type": "display_data"
    },
    {
     "name": "stdout",
     "output_type": "stream",
     "text": [
      "Style_B/model/model60.npy\n"
     ]
    },
    {
     "data": {
      "application/vnd.jupyter.widget-view+json": {
       "model_id": "7b9d74341413410595e6b8852898f095",
       "version_major": 2,
       "version_minor": 0
      },
      "text/plain": [
       "model60.npy:   0%|          | 0.00/9.80M [00:00<?, ?B/s]"
      ]
     },
     "metadata": {},
     "output_type": "display_data"
    },
    {
     "name": "stdout",
     "output_type": "stream",
     "text": [
      "Style_B/data/data64.npy\n"
     ]
    },
    {
     "data": {
      "application/vnd.jupyter.widget-view+json": {
       "model_id": "fff15e2b01bb4bfb8adae1a731da1db3",
       "version_major": 2,
       "version_minor": 0
      },
      "text/plain": [
       "data64.npy:   0%|          | 0.00/700M [00:00<?, ?B/s]"
      ]
     },
     "metadata": {},
     "output_type": "display_data"
    },
    {
     "name": "stdout",
     "output_type": "stream",
     "text": [
      "Style_B/model/model64.npy\n"
     ]
    },
    {
     "data": {
      "application/vnd.jupyter.widget-view+json": {
       "model_id": "2f2e54a8e2d34bf0978cddffe32677a3",
       "version_major": 2,
       "version_minor": 0
      },
      "text/plain": [
       "model64.npy:   0%|          | 0.00/9.80M [00:00<?, ?B/s]"
      ]
     },
     "metadata": {},
     "output_type": "display_data"
    },
    {
     "name": "stdout",
     "output_type": "stream",
     "text": [
      "Style_B/data/data114.npy\n"
     ]
    },
    {
     "data": {
      "application/vnd.jupyter.widget-view+json": {
       "model_id": "c6179f3d54674d718464021477da1614",
       "version_major": 2,
       "version_minor": 0
      },
      "text/plain": [
       "data114.npy:   0%|          | 0.00/700M [00:00<?, ?B/s]"
      ]
     },
     "metadata": {},
     "output_type": "display_data"
    },
    {
     "name": "stdout",
     "output_type": "stream",
     "text": [
      "Style_B/model/model114.npy\n"
     ]
    },
    {
     "data": {
      "application/vnd.jupyter.widget-view+json": {
       "model_id": "e1d68d36cb6f43399e8022e4195f46b0",
       "version_major": 2,
       "version_minor": 0
      },
      "text/plain": [
       "model114.npy:   0%|          | 0.00/9.80M [00:00<?, ?B/s]"
      ]
     },
     "metadata": {},
     "output_type": "display_data"
    },
    {
     "name": "stdout",
     "output_type": "stream",
     "text": [
      "Style_B/data/data38.npy\n"
     ]
    },
    {
     "data": {
      "application/vnd.jupyter.widget-view+json": {
       "model_id": "f68e7d4293d546d692267337ebd5ce54",
       "version_major": 2,
       "version_minor": 0
      },
      "text/plain": [
       "data38.npy:   0%|          | 0.00/700M [00:00<?, ?B/s]"
      ]
     },
     "metadata": {},
     "output_type": "display_data"
    },
    {
     "name": "stdout",
     "output_type": "stream",
     "text": [
      "Style_B/model/model38.npy\n"
     ]
    },
    {
     "data": {
      "application/vnd.jupyter.widget-view+json": {
       "model_id": "e28694d444ed42198715a51da56e518a",
       "version_major": 2,
       "version_minor": 0
      },
      "text/plain": [
       "model38.npy:   0%|          | 0.00/9.80M [00:00<?, ?B/s]"
      ]
     },
     "metadata": {},
     "output_type": "display_data"
    },
    {
     "name": "stdout",
     "output_type": "stream",
     "text": [
      "Style_B/data/data30.npy\n"
     ]
    },
    {
     "data": {
      "application/vnd.jupyter.widget-view+json": {
       "model_id": "5b56b44da4084e279631c9c69a3d6471",
       "version_major": 2,
       "version_minor": 0
      },
      "text/plain": [
       "data30.npy:   0%|          | 0.00/700M [00:00<?, ?B/s]"
      ]
     },
     "metadata": {},
     "output_type": "display_data"
    },
    {
     "name": "stdout",
     "output_type": "stream",
     "text": [
      "Style_B/model/model30.npy\n"
     ]
    },
    {
     "data": {
      "application/vnd.jupyter.widget-view+json": {
       "model_id": "c2c600ca81784d5bb90cfcd185f33592",
       "version_major": 2,
       "version_minor": 0
      },
      "text/plain": [
       "model30.npy:   0%|          | 0.00/9.80M [00:00<?, ?B/s]"
      ]
     },
     "metadata": {},
     "output_type": "display_data"
    },
    {
     "name": "stdout",
     "output_type": "stream",
     "text": [
      "Style_B/data/data108.npy\n"
     ]
    },
    {
     "data": {
      "application/vnd.jupyter.widget-view+json": {
       "model_id": "726351de4bba41e38d14c75849d144a6",
       "version_major": 2,
       "version_minor": 0
      },
      "text/plain": [
       "data108.npy:   0%|          | 0.00/700M [00:00<?, ?B/s]"
      ]
     },
     "metadata": {},
     "output_type": "display_data"
    },
    {
     "name": "stdout",
     "output_type": "stream",
     "text": [
      "Style_B/model/model108.npy\n"
     ]
    },
    {
     "data": {
      "application/vnd.jupyter.widget-view+json": {
       "model_id": "3ce38fb535704dc1b2f3651acfb5c582",
       "version_major": 2,
       "version_minor": 0
      },
      "text/plain": [
       "model108.npy:   0%|          | 0.00/9.80M [00:00<?, ?B/s]"
      ]
     },
     "metadata": {},
     "output_type": "display_data"
    },
    {
     "name": "stdout",
     "output_type": "stream",
     "text": [
      "Style_B/data/data127.npy\n"
     ]
    },
    {
     "data": {
      "application/vnd.jupyter.widget-view+json": {
       "model_id": "5ad0c8a968324dda9cae86951a5b7c4d",
       "version_major": 2,
       "version_minor": 0
      },
      "text/plain": [
       "data127.npy:   0%|          | 0.00/700M [00:00<?, ?B/s]"
      ]
     },
     "metadata": {},
     "output_type": "display_data"
    },
    {
     "name": "stdout",
     "output_type": "stream",
     "text": [
      "Style_B/model/model127.npy\n"
     ]
    },
    {
     "data": {
      "application/vnd.jupyter.widget-view+json": {
       "model_id": "54039f9764c7469cb638766e4cad21b3",
       "version_major": 2,
       "version_minor": 0
      },
      "text/plain": [
       "model127.npy:   0%|          | 0.00/9.80M [00:00<?, ?B/s]"
      ]
     },
     "metadata": {},
     "output_type": "display_data"
    },
    {
     "name": "stdout",
     "output_type": "stream",
     "text": [
      "Style_B/data/data2.npy\n"
     ]
    },
    {
     "data": {
      "application/vnd.jupyter.widget-view+json": {
       "model_id": "233ba9b991754b1da00045e1e9f69684",
       "version_major": 2,
       "version_minor": 0
      },
      "text/plain": [
       "data2.npy:   0%|          | 0.00/700M [00:00<?, ?B/s]"
      ]
     },
     "metadata": {},
     "output_type": "display_data"
    },
    {
     "name": "stdout",
     "output_type": "stream",
     "text": [
      "Style_B/model/model2.npy\n"
     ]
    },
    {
     "data": {
      "application/vnd.jupyter.widget-view+json": {
       "model_id": "b470127f155c40d9b631b493ccc003f7",
       "version_major": 2,
       "version_minor": 0
      },
      "text/plain": [
       "model2.npy:   0%|          | 0.00/9.80M [00:00<?, ?B/s]"
      ]
     },
     "metadata": {},
     "output_type": "display_data"
    },
    {
     "name": "stdout",
     "output_type": "stream",
     "text": [
      "Style_B/data/data53.npy\n"
     ]
    },
    {
     "data": {
      "application/vnd.jupyter.widget-view+json": {
       "model_id": "ff221a34729a43c8a95395554e1cd5d9",
       "version_major": 2,
       "version_minor": 0
      },
      "text/plain": [
       "data53.npy:   0%|          | 0.00/700M [00:00<?, ?B/s]"
      ]
     },
     "metadata": {},
     "output_type": "display_data"
    },
    {
     "name": "stdout",
     "output_type": "stream",
     "text": [
      "Style_B/model/model53.npy\n"
     ]
    },
    {
     "data": {
      "application/vnd.jupyter.widget-view+json": {
       "model_id": "eccfda2058804b6bae7cddf72e773e6c",
       "version_major": 2,
       "version_minor": 0
      },
      "text/plain": [
       "model53.npy:   0%|          | 0.00/9.80M [00:00<?, ?B/s]"
      ]
     },
     "metadata": {},
     "output_type": "display_data"
    },
    {
     "name": "stdout",
     "output_type": "stream",
     "text": [
      "Style_B/data/data22.npy\n"
     ]
    },
    {
     "data": {
      "application/vnd.jupyter.widget-view+json": {
       "model_id": "5553ce848c00488cad154bf8916b9647",
       "version_major": 2,
       "version_minor": 0
      },
      "text/plain": [
       "data22.npy:   0%|          | 0.00/700M [00:00<?, ?B/s]"
      ]
     },
     "metadata": {},
     "output_type": "display_data"
    },
    {
     "name": "stdout",
     "output_type": "stream",
     "text": [
      "Style_B/model/model22.npy\n"
     ]
    },
    {
     "data": {
      "application/vnd.jupyter.widget-view+json": {
       "model_id": "d7d2559206b248a38af40ce731f377b6",
       "version_major": 2,
       "version_minor": 0
      },
      "text/plain": [
       "model22.npy:   0%|          | 0.00/9.80M [00:00<?, ?B/s]"
      ]
     },
     "metadata": {},
     "output_type": "display_data"
    },
    {
     "name": "stdout",
     "output_type": "stream",
     "text": [
      "Style_B/data/data3.npy\n"
     ]
    },
    {
     "data": {
      "application/vnd.jupyter.widget-view+json": {
       "model_id": "f48f6c8d7e444cb48a300d6a77200975",
       "version_major": 2,
       "version_minor": 0
      },
      "text/plain": [
       "data3.npy:   0%|          | 0.00/700M [00:00<?, ?B/s]"
      ]
     },
     "metadata": {},
     "output_type": "display_data"
    },
    {
     "name": "stdout",
     "output_type": "stream",
     "text": [
      "Style_B/model/model3.npy\n"
     ]
    },
    {
     "data": {
      "application/vnd.jupyter.widget-view+json": {
       "model_id": "4719a960f5364b87b07600d14e9cee41",
       "version_major": 2,
       "version_minor": 0
      },
      "text/plain": [
       "model3.npy:   0%|          | 0.00/9.80M [00:00<?, ?B/s]"
      ]
     },
     "metadata": {},
     "output_type": "display_data"
    },
    {
     "name": "stdout",
     "output_type": "stream",
     "text": [
      "Style_B/data/data24.npy\n"
     ]
    },
    {
     "data": {
      "application/vnd.jupyter.widget-view+json": {
       "model_id": "1b35fc18c33b40b186a7e379f74550eb",
       "version_major": 2,
       "version_minor": 0
      },
      "text/plain": [
       "data24.npy:   0%|          | 0.00/700M [00:00<?, ?B/s]"
      ]
     },
     "metadata": {},
     "output_type": "display_data"
    },
    {
     "name": "stdout",
     "output_type": "stream",
     "text": [
      "Style_B/model/model24.npy\n"
     ]
    },
    {
     "data": {
      "application/vnd.jupyter.widget-view+json": {
       "model_id": "6b4a95c0494f4f558c6ab40b8c5327ca",
       "version_major": 2,
       "version_minor": 0
      },
      "text/plain": [
       "model24.npy:   0%|          | 0.00/9.80M [00:00<?, ?B/s]"
      ]
     },
     "metadata": {},
     "output_type": "display_data"
    },
    {
     "name": "stdout",
     "output_type": "stream",
     "text": [
      "Style_B/data/data104.npy\n"
     ]
    },
    {
     "data": {
      "application/vnd.jupyter.widget-view+json": {
       "model_id": "ece4f28a49ab49199d0873ddedd7789f",
       "version_major": 2,
       "version_minor": 0
      },
      "text/plain": [
       "data104.npy:   0%|          | 0.00/700M [00:00<?, ?B/s]"
      ]
     },
     "metadata": {},
     "output_type": "display_data"
    },
    {
     "name": "stdout",
     "output_type": "stream",
     "text": [
      "Style_B/model/model104.npy\n"
     ]
    },
    {
     "data": {
      "application/vnd.jupyter.widget-view+json": {
       "model_id": "660ad99f427643b9ab7b843762bf7068",
       "version_major": 2,
       "version_minor": 0
      },
      "text/plain": [
       "model104.npy:   0%|          | 0.00/9.80M [00:00<?, ?B/s]"
      ]
     },
     "metadata": {},
     "output_type": "display_data"
    },
    {
     "name": "stdout",
     "output_type": "stream",
     "text": [
      "Style_B/data/data100.npy\n"
     ]
    },
    {
     "data": {
      "application/vnd.jupyter.widget-view+json": {
       "model_id": "d9209d1fb21d42fc83aa524a67b59156",
       "version_major": 2,
       "version_minor": 0
      },
      "text/plain": [
       "data100.npy:   0%|          | 0.00/700M [00:00<?, ?B/s]"
      ]
     },
     "metadata": {},
     "output_type": "display_data"
    },
    {
     "name": "stdout",
     "output_type": "stream",
     "text": [
      "Style_B/model/model100.npy\n"
     ]
    },
    {
     "data": {
      "application/vnd.jupyter.widget-view+json": {
       "model_id": "4beaeb69577942339c3e5ef8510fc568",
       "version_major": 2,
       "version_minor": 0
      },
      "text/plain": [
       "model100.npy:   0%|          | 0.00/9.80M [00:00<?, ?B/s]"
      ]
     },
     "metadata": {},
     "output_type": "display_data"
    },
    {
     "name": "stdout",
     "output_type": "stream",
     "text": [
      "Style_B/data/data117.npy\n"
     ]
    },
    {
     "data": {
      "application/vnd.jupyter.widget-view+json": {
       "model_id": "0ca7ba19f19146458f6cd92af03807b6",
       "version_major": 2,
       "version_minor": 0
      },
      "text/plain": [
       "data117.npy:   0%|          | 0.00/700M [00:00<?, ?B/s]"
      ]
     },
     "metadata": {},
     "output_type": "display_data"
    },
    {
     "name": "stdout",
     "output_type": "stream",
     "text": [
      "Style_B/model/model117.npy\n"
     ]
    },
    {
     "data": {
      "application/vnd.jupyter.widget-view+json": {
       "model_id": "fd3b1f0c20db4c7b8f23ac4ef5f90f72",
       "version_major": 2,
       "version_minor": 0
      },
      "text/plain": [
       "model117.npy:   0%|          | 0.00/9.80M [00:00<?, ?B/s]"
      ]
     },
     "metadata": {},
     "output_type": "display_data"
    },
    {
     "name": "stdout",
     "output_type": "stream",
     "text": [
      "Style_B/data/data88.npy\n"
     ]
    },
    {
     "data": {
      "application/vnd.jupyter.widget-view+json": {
       "model_id": "3c38aa415c69407db5c533a3d98a99b3",
       "version_major": 2,
       "version_minor": 0
      },
      "text/plain": [
       "data88.npy:   0%|          | 0.00/700M [00:00<?, ?B/s]"
      ]
     },
     "metadata": {},
     "output_type": "display_data"
    },
    {
     "name": "stdout",
     "output_type": "stream",
     "text": [
      "Style_B/model/model88.npy\n"
     ]
    },
    {
     "data": {
      "application/vnd.jupyter.widget-view+json": {
       "model_id": "95d1418b023d48a2bcc9b65c30266174",
       "version_major": 2,
       "version_minor": 0
      },
      "text/plain": [
       "model88.npy:   0%|          | 0.00/9.80M [00:00<?, ?B/s]"
      ]
     },
     "metadata": {},
     "output_type": "display_data"
    },
    {
     "name": "stdout",
     "output_type": "stream",
     "text": [
      "Style_B/data/data124.npy\n"
     ]
    },
    {
     "data": {
      "application/vnd.jupyter.widget-view+json": {
       "model_id": "c89e1830c77e4ff69ddef5b79fd5167e",
       "version_major": 2,
       "version_minor": 0
      },
      "text/plain": [
       "data124.npy:   0%|          | 0.00/700M [00:00<?, ?B/s]"
      ]
     },
     "metadata": {},
     "output_type": "display_data"
    },
    {
     "name": "stdout",
     "output_type": "stream",
     "text": [
      "Style_B/model/model124.npy\n"
     ]
    },
    {
     "data": {
      "application/vnd.jupyter.widget-view+json": {
       "model_id": "a2df4d74d6474a88b163fde6a15024ed",
       "version_major": 2,
       "version_minor": 0
      },
      "text/plain": [
       "model124.npy:   0%|          | 0.00/9.80M [00:00<?, ?B/s]"
      ]
     },
     "metadata": {},
     "output_type": "display_data"
    },
    {
     "name": "stdout",
     "output_type": "stream",
     "text": [
      "Style_B/data/data75.npy\n"
     ]
    },
    {
     "data": {
      "application/vnd.jupyter.widget-view+json": {
       "model_id": "b653a61634434f26b2c871a506d034c1",
       "version_major": 2,
       "version_minor": 0
      },
      "text/plain": [
       "data75.npy:   0%|          | 0.00/700M [00:00<?, ?B/s]"
      ]
     },
     "metadata": {},
     "output_type": "display_data"
    },
    {
     "name": "stdout",
     "output_type": "stream",
     "text": [
      "Style_B/model/model75.npy\n"
     ]
    },
    {
     "data": {
      "application/vnd.jupyter.widget-view+json": {
       "model_id": "fa73884a220e4d9d97db6c6bb38d29e9",
       "version_major": 2,
       "version_minor": 0
      },
      "text/plain": [
       "model75.npy:   0%|          | 0.00/9.80M [00:00<?, ?B/s]"
      ]
     },
     "metadata": {},
     "output_type": "display_data"
    },
    {
     "name": "stdout",
     "output_type": "stream",
     "text": [
      "Style_B/data/data87.npy\n"
     ]
    },
    {
     "data": {
      "application/vnd.jupyter.widget-view+json": {
       "model_id": "a7e92a8a87914946a5a608aaecf33071",
       "version_major": 2,
       "version_minor": 0
      },
      "text/plain": [
       "data87.npy:   0%|          | 0.00/700M [00:00<?, ?B/s]"
      ]
     },
     "metadata": {},
     "output_type": "display_data"
    },
    {
     "name": "stdout",
     "output_type": "stream",
     "text": [
      "Style_B/model/model87.npy\n"
     ]
    },
    {
     "data": {
      "application/vnd.jupyter.widget-view+json": {
       "model_id": "1b5c6761ddc6484f9630278ccbad8d2a",
       "version_major": 2,
       "version_minor": 0
      },
      "text/plain": [
       "model87.npy:   0%|          | 0.00/9.80M [00:00<?, ?B/s]"
      ]
     },
     "metadata": {},
     "output_type": "display_data"
    },
    {
     "name": "stdout",
     "output_type": "stream",
     "text": [
      "Style_B/data/data83.npy\n"
     ]
    },
    {
     "data": {
      "application/vnd.jupyter.widget-view+json": {
       "model_id": "46d72ad831384ca395ceb3e98e2368c9",
       "version_major": 2,
       "version_minor": 0
      },
      "text/plain": [
       "data83.npy:   0%|          | 0.00/700M [00:00<?, ?B/s]"
      ]
     },
     "metadata": {},
     "output_type": "display_data"
    },
    {
     "name": "stdout",
     "output_type": "stream",
     "text": [
      "Style_B/model/model83.npy\n"
     ]
    },
    {
     "data": {
      "application/vnd.jupyter.widget-view+json": {
       "model_id": "090b30d64e804b728c8082b815e1591e",
       "version_major": 2,
       "version_minor": 0
      },
      "text/plain": [
       "model83.npy:   0%|          | 0.00/9.80M [00:00<?, ?B/s]"
      ]
     },
     "metadata": {},
     "output_type": "display_data"
    },
    {
     "name": "stdout",
     "output_type": "stream",
     "text": [
      "Style_B/data/data122.npy\n"
     ]
    },
    {
     "data": {
      "application/vnd.jupyter.widget-view+json": {
       "model_id": "cd9ab525dcdc42d4a6ed84699cb111c6",
       "version_major": 2,
       "version_minor": 0
      },
      "text/plain": [
       "data122.npy:   0%|          | 0.00/700M [00:00<?, ?B/s]"
      ]
     },
     "metadata": {},
     "output_type": "display_data"
    },
    {
     "name": "stdout",
     "output_type": "stream",
     "text": [
      "Style_B/model/model122.npy\n"
     ]
    },
    {
     "data": {
      "application/vnd.jupyter.widget-view+json": {
       "model_id": "6b5a4de7e14b466991d15e7c0932669d",
       "version_major": 2,
       "version_minor": 0
      },
      "text/plain": [
       "model122.npy:   0%|          | 0.00/9.80M [00:00<?, ?B/s]"
      ]
     },
     "metadata": {},
     "output_type": "display_data"
    },
    {
     "name": "stdout",
     "output_type": "stream",
     "text": [
      "Style_B/data/data134.npy\n"
     ]
    },
    {
     "data": {
      "application/vnd.jupyter.widget-view+json": {
       "model_id": "4afc2e6a9418438a88400962092f713e",
       "version_major": 2,
       "version_minor": 0
      },
      "text/plain": [
       "data134.npy:   0%|          | 0.00/700M [00:00<?, ?B/s]"
      ]
     },
     "metadata": {},
     "output_type": "display_data"
    },
    {
     "name": "stdout",
     "output_type": "stream",
     "text": [
      "Style_B/model/model134.npy\n"
     ]
    },
    {
     "data": {
      "application/vnd.jupyter.widget-view+json": {
       "model_id": "898474d1b45b498bb8da30ad8dfa34aa",
       "version_major": 2,
       "version_minor": 0
      },
      "text/plain": [
       "model134.npy:   0%|          | 0.00/9.80M [00:00<?, ?B/s]"
      ]
     },
     "metadata": {},
     "output_type": "display_data"
    },
    {
     "name": "stdout",
     "output_type": "stream",
     "text": [
      "Style_B/data/data21.npy\n"
     ]
    },
    {
     "data": {
      "application/vnd.jupyter.widget-view+json": {
       "model_id": "2f7cd580776c47b3b0f43be64d664636",
       "version_major": 2,
       "version_minor": 0
      },
      "text/plain": [
       "data21.npy:   0%|          | 0.00/700M [00:00<?, ?B/s]"
      ]
     },
     "metadata": {},
     "output_type": "display_data"
    },
    {
     "name": "stdout",
     "output_type": "stream",
     "text": [
      "Style_B/model/model21.npy\n"
     ]
    },
    {
     "data": {
      "application/vnd.jupyter.widget-view+json": {
       "model_id": "655ad7d443a04831a5256d5ea53c1b8f",
       "version_major": 2,
       "version_minor": 0
      },
      "text/plain": [
       "model21.npy:   0%|          | 0.00/9.80M [00:00<?, ?B/s]"
      ]
     },
     "metadata": {},
     "output_type": "display_data"
    },
    {
     "name": "stdout",
     "output_type": "stream",
     "text": [
      "Style_B/data/data72.npy\n"
     ]
    },
    {
     "data": {
      "application/vnd.jupyter.widget-view+json": {
       "model_id": "23e4135226a446eda15c53b4040ecab1",
       "version_major": 2,
       "version_minor": 0
      },
      "text/plain": [
       "data72.npy:   0%|          | 0.00/700M [00:00<?, ?B/s]"
      ]
     },
     "metadata": {},
     "output_type": "display_data"
    },
    {
     "name": "stdout",
     "output_type": "stream",
     "text": [
      "Style_B/model/model72.npy\n"
     ]
    },
    {
     "data": {
      "application/vnd.jupyter.widget-view+json": {
       "model_id": "bd6ecaf97edc4e6584a89650c5c800be",
       "version_major": 2,
       "version_minor": 0
      },
      "text/plain": [
       "model72.npy:   0%|          | 0.00/9.80M [00:00<?, ?B/s]"
      ]
     },
     "metadata": {},
     "output_type": "display_data"
    },
    {
     "name": "stdout",
     "output_type": "stream",
     "text": [
      "Style_B/data/data107.npy\n"
     ]
    },
    {
     "data": {
      "application/vnd.jupyter.widget-view+json": {
       "model_id": "1b1656c2fece4977a699918a727e613b",
       "version_major": 2,
       "version_minor": 0
      },
      "text/plain": [
       "data107.npy:   0%|          | 0.00/700M [00:00<?, ?B/s]"
      ]
     },
     "metadata": {},
     "output_type": "display_data"
    },
    {
     "name": "stdout",
     "output_type": "stream",
     "text": [
      "Style_B/model/model107.npy\n"
     ]
    },
    {
     "data": {
      "application/vnd.jupyter.widget-view+json": {
       "model_id": "3aa709da6e54407aae6d51778ea8c95b",
       "version_major": 2,
       "version_minor": 0
      },
      "text/plain": [
       "model107.npy:   0%|          | 0.00/9.80M [00:00<?, ?B/s]"
      ]
     },
     "metadata": {},
     "output_type": "display_data"
    },
    {
     "name": "stdout",
     "output_type": "stream",
     "text": [
      "Style_B/data/data15.npy\n"
     ]
    },
    {
     "data": {
      "application/vnd.jupyter.widget-view+json": {
       "model_id": "6528f10fa59942649bf0cfb2c4c80ab2",
       "version_major": 2,
       "version_minor": 0
      },
      "text/plain": [
       "data15.npy:   0%|          | 0.00/700M [00:00<?, ?B/s]"
      ]
     },
     "metadata": {},
     "output_type": "display_data"
    },
    {
     "name": "stdout",
     "output_type": "stream",
     "text": [
      "Style_B/model/model15.npy\n"
     ]
    },
    {
     "data": {
      "application/vnd.jupyter.widget-view+json": {
       "model_id": "8a0088e80f1d44088ea7c5af2557293d",
       "version_major": 2,
       "version_minor": 0
      },
      "text/plain": [
       "model15.npy:   0%|          | 0.00/9.80M [00:00<?, ?B/s]"
      ]
     },
     "metadata": {},
     "output_type": "display_data"
    },
    {
     "name": "stdout",
     "output_type": "stream",
     "text": [
      "Style_B/data/data93.npy\n"
     ]
    },
    {
     "data": {
      "application/vnd.jupyter.widget-view+json": {
       "model_id": "0bec20d8737d4ac78e48c8a5cda3b2d6",
       "version_major": 2,
       "version_minor": 0
      },
      "text/plain": [
       "data93.npy:   0%|          | 0.00/700M [00:00<?, ?B/s]"
      ]
     },
     "metadata": {},
     "output_type": "display_data"
    },
    {
     "name": "stdout",
     "output_type": "stream",
     "text": [
      "Style_B/model/model93.npy\n"
     ]
    },
    {
     "data": {
      "application/vnd.jupyter.widget-view+json": {
       "model_id": "452516941caf42ee8130290859b96886",
       "version_major": 2,
       "version_minor": 0
      },
      "text/plain": [
       "model93.npy:   0%|          | 0.00/9.80M [00:00<?, ?B/s]"
      ]
     },
     "metadata": {},
     "output_type": "display_data"
    },
    {
     "name": "stdout",
     "output_type": "stream",
     "text": [
      "Style_B/data/data103.npy\n"
     ]
    },
    {
     "data": {
      "application/vnd.jupyter.widget-view+json": {
       "model_id": "aa7946aec8d0450e9b897a68fbb56cca",
       "version_major": 2,
       "version_minor": 0
      },
      "text/plain": [
       "data103.npy:   0%|          | 0.00/700M [00:00<?, ?B/s]"
      ]
     },
     "metadata": {},
     "output_type": "display_data"
    },
    {
     "name": "stdout",
     "output_type": "stream",
     "text": [
      "Style_B/model/model103.npy\n"
     ]
    },
    {
     "data": {
      "application/vnd.jupyter.widget-view+json": {
       "model_id": "5df426aff1b0400581717adcbd2cc305",
       "version_major": 2,
       "version_minor": 0
      },
      "text/plain": [
       "model103.npy:   0%|          | 0.00/9.80M [00:00<?, ?B/s]"
      ]
     },
     "metadata": {},
     "output_type": "display_data"
    }
   ],
   "source": [
    "families = {\n",
    "    # \"CurveFault_A\": [],\n",
    "    # \"CurveFault_B\": [],\n",
    "    # \"CurveVel_A\": [\"data\", \"model\"],\n",
    "    # \"CurveVel_B\": [\"data\", \"model\"],\n",
    "    # \"FlatFault_A\": [],\n",
    "    # \"FlatFault_B\": [],\n",
    "    # \"FlatVel_A\": [\"data\", \"model\"],\n",
    "    # \"FlatVel_B\": [\"data\", \"model\"],\n",
    "    \"Style_A\": [\"data\", \"model\"],\n",
    "    \"Style_B\": [\"data\", \"model\"],\n",
    "}\n",
    "\n",
    "for k, v in tqdm(families.items(), desc=\"Outer loop\", total=len(families)):\n",
    "    if len(v) == 0:\n",
    "        columns = [\"seis\", \"vel\"]\n",
    "    elif len(v) == 2:\n",
    "        columns = v\n",
    "    df = pd.DataFrame(columns=columns)\n",
    "    for col in columns:\n",
    "        df[col] = natsorted([f for f in files if k+\"/\"+col in f])\n",
    "    df = df.sample(frac=1.0, replace=False, random_state=SEED)\n",
    "    df[\"exist\"] = df.apply(check_already_exist, axis=1)\n",
    "    df = df.query(\"exist == False\")\n",
    "    display(k, len(df), df.head(), \"=\"*100)\n",
    "    for _, row in tqdm(df.iterrows(), desc=\"Inner loop\", leave=False, total=len(df)):\n",
    "        path = row.iloc[0].split(\"/\")[-1][:-4] + \"_\" + row.iloc[1].split(\"/\")[-1][:-4]\n",
    "        if not path in exists[k]:\n",
    "            for col in columns:\n",
    "                print(row[col])\n",
    "                hf_hub_download(repo_id=\"ashynf/OpenFWI\", repo_type=\"dataset\", filename=row[col])"
   ]
  },
  {
   "cell_type": "code",
   "execution_count": 8,
   "id": "0aac5f1b",
   "metadata": {},
   "outputs": [
    {
     "name": "stdout",
     "output_type": "stream",
     "text": [
      "Filesystem      Size  Used Avail Use% Mounted on\n",
      "none             30G     0   30G   0% /usr/lib/modules/5.15.167.4-microsoft-standard-WSL2\n",
      "none             30G  4.0K   30G   1% /mnt/wsl\n",
      "drivers         930G  725G  206G  78% /usr/lib/wsl/drivers\n",
      "/dev/sdb        672G  602G   41G  94% /\n",
      "none             30G   88K   30G   1% /mnt/wslg\n",
      "none             30G     0   30G   0% /usr/lib/wsl/lib\n",
      "rootfs           30G  2.4M   30G   1% /init\n",
      "none             30G     0   30G   0% /run\n",
      "none             30G     0   30G   0% /run/lock\n",
      "none             30G  4.0K   30G   1% /run/shm\n",
      "none             30G     0   30G   0% /run/user\n",
      "none             30G   76K   30G   1% /mnt/wslg/versions.txt\n",
      "none             30G   76K   30G   1% /mnt/wslg/doc\n",
      "C:\\             930G  725G  206G  78% /mnt/c\n",
      "D:\\             932G  180M  932G   1% /mnt/d\n"
     ]
    }
   ],
   "source": [
    "!df -h"
   ]
  },
  {
   "cell_type": "code",
   "execution_count": null,
   "id": "2a9bcb3d",
   "metadata": {},
   "outputs": [],
   "source": []
  }
 ],
 "metadata": {
  "kernelspec": {
   "display_name": ".venv",
   "language": "python",
   "name": "python3"
  },
  "language_info": {
   "codemirror_mode": {
    "name": "ipython",
    "version": 3
   },
   "file_extension": ".py",
   "mimetype": "text/x-python",
   "name": "python",
   "nbconvert_exporter": "python",
   "pygments_lexer": "ipython3",
   "version": "3.11.11"
  }
 },
 "nbformat": 4,
 "nbformat_minor": 5
}
