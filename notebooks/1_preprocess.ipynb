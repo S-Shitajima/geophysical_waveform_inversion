{
 "cells": [
  {
   "cell_type": "code",
   "execution_count": 1,
   "id": "5232110c",
   "metadata": {},
   "outputs": [],
   "source": [
    "from pathlib import Path\n",
    "\n",
    "from natsort import natsorted\n",
    "import numpy as np\n",
    "import pandas as pd\n",
    "from tqdm.auto import tqdm"
   ]
  },
  {
   "cell_type": "code",
   "execution_count": 2,
   "id": "c6c1df0e",
   "metadata": {},
   "outputs": [
    {
     "name": "stdout",
     "output_type": "stream",
     "text": [
      "['Style_A', 'Style_B']\n"
     ]
    }
   ],
   "source": [
    "dir_path = Path(\"/home/ss/.cache/huggingface/hub/datasets--ashynf--OpenFWI/snapshots/9ed98af51d841bc7b7a43911021f87df6a730db5\")\n",
    "print([p.stem for p in dir_path.glob(\"*\")])"
   ]
  },
  {
   "cell_type": "code",
   "execution_count": 3,
   "id": "bbc65901",
   "metadata": {},
   "outputs": [
    {
     "data": {
      "text/html": [
       "<div>\n",
       "<style scoped>\n",
       "    .dataframe tbody tr th:only-of-type {\n",
       "        vertical-align: middle;\n",
       "    }\n",
       "\n",
       "    .dataframe tbody tr th {\n",
       "        vertical-align: top;\n",
       "    }\n",
       "\n",
       "    .dataframe thead th {\n",
       "        text-align: right;\n",
       "    }\n",
       "</style>\n",
       "<table border=\"1\" class=\"dataframe\">\n",
       "  <thead>\n",
       "    <tr style=\"text-align: right;\">\n",
       "      <th></th>\n",
       "      <th>x</th>\n",
       "      <th>y</th>\n",
       "      <th>families</th>\n",
       "    </tr>\n",
       "  </thead>\n",
       "  <tbody>\n",
       "    <tr>\n",
       "      <th>0</th>\n",
       "      <td>/home/ss/.cache/huggingface/hub/datasets--ashy...</td>\n",
       "      <td>/home/ss/.cache/huggingface/hub/datasets--ashy...</td>\n",
       "      <td>Style_A</td>\n",
       "    </tr>\n",
       "    <tr>\n",
       "      <th>1</th>\n",
       "      <td>/home/ss/.cache/huggingface/hub/datasets--ashy...</td>\n",
       "      <td>/home/ss/.cache/huggingface/hub/datasets--ashy...</td>\n",
       "      <td>Style_A</td>\n",
       "    </tr>\n",
       "    <tr>\n",
       "      <th>2</th>\n",
       "      <td>/home/ss/.cache/huggingface/hub/datasets--ashy...</td>\n",
       "      <td>/home/ss/.cache/huggingface/hub/datasets--ashy...</td>\n",
       "      <td>Style_A</td>\n",
       "    </tr>\n",
       "    <tr>\n",
       "      <th>3</th>\n",
       "      <td>/home/ss/.cache/huggingface/hub/datasets--ashy...</td>\n",
       "      <td>/home/ss/.cache/huggingface/hub/datasets--ashy...</td>\n",
       "      <td>Style_A</td>\n",
       "    </tr>\n",
       "    <tr>\n",
       "      <th>4</th>\n",
       "      <td>/home/ss/.cache/huggingface/hub/datasets--ashy...</td>\n",
       "      <td>/home/ss/.cache/huggingface/hub/datasets--ashy...</td>\n",
       "      <td>Style_A</td>\n",
       "    </tr>\n",
       "    <tr>\n",
       "      <th>...</th>\n",
       "      <td>...</td>\n",
       "      <td>...</td>\n",
       "      <td>...</td>\n",
       "    </tr>\n",
       "    <tr>\n",
       "      <th>63</th>\n",
       "      <td>/home/ss/.cache/huggingface/hub/datasets--ashy...</td>\n",
       "      <td>/home/ss/.cache/huggingface/hub/datasets--ashy...</td>\n",
       "      <td>Style_B</td>\n",
       "    </tr>\n",
       "    <tr>\n",
       "      <th>64</th>\n",
       "      <td>/home/ss/.cache/huggingface/hub/datasets--ashy...</td>\n",
       "      <td>/home/ss/.cache/huggingface/hub/datasets--ashy...</td>\n",
       "      <td>Style_B</td>\n",
       "    </tr>\n",
       "    <tr>\n",
       "      <th>65</th>\n",
       "      <td>/home/ss/.cache/huggingface/hub/datasets--ashy...</td>\n",
       "      <td>/home/ss/.cache/huggingface/hub/datasets--ashy...</td>\n",
       "      <td>Style_B</td>\n",
       "    </tr>\n",
       "    <tr>\n",
       "      <th>66</th>\n",
       "      <td>/home/ss/.cache/huggingface/hub/datasets--ashy...</td>\n",
       "      <td>/home/ss/.cache/huggingface/hub/datasets--ashy...</td>\n",
       "      <td>Style_B</td>\n",
       "    </tr>\n",
       "    <tr>\n",
       "      <th>67</th>\n",
       "      <td>/home/ss/.cache/huggingface/hub/datasets--ashy...</td>\n",
       "      <td>/home/ss/.cache/huggingface/hub/datasets--ashy...</td>\n",
       "      <td>Style_B</td>\n",
       "    </tr>\n",
       "  </tbody>\n",
       "</table>\n",
       "<p>68 rows × 3 columns</p>\n",
       "</div>"
      ],
      "text/plain": [
       "                                                    x  \\\n",
       "0   /home/ss/.cache/huggingface/hub/datasets--ashy...   \n",
       "1   /home/ss/.cache/huggingface/hub/datasets--ashy...   \n",
       "2   /home/ss/.cache/huggingface/hub/datasets--ashy...   \n",
       "3   /home/ss/.cache/huggingface/hub/datasets--ashy...   \n",
       "4   /home/ss/.cache/huggingface/hub/datasets--ashy...   \n",
       "..                                                ...   \n",
       "63  /home/ss/.cache/huggingface/hub/datasets--ashy...   \n",
       "64  /home/ss/.cache/huggingface/hub/datasets--ashy...   \n",
       "65  /home/ss/.cache/huggingface/hub/datasets--ashy...   \n",
       "66  /home/ss/.cache/huggingface/hub/datasets--ashy...   \n",
       "67  /home/ss/.cache/huggingface/hub/datasets--ashy...   \n",
       "\n",
       "                                                    y families  \n",
       "0   /home/ss/.cache/huggingface/hub/datasets--ashy...  Style_A  \n",
       "1   /home/ss/.cache/huggingface/hub/datasets--ashy...  Style_A  \n",
       "2   /home/ss/.cache/huggingface/hub/datasets--ashy...  Style_A  \n",
       "3   /home/ss/.cache/huggingface/hub/datasets--ashy...  Style_A  \n",
       "4   /home/ss/.cache/huggingface/hub/datasets--ashy...  Style_A  \n",
       "..                                                ...      ...  \n",
       "63  /home/ss/.cache/huggingface/hub/datasets--ashy...  Style_B  \n",
       "64  /home/ss/.cache/huggingface/hub/datasets--ashy...  Style_B  \n",
       "65  /home/ss/.cache/huggingface/hub/datasets--ashy...  Style_B  \n",
       "66  /home/ss/.cache/huggingface/hub/datasets--ashy...  Style_B  \n",
       "67  /home/ss/.cache/huggingface/hub/datasets--ashy...  Style_B  \n",
       "\n",
       "[68 rows x 3 columns]"
      ]
     },
     "metadata": {},
     "output_type": "display_data"
    }
   ],
   "source": [
    "families = {\n",
    "    \"CurveFault_A\": [],\n",
    "    \"CurveFault_B\": [],\n",
    "    \"CurveVel_A\": [\"data\", \"model\"],\n",
    "    \"CurveVel_B\": [\"data\", \"model\"],\n",
    "    \"FlatFault_A\": [],\n",
    "    \"FlatFault_B\": [],\n",
    "    \"FlatVel_A\": [\"data\", \"model\"],\n",
    "    \"FlatVel_B\": [\"data\", \"model\"],\n",
    "    \"Style_A\": [\"data\", \"model\"],\n",
    "    \"Style_B\": [\"data\", \"model\"], \n",
    "}\n",
    "\n",
    "df_paths = []\n",
    "for k, v in families.items():\n",
    "    df = pd.DataFrame(columns=[\"x\", \"y\", \"families\"])\n",
    "    if len(v) == 0:\n",
    "        seis_paths = natsorted([p for p in dir_path.joinpath(f\"{k}\").glob(\"*\") if \"seis\" in p.stem])\n",
    "        vel_paths = natsorted([p for p in dir_path.joinpath(f\"{k}\").glob(\"*\") if \"vel\" in p.stem])\n",
    "        assert len(seis_paths) == len(vel_paths)\n",
    "\n",
    "        df[\"x\"] = seis_paths\n",
    "        df[\"y\"] = vel_paths\n",
    "        df[\"families\"] = k\n",
    "       \n",
    "    elif len(v) == 2:\n",
    "        data_paths = natsorted([p for p in dir_path.joinpath(f\"{k}/data\").glob(\"*\")])\n",
    "        model_paths = natsorted([p for p in dir_path.joinpath(f\"{k}/model\").glob(\"*\")])\n",
    "        assert len(data_paths) == len(model_paths)\n",
    "\n",
    "        df[\"x\"] = data_paths\n",
    "        df[\"y\"] = model_paths\n",
    "        df[\"families\"] = k\n",
    "\n",
    "    df_paths.append(df)\n",
    "\n",
    "df_paths = pd.concat(df_paths, ignore_index=True)\n",
    "display(df_paths)"
   ]
  },
  {
   "cell_type": "code",
   "execution_count": 4,
   "id": "a49a98a2",
   "metadata": {},
   "outputs": [
    {
     "name": "stdout",
     "output_type": "stream",
     "text": [
      "Filesystem      Size  Used Avail Use% Mounted on\n",
      "none             30G     0   30G   0% /usr/lib/modules/5.15.167.4-microsoft-standard-WSL2\n",
      "none             30G  4.0K   30G   1% /mnt/wsl\n",
      "drivers         930G  725G  206G  78% /usr/lib/wsl/drivers\n",
      "/dev/sdb        672G  602G   41G  94% /\n",
      "none             30G   88K   30G   1% /mnt/wslg\n",
      "none             30G     0   30G   0% /usr/lib/wsl/lib\n",
      "rootfs           30G  2.4M   30G   1% /init\n",
      "none             30G     0   30G   0% /run\n",
      "none             30G     0   30G   0% /run/lock\n",
      "none             30G     0   30G   0% /run/shm\n",
      "none             30G     0   30G   0% /run/user\n",
      "none             30G   76K   30G   1% /mnt/wslg/versions.txt\n",
      "none             30G   76K   30G   1% /mnt/wslg/doc\n",
      "C:\\             930G  725G  206G  78% /mnt/c\n",
      "D:\\             932G  180M  932G   1% /mnt/d\n"
     ]
    }
   ],
   "source": [
    "!df -h"
   ]
  },
  {
   "cell_type": "code",
   "execution_count": 5,
   "id": "bbfaaa5e",
   "metadata": {},
   "outputs": [],
   "source": [
    "output_dir = Path(\"../data\")\n",
    "if not output_dir.is_dir():\n",
    "    output_dir.mkdir(exist_ok=True)"
   ]
  },
  {
   "cell_type": "code",
   "execution_count": 6,
   "id": "9eae25ea",
   "metadata": {},
   "outputs": [],
   "source": [
    "# df_paths = df_paths.groupby(\"families\").head(1).reset_index(drop=True)\n",
    "# display(df_paths)"
   ]
  },
  {
   "cell_type": "code",
   "execution_count": 7,
   "id": "f5c10877",
   "metadata": {},
   "outputs": [
    {
     "data": {
      "application/vnd.jupyter.widget-view+json": {
       "model_id": "9367fc7a5ece4b00a5e777dda426ccb3",
       "version_major": 2,
       "version_minor": 0
      },
      "text/plain": [
       "Outer Loop:   0%|          | 0/68 [00:00<?, ?it/s]"
      ]
     },
     "metadata": {},
     "output_type": "display_data"
    },
    {
     "name": "stdout",
     "output_type": "stream",
     "text": [
      "Style_A 2 2\n"
     ]
    },
    {
     "data": {
      "application/vnd.jupyter.widget-view+json": {
       "model_id": "ba0178889b094ac9a743963bea4ce8fb",
       "version_major": 2,
       "version_minor": 0
      },
      "text/plain": [
       "Inner Loop:   0%|          | 0/500 [00:00<?, ?it/s]"
      ]
     },
     "metadata": {},
     "output_type": "display_data"
    },
    {
     "name": "stdout",
     "output_type": "stream",
     "text": [
      "Style_A 3 3\n"
     ]
    },
    {
     "data": {
      "application/vnd.jupyter.widget-view+json": {
       "model_id": "a54f0e6155fd4f1fa20e061edac97b40",
       "version_major": 2,
       "version_minor": 0
      },
      "text/plain": [
       "Inner Loop:   0%|          | 0/500 [00:00<?, ?it/s]"
      ]
     },
     "metadata": {},
     "output_type": "display_data"
    },
    {
     "name": "stdout",
     "output_type": "stream",
     "text": [
      "Style_A 15 15\n"
     ]
    },
    {
     "data": {
      "application/vnd.jupyter.widget-view+json": {
       "model_id": "e261c4ebbcce4a3a9cfe0d9d96d06b36",
       "version_major": 2,
       "version_minor": 0
      },
      "text/plain": [
       "Inner Loop:   0%|          | 0/500 [00:00<?, ?it/s]"
      ]
     },
     "metadata": {},
     "output_type": "display_data"
    },
    {
     "name": "stdout",
     "output_type": "stream",
     "text": [
      "Style_A 21 21\n"
     ]
    },
    {
     "data": {
      "application/vnd.jupyter.widget-view+json": {
       "model_id": "94d6c0d40d004bca894a634656bb4643",
       "version_major": 2,
       "version_minor": 0
      },
      "text/plain": [
       "Inner Loop:   0%|          | 0/500 [00:00<?, ?it/s]"
      ]
     },
     "metadata": {},
     "output_type": "display_data"
    },
    {
     "name": "stdout",
     "output_type": "stream",
     "text": [
      "Style_A 22 22\n"
     ]
    },
    {
     "data": {
      "application/vnd.jupyter.widget-view+json": {
       "model_id": "956eaf31a0dc4327a0526bbb7cdacd9e",
       "version_major": 2,
       "version_minor": 0
      },
      "text/plain": [
       "Inner Loop:   0%|          | 0/500 [00:00<?, ?it/s]"
      ]
     },
     "metadata": {},
     "output_type": "display_data"
    },
    {
     "name": "stdout",
     "output_type": "stream",
     "text": [
      "Style_A 24 24\n"
     ]
    },
    {
     "data": {
      "application/vnd.jupyter.widget-view+json": {
       "model_id": "b944a40f7fd44795865b4eed4dc68c4d",
       "version_major": 2,
       "version_minor": 0
      },
      "text/plain": [
       "Inner Loop:   0%|          | 0/500 [00:00<?, ?it/s]"
      ]
     },
     "metadata": {},
     "output_type": "display_data"
    },
    {
     "name": "stdout",
     "output_type": "stream",
     "text": [
      "Style_A 30 30\n"
     ]
    },
    {
     "data": {
      "application/vnd.jupyter.widget-view+json": {
       "model_id": "2d3e947e035c46b4af5ca9832ab8c93e",
       "version_major": 2,
       "version_minor": 0
      },
      "text/plain": [
       "Inner Loop:   0%|          | 0/500 [00:00<?, ?it/s]"
      ]
     },
     "metadata": {},
     "output_type": "display_data"
    },
    {
     "name": "stdout",
     "output_type": "stream",
     "text": [
      "Style_A 33 33\n"
     ]
    },
    {
     "data": {
      "application/vnd.jupyter.widget-view+json": {
       "model_id": "44c1283d41db4f07aa250ba1c7becc23",
       "version_major": 2,
       "version_minor": 0
      },
      "text/plain": [
       "Inner Loop:   0%|          | 0/500 [00:00<?, ?it/s]"
      ]
     },
     "metadata": {},
     "output_type": "display_data"
    },
    {
     "name": "stdout",
     "output_type": "stream",
     "text": [
      "Style_A 38 38\n"
     ]
    },
    {
     "data": {
      "application/vnd.jupyter.widget-view+json": {
       "model_id": "ef0ea4cd48514d4d8c1c23ec4252caae",
       "version_major": 2,
       "version_minor": 0
      },
      "text/plain": [
       "Inner Loop:   0%|          | 0/500 [00:00<?, ?it/s]"
      ]
     },
     "metadata": {},
     "output_type": "display_data"
    },
    {
     "name": "stdout",
     "output_type": "stream",
     "text": [
      "Style_A 53 53\n"
     ]
    },
    {
     "data": {
      "application/vnd.jupyter.widget-view+json": {
       "model_id": "d3a3247efa82469184e833a608439a6b",
       "version_major": 2,
       "version_minor": 0
      },
      "text/plain": [
       "Inner Loop:   0%|          | 0/500 [00:00<?, ?it/s]"
      ]
     },
     "metadata": {},
     "output_type": "display_data"
    },
    {
     "name": "stdout",
     "output_type": "stream",
     "text": [
      "Style_A 58 58\n"
     ]
    },
    {
     "data": {
      "application/vnd.jupyter.widget-view+json": {
       "model_id": "ed3d2bbc660f4021b90511f06cc58f95",
       "version_major": 2,
       "version_minor": 0
      },
      "text/plain": [
       "Inner Loop:   0%|          | 0/500 [00:00<?, ?it/s]"
      ]
     },
     "metadata": {},
     "output_type": "display_data"
    },
    {
     "name": "stdout",
     "output_type": "stream",
     "text": [
      "Style_A 60 60\n"
     ]
    },
    {
     "data": {
      "application/vnd.jupyter.widget-view+json": {
       "model_id": "b1757a114e304b019bbe3c4ce612bfa0",
       "version_major": 2,
       "version_minor": 0
      },
      "text/plain": [
       "Inner Loop:   0%|          | 0/500 [00:00<?, ?it/s]"
      ]
     },
     "metadata": {},
     "output_type": "display_data"
    },
    {
     "name": "stdout",
     "output_type": "stream",
     "text": [
      "Style_A 64 64\n"
     ]
    },
    {
     "data": {
      "application/vnd.jupyter.widget-view+json": {
       "model_id": "42d064c9f3be4b0dac8085bc4b46e053",
       "version_major": 2,
       "version_minor": 0
      },
      "text/plain": [
       "Inner Loop:   0%|          | 0/500 [00:00<?, ?it/s]"
      ]
     },
     "metadata": {},
     "output_type": "display_data"
    },
    {
     "name": "stdout",
     "output_type": "stream",
     "text": [
      "Style_A 72 72\n"
     ]
    },
    {
     "data": {
      "application/vnd.jupyter.widget-view+json": {
       "model_id": "cd87780b07f24f57827a02cb00410e09",
       "version_major": 2,
       "version_minor": 0
      },
      "text/plain": [
       "Inner Loop:   0%|          | 0/500 [00:00<?, ?it/s]"
      ]
     },
     "metadata": {},
     "output_type": "display_data"
    },
    {
     "name": "stdout",
     "output_type": "stream",
     "text": [
      "Style_A 75 75\n"
     ]
    },
    {
     "data": {
      "application/vnd.jupyter.widget-view+json": {
       "model_id": "92ae73f2024d428488d80445a1fd11fd",
       "version_major": 2,
       "version_minor": 0
      },
      "text/plain": [
       "Inner Loop:   0%|          | 0/500 [00:00<?, ?it/s]"
      ]
     },
     "metadata": {},
     "output_type": "display_data"
    },
    {
     "name": "stdout",
     "output_type": "stream",
     "text": [
      "Style_A 76 76\n"
     ]
    },
    {
     "data": {
      "application/vnd.jupyter.widget-view+json": {
       "model_id": "2f73505a19224e69a91d683a972af03d",
       "version_major": 2,
       "version_minor": 0
      },
      "text/plain": [
       "Inner Loop:   0%|          | 0/500 [00:00<?, ?it/s]"
      ]
     },
     "metadata": {},
     "output_type": "display_data"
    },
    {
     "name": "stdout",
     "output_type": "stream",
     "text": [
      "Style_A 83 83\n"
     ]
    },
    {
     "data": {
      "application/vnd.jupyter.widget-view+json": {
       "model_id": "638fa457b8034d019e6b65ac091b6bb3",
       "version_major": 2,
       "version_minor": 0
      },
      "text/plain": [
       "Inner Loop:   0%|          | 0/500 [00:00<?, ?it/s]"
      ]
     },
     "metadata": {},
     "output_type": "display_data"
    },
    {
     "name": "stdout",
     "output_type": "stream",
     "text": [
      "Style_A 87 87\n"
     ]
    },
    {
     "data": {
      "application/vnd.jupyter.widget-view+json": {
       "model_id": "5eceb4aa5dca4db88c9304e9c38b337c",
       "version_major": 2,
       "version_minor": 0
      },
      "text/plain": [
       "Inner Loop:   0%|          | 0/500 [00:00<?, ?it/s]"
      ]
     },
     "metadata": {},
     "output_type": "display_data"
    },
    {
     "name": "stdout",
     "output_type": "stream",
     "text": [
      "Style_A 88 88\n"
     ]
    },
    {
     "data": {
      "application/vnd.jupyter.widget-view+json": {
       "model_id": "e9bc64f300584625abfe364042fbaf40",
       "version_major": 2,
       "version_minor": 0
      },
      "text/plain": [
       "Inner Loop:   0%|          | 0/500 [00:00<?, ?it/s]"
      ]
     },
     "metadata": {},
     "output_type": "display_data"
    },
    {
     "name": "stdout",
     "output_type": "stream",
     "text": [
      "Style_A 89 89\n"
     ]
    },
    {
     "data": {
      "application/vnd.jupyter.widget-view+json": {
       "model_id": "4b04f526aca84890b00ce3bc184c25d4",
       "version_major": 2,
       "version_minor": 0
      },
      "text/plain": [
       "Inner Loop:   0%|          | 0/500 [00:00<?, ?it/s]"
      ]
     },
     "metadata": {},
     "output_type": "display_data"
    },
    {
     "name": "stdout",
     "output_type": "stream",
     "text": [
      "Style_A 93 93\n"
     ]
    },
    {
     "data": {
      "application/vnd.jupyter.widget-view+json": {
       "model_id": "d56492ae38ef4121940d286a8da4e13f",
       "version_major": 2,
       "version_minor": 0
      },
      "text/plain": [
       "Inner Loop:   0%|          | 0/500 [00:00<?, ?it/s]"
      ]
     },
     "metadata": {},
     "output_type": "display_data"
    },
    {
     "name": "stdout",
     "output_type": "stream",
     "text": [
      "Style_A 100 100\n"
     ]
    },
    {
     "data": {
      "application/vnd.jupyter.widget-view+json": {
       "model_id": "37468e5a0fb045f7ad8088433a21255e",
       "version_major": 2,
       "version_minor": 0
      },
      "text/plain": [
       "Inner Loop:   0%|          | 0/500 [00:00<?, ?it/s]"
      ]
     },
     "metadata": {},
     "output_type": "display_data"
    },
    {
     "name": "stdout",
     "output_type": "stream",
     "text": [
      "Style_A 103 103\n"
     ]
    },
    {
     "data": {
      "application/vnd.jupyter.widget-view+json": {
       "model_id": "9c876b6d4c9445c2986fe1c1bbd16c88",
       "version_major": 2,
       "version_minor": 0
      },
      "text/plain": [
       "Inner Loop:   0%|          | 0/500 [00:00<?, ?it/s]"
      ]
     },
     "metadata": {},
     "output_type": "display_data"
    },
    {
     "name": "stdout",
     "output_type": "stream",
     "text": [
      "Style_A 104 104\n"
     ]
    },
    {
     "data": {
      "application/vnd.jupyter.widget-view+json": {
       "model_id": "b4d413b2cd0c481d9b1c19a0a9b62c19",
       "version_major": 2,
       "version_minor": 0
      },
      "text/plain": [
       "Inner Loop:   0%|          | 0/500 [00:00<?, ?it/s]"
      ]
     },
     "metadata": {},
     "output_type": "display_data"
    },
    {
     "name": "stdout",
     "output_type": "stream",
     "text": [
      "Style_A 107 107\n"
     ]
    },
    {
     "data": {
      "application/vnd.jupyter.widget-view+json": {
       "model_id": "e0db8cc57e504632aa96b31ba4fca174",
       "version_major": 2,
       "version_minor": 0
      },
      "text/plain": [
       "Inner Loop:   0%|          | 0/500 [00:00<?, ?it/s]"
      ]
     },
     "metadata": {},
     "output_type": "display_data"
    },
    {
     "name": "stdout",
     "output_type": "stream",
     "text": [
      "Style_A 108 108\n"
     ]
    },
    {
     "data": {
      "application/vnd.jupyter.widget-view+json": {
       "model_id": "d3e8116f0ac7426d9a6058d7603afd31",
       "version_major": 2,
       "version_minor": 0
      },
      "text/plain": [
       "Inner Loop:   0%|          | 0/500 [00:00<?, ?it/s]"
      ]
     },
     "metadata": {},
     "output_type": "display_data"
    },
    {
     "name": "stdout",
     "output_type": "stream",
     "text": [
      "Style_A 114 114\n"
     ]
    },
    {
     "data": {
      "application/vnd.jupyter.widget-view+json": {
       "model_id": "cebc99e557084c31b5925676196edaeb",
       "version_major": 2,
       "version_minor": 0
      },
      "text/plain": [
       "Inner Loop:   0%|          | 0/500 [00:00<?, ?it/s]"
      ]
     },
     "metadata": {},
     "output_type": "display_data"
    },
    {
     "name": "stdout",
     "output_type": "stream",
     "text": [
      "Style_A 116 116\n"
     ]
    },
    {
     "data": {
      "application/vnd.jupyter.widget-view+json": {
       "model_id": "0c99287906dd4ca098bf267d5891c511",
       "version_major": 2,
       "version_minor": 0
      },
      "text/plain": [
       "Inner Loop:   0%|          | 0/500 [00:00<?, ?it/s]"
      ]
     },
     "metadata": {},
     "output_type": "display_data"
    },
    {
     "name": "stdout",
     "output_type": "stream",
     "text": [
      "Style_A 117 117\n"
     ]
    },
    {
     "data": {
      "application/vnd.jupyter.widget-view+json": {
       "model_id": "07c13cacde8e4642893fbdf865feffda",
       "version_major": 2,
       "version_minor": 0
      },
      "text/plain": [
       "Inner Loop:   0%|          | 0/500 [00:00<?, ?it/s]"
      ]
     },
     "metadata": {},
     "output_type": "display_data"
    },
    {
     "name": "stdout",
     "output_type": "stream",
     "text": [
      "Style_A 122 122\n"
     ]
    },
    {
     "data": {
      "application/vnd.jupyter.widget-view+json": {
       "model_id": "dbe9711305804795bddf78b9b4243666",
       "version_major": 2,
       "version_minor": 0
      },
      "text/plain": [
       "Inner Loop:   0%|          | 0/500 [00:00<?, ?it/s]"
      ]
     },
     "metadata": {},
     "output_type": "display_data"
    },
    {
     "name": "stdout",
     "output_type": "stream",
     "text": [
      "Style_A 124 124\n"
     ]
    },
    {
     "data": {
      "application/vnd.jupyter.widget-view+json": {
       "model_id": "9711020dba754a7c884986b15ae8ae0f",
       "version_major": 2,
       "version_minor": 0
      },
      "text/plain": [
       "Inner Loop:   0%|          | 0/500 [00:00<?, ?it/s]"
      ]
     },
     "metadata": {},
     "output_type": "display_data"
    },
    {
     "name": "stdout",
     "output_type": "stream",
     "text": [
      "Style_A 127 127\n"
     ]
    },
    {
     "data": {
      "application/vnd.jupyter.widget-view+json": {
       "model_id": "ca806cafa0184053ba62dea88d869697",
       "version_major": 2,
       "version_minor": 0
      },
      "text/plain": [
       "Inner Loop:   0%|          | 0/500 [00:00<?, ?it/s]"
      ]
     },
     "metadata": {},
     "output_type": "display_data"
    },
    {
     "name": "stdout",
     "output_type": "stream",
     "text": [
      "Style_A 129 129\n"
     ]
    },
    {
     "data": {
      "application/vnd.jupyter.widget-view+json": {
       "model_id": "35cdfcbdcd514a039b3edb33f3f91a3a",
       "version_major": 2,
       "version_minor": 0
      },
      "text/plain": [
       "Inner Loop:   0%|          | 0/500 [00:00<?, ?it/s]"
      ]
     },
     "metadata": {},
     "output_type": "display_data"
    },
    {
     "name": "stdout",
     "output_type": "stream",
     "text": [
      "Style_A 134 134\n"
     ]
    },
    {
     "data": {
      "application/vnd.jupyter.widget-view+json": {
       "model_id": "11917fa202244566bc7d7831cdb32249",
       "version_major": 2,
       "version_minor": 0
      },
      "text/plain": [
       "Inner Loop:   0%|          | 0/500 [00:00<?, ?it/s]"
      ]
     },
     "metadata": {},
     "output_type": "display_data"
    },
    {
     "name": "stdout",
     "output_type": "stream",
     "text": [
      "Style_B 2 2\n"
     ]
    },
    {
     "data": {
      "application/vnd.jupyter.widget-view+json": {
       "model_id": "d657092d4aff4ff0883baac4a5c908a0",
       "version_major": 2,
       "version_minor": 0
      },
      "text/plain": [
       "Inner Loop:   0%|          | 0/500 [00:00<?, ?it/s]"
      ]
     },
     "metadata": {},
     "output_type": "display_data"
    },
    {
     "name": "stdout",
     "output_type": "stream",
     "text": [
      "Style_B 3 3\n"
     ]
    },
    {
     "data": {
      "application/vnd.jupyter.widget-view+json": {
       "model_id": "e7957a8e730e4b96ba13f98dcfbfc5cb",
       "version_major": 2,
       "version_minor": 0
      },
      "text/plain": [
       "Inner Loop:   0%|          | 0/500 [00:00<?, ?it/s]"
      ]
     },
     "metadata": {},
     "output_type": "display_data"
    },
    {
     "name": "stdout",
     "output_type": "stream",
     "text": [
      "Style_B 15 15\n"
     ]
    },
    {
     "data": {
      "application/vnd.jupyter.widget-view+json": {
       "model_id": "958639aa5a694179b14ff45238e07d35",
       "version_major": 2,
       "version_minor": 0
      },
      "text/plain": [
       "Inner Loop:   0%|          | 0/500 [00:00<?, ?it/s]"
      ]
     },
     "metadata": {},
     "output_type": "display_data"
    },
    {
     "name": "stdout",
     "output_type": "stream",
     "text": [
      "Style_B 21 21\n"
     ]
    },
    {
     "data": {
      "application/vnd.jupyter.widget-view+json": {
       "model_id": "3eff435307aa4749b487c0a606c1831f",
       "version_major": 2,
       "version_minor": 0
      },
      "text/plain": [
       "Inner Loop:   0%|          | 0/500 [00:00<?, ?it/s]"
      ]
     },
     "metadata": {},
     "output_type": "display_data"
    },
    {
     "name": "stdout",
     "output_type": "stream",
     "text": [
      "Style_B 22 22\n"
     ]
    },
    {
     "data": {
      "application/vnd.jupyter.widget-view+json": {
       "model_id": "5f8a034932a9475498951fa025f4f19c",
       "version_major": 2,
       "version_minor": 0
      },
      "text/plain": [
       "Inner Loop:   0%|          | 0/500 [00:00<?, ?it/s]"
      ]
     },
     "metadata": {},
     "output_type": "display_data"
    },
    {
     "name": "stdout",
     "output_type": "stream",
     "text": [
      "Style_B 24 24\n"
     ]
    },
    {
     "data": {
      "application/vnd.jupyter.widget-view+json": {
       "model_id": "b8105297f8644d66b02494741548825d",
       "version_major": 2,
       "version_minor": 0
      },
      "text/plain": [
       "Inner Loop:   0%|          | 0/500 [00:00<?, ?it/s]"
      ]
     },
     "metadata": {},
     "output_type": "display_data"
    },
    {
     "name": "stdout",
     "output_type": "stream",
     "text": [
      "Style_B 30 30\n"
     ]
    },
    {
     "data": {
      "application/vnd.jupyter.widget-view+json": {
       "model_id": "7ef48e7b124647388d0e7c3f926213fc",
       "version_major": 2,
       "version_minor": 0
      },
      "text/plain": [
       "Inner Loop:   0%|          | 0/500 [00:00<?, ?it/s]"
      ]
     },
     "metadata": {},
     "output_type": "display_data"
    },
    {
     "name": "stdout",
     "output_type": "stream",
     "text": [
      "Style_B 33 33\n"
     ]
    },
    {
     "data": {
      "application/vnd.jupyter.widget-view+json": {
       "model_id": "9e2aaf39b55349c48a520aebdadd4937",
       "version_major": 2,
       "version_minor": 0
      },
      "text/plain": [
       "Inner Loop:   0%|          | 0/500 [00:00<?, ?it/s]"
      ]
     },
     "metadata": {},
     "output_type": "display_data"
    },
    {
     "name": "stdout",
     "output_type": "stream",
     "text": [
      "Style_B 38 38\n"
     ]
    },
    {
     "data": {
      "application/vnd.jupyter.widget-view+json": {
       "model_id": "cc8ac1c02eb54ea1a9b42e85b2bff7b9",
       "version_major": 2,
       "version_minor": 0
      },
      "text/plain": [
       "Inner Loop:   0%|          | 0/500 [00:00<?, ?it/s]"
      ]
     },
     "metadata": {},
     "output_type": "display_data"
    },
    {
     "name": "stdout",
     "output_type": "stream",
     "text": [
      "Style_B 53 53\n"
     ]
    },
    {
     "data": {
      "application/vnd.jupyter.widget-view+json": {
       "model_id": "1a5d462e656045598b8889c0aa7f6f4d",
       "version_major": 2,
       "version_minor": 0
      },
      "text/plain": [
       "Inner Loop:   0%|          | 0/500 [00:00<?, ?it/s]"
      ]
     },
     "metadata": {},
     "output_type": "display_data"
    },
    {
     "name": "stdout",
     "output_type": "stream",
     "text": [
      "Style_B 58 58\n"
     ]
    },
    {
     "data": {
      "application/vnd.jupyter.widget-view+json": {
       "model_id": "305b3cc73263411082d3f84fb780e68e",
       "version_major": 2,
       "version_minor": 0
      },
      "text/plain": [
       "Inner Loop:   0%|          | 0/500 [00:00<?, ?it/s]"
      ]
     },
     "metadata": {},
     "output_type": "display_data"
    },
    {
     "name": "stdout",
     "output_type": "stream",
     "text": [
      "Style_B 60 60\n"
     ]
    },
    {
     "data": {
      "application/vnd.jupyter.widget-view+json": {
       "model_id": "d04108be2f73456c9d4f406347f29c89",
       "version_major": 2,
       "version_minor": 0
      },
      "text/plain": [
       "Inner Loop:   0%|          | 0/500 [00:00<?, ?it/s]"
      ]
     },
     "metadata": {},
     "output_type": "display_data"
    },
    {
     "name": "stdout",
     "output_type": "stream",
     "text": [
      "Style_B 64 64\n"
     ]
    },
    {
     "data": {
      "application/vnd.jupyter.widget-view+json": {
       "model_id": "f82c84a1982c459c81241bec5b25b97b",
       "version_major": 2,
       "version_minor": 0
      },
      "text/plain": [
       "Inner Loop:   0%|          | 0/500 [00:00<?, ?it/s]"
      ]
     },
     "metadata": {},
     "output_type": "display_data"
    },
    {
     "name": "stdout",
     "output_type": "stream",
     "text": [
      "Style_B 72 72\n"
     ]
    },
    {
     "data": {
      "application/vnd.jupyter.widget-view+json": {
       "model_id": "bcb42f7ea2c941f487782b3a222913e5",
       "version_major": 2,
       "version_minor": 0
      },
      "text/plain": [
       "Inner Loop:   0%|          | 0/500 [00:00<?, ?it/s]"
      ]
     },
     "metadata": {},
     "output_type": "display_data"
    },
    {
     "name": "stdout",
     "output_type": "stream",
     "text": [
      "Style_B 75 75\n"
     ]
    },
    {
     "data": {
      "application/vnd.jupyter.widget-view+json": {
       "model_id": "1bf388f147f64017ad9f0a6c831b32f6",
       "version_major": 2,
       "version_minor": 0
      },
      "text/plain": [
       "Inner Loop:   0%|          | 0/500 [00:00<?, ?it/s]"
      ]
     },
     "metadata": {},
     "output_type": "display_data"
    },
    {
     "name": "stdout",
     "output_type": "stream",
     "text": [
      "Style_B 76 76\n"
     ]
    },
    {
     "data": {
      "application/vnd.jupyter.widget-view+json": {
       "model_id": "60dc55e6ac6845588b700b50b4d9fe52",
       "version_major": 2,
       "version_minor": 0
      },
      "text/plain": [
       "Inner Loop:   0%|          | 0/500 [00:00<?, ?it/s]"
      ]
     },
     "metadata": {},
     "output_type": "display_data"
    },
    {
     "name": "stdout",
     "output_type": "stream",
     "text": [
      "Style_B 83 83\n"
     ]
    },
    {
     "data": {
      "application/vnd.jupyter.widget-view+json": {
       "model_id": "2963c7ded90b4cb6983351968efd782f",
       "version_major": 2,
       "version_minor": 0
      },
      "text/plain": [
       "Inner Loop:   0%|          | 0/500 [00:00<?, ?it/s]"
      ]
     },
     "metadata": {},
     "output_type": "display_data"
    },
    {
     "name": "stdout",
     "output_type": "stream",
     "text": [
      "Style_B 87 87\n"
     ]
    },
    {
     "data": {
      "application/vnd.jupyter.widget-view+json": {
       "model_id": "c829c7db4905474a97cf62c6d379d697",
       "version_major": 2,
       "version_minor": 0
      },
      "text/plain": [
       "Inner Loop:   0%|          | 0/500 [00:00<?, ?it/s]"
      ]
     },
     "metadata": {},
     "output_type": "display_data"
    },
    {
     "name": "stdout",
     "output_type": "stream",
     "text": [
      "Style_B 88 88\n"
     ]
    },
    {
     "data": {
      "application/vnd.jupyter.widget-view+json": {
       "model_id": "bd1842a5102b4dd69dfaa1cdef50c149",
       "version_major": 2,
       "version_minor": 0
      },
      "text/plain": [
       "Inner Loop:   0%|          | 0/500 [00:00<?, ?it/s]"
      ]
     },
     "metadata": {},
     "output_type": "display_data"
    },
    {
     "name": "stdout",
     "output_type": "stream",
     "text": [
      "Style_B 89 89\n"
     ]
    },
    {
     "data": {
      "application/vnd.jupyter.widget-view+json": {
       "model_id": "d7e948fd618542058842f0036c8fd9f4",
       "version_major": 2,
       "version_minor": 0
      },
      "text/plain": [
       "Inner Loop:   0%|          | 0/500 [00:00<?, ?it/s]"
      ]
     },
     "metadata": {},
     "output_type": "display_data"
    },
    {
     "name": "stdout",
     "output_type": "stream",
     "text": [
      "Style_B 93 93\n"
     ]
    },
    {
     "data": {
      "application/vnd.jupyter.widget-view+json": {
       "model_id": "15f77404a6584460a2bb8604bf10ec85",
       "version_major": 2,
       "version_minor": 0
      },
      "text/plain": [
       "Inner Loop:   0%|          | 0/500 [00:00<?, ?it/s]"
      ]
     },
     "metadata": {},
     "output_type": "display_data"
    },
    {
     "name": "stdout",
     "output_type": "stream",
     "text": [
      "Style_B 100 100\n"
     ]
    },
    {
     "data": {
      "application/vnd.jupyter.widget-view+json": {
       "model_id": "c2915a3f018e4f39a1f2eae266192f55",
       "version_major": 2,
       "version_minor": 0
      },
      "text/plain": [
       "Inner Loop:   0%|          | 0/500 [00:00<?, ?it/s]"
      ]
     },
     "metadata": {},
     "output_type": "display_data"
    },
    {
     "name": "stdout",
     "output_type": "stream",
     "text": [
      "Style_B 103 103\n"
     ]
    },
    {
     "data": {
      "application/vnd.jupyter.widget-view+json": {
       "model_id": "a725336d89e648c38421d8510c1f043c",
       "version_major": 2,
       "version_minor": 0
      },
      "text/plain": [
       "Inner Loop:   0%|          | 0/500 [00:00<?, ?it/s]"
      ]
     },
     "metadata": {},
     "output_type": "display_data"
    },
    {
     "name": "stdout",
     "output_type": "stream",
     "text": [
      "Style_B 104 104\n"
     ]
    },
    {
     "data": {
      "application/vnd.jupyter.widget-view+json": {
       "model_id": "54a86195b4c14ec78837a1fcc92b5fa7",
       "version_major": 2,
       "version_minor": 0
      },
      "text/plain": [
       "Inner Loop:   0%|          | 0/500 [00:00<?, ?it/s]"
      ]
     },
     "metadata": {},
     "output_type": "display_data"
    },
    {
     "name": "stdout",
     "output_type": "stream",
     "text": [
      "Style_B 107 107\n"
     ]
    },
    {
     "data": {
      "application/vnd.jupyter.widget-view+json": {
       "model_id": "940edfdd1a7542d29f50ecc4168a6d4f",
       "version_major": 2,
       "version_minor": 0
      },
      "text/plain": [
       "Inner Loop:   0%|          | 0/500 [00:00<?, ?it/s]"
      ]
     },
     "metadata": {},
     "output_type": "display_data"
    },
    {
     "name": "stdout",
     "output_type": "stream",
     "text": [
      "Style_B 108 108\n"
     ]
    },
    {
     "data": {
      "application/vnd.jupyter.widget-view+json": {
       "model_id": "8004648c5e484049b437dc89ff8b19b1",
       "version_major": 2,
       "version_minor": 0
      },
      "text/plain": [
       "Inner Loop:   0%|          | 0/500 [00:00<?, ?it/s]"
      ]
     },
     "metadata": {},
     "output_type": "display_data"
    },
    {
     "name": "stdout",
     "output_type": "stream",
     "text": [
      "Style_B 114 114\n"
     ]
    },
    {
     "data": {
      "application/vnd.jupyter.widget-view+json": {
       "model_id": "7437c4ce8cc14427bbcddd21d465a3cc",
       "version_major": 2,
       "version_minor": 0
      },
      "text/plain": [
       "Inner Loop:   0%|          | 0/500 [00:00<?, ?it/s]"
      ]
     },
     "metadata": {},
     "output_type": "display_data"
    },
    {
     "name": "stdout",
     "output_type": "stream",
     "text": [
      "Style_B 116 116\n"
     ]
    },
    {
     "data": {
      "application/vnd.jupyter.widget-view+json": {
       "model_id": "5bb83292ae94440092a1b2329f246927",
       "version_major": 2,
       "version_minor": 0
      },
      "text/plain": [
       "Inner Loop:   0%|          | 0/500 [00:00<?, ?it/s]"
      ]
     },
     "metadata": {},
     "output_type": "display_data"
    },
    {
     "name": "stdout",
     "output_type": "stream",
     "text": [
      "Style_B 117 117\n"
     ]
    },
    {
     "data": {
      "application/vnd.jupyter.widget-view+json": {
       "model_id": "71b8854f2a45402e8696ad469e9d043e",
       "version_major": 2,
       "version_minor": 0
      },
      "text/plain": [
       "Inner Loop:   0%|          | 0/500 [00:00<?, ?it/s]"
      ]
     },
     "metadata": {},
     "output_type": "display_data"
    },
    {
     "name": "stdout",
     "output_type": "stream",
     "text": [
      "Style_B 122 122\n"
     ]
    },
    {
     "data": {
      "application/vnd.jupyter.widget-view+json": {
       "model_id": "fd7973ff5c6d4eea8ce9059431918d70",
       "version_major": 2,
       "version_minor": 0
      },
      "text/plain": [
       "Inner Loop:   0%|          | 0/500 [00:00<?, ?it/s]"
      ]
     },
     "metadata": {},
     "output_type": "display_data"
    },
    {
     "name": "stdout",
     "output_type": "stream",
     "text": [
      "Style_B 124 124\n"
     ]
    },
    {
     "data": {
      "application/vnd.jupyter.widget-view+json": {
       "model_id": "a4ff775b12a041a086b216f7e08d9509",
       "version_major": 2,
       "version_minor": 0
      },
      "text/plain": [
       "Inner Loop:   0%|          | 0/500 [00:00<?, ?it/s]"
      ]
     },
     "metadata": {},
     "output_type": "display_data"
    },
    {
     "name": "stdout",
     "output_type": "stream",
     "text": [
      "Style_B 127 127\n"
     ]
    },
    {
     "data": {
      "application/vnd.jupyter.widget-view+json": {
       "model_id": "8a1746844e54439b9acfa56cb690ae84",
       "version_major": 2,
       "version_minor": 0
      },
      "text/plain": [
       "Inner Loop:   0%|          | 0/500 [00:00<?, ?it/s]"
      ]
     },
     "metadata": {},
     "output_type": "display_data"
    },
    {
     "name": "stdout",
     "output_type": "stream",
     "text": [
      "Style_B 129 129\n"
     ]
    },
    {
     "data": {
      "application/vnd.jupyter.widget-view+json": {
       "model_id": "aefcabb8c2dc48589ce4bc2b8cadd90d",
       "version_major": 2,
       "version_minor": 0
      },
      "text/plain": [
       "Inner Loop:   0%|          | 0/500 [00:00<?, ?it/s]"
      ]
     },
     "metadata": {},
     "output_type": "display_data"
    },
    {
     "name": "stdout",
     "output_type": "stream",
     "text": [
      "Style_B 134 134\n"
     ]
    },
    {
     "data": {
      "application/vnd.jupyter.widget-view+json": {
       "model_id": "dc79e808ed824320a0e301cd138e71d2",
       "version_major": 2,
       "version_minor": 0
      },
      "text/plain": [
       "Inner Loop:   0%|          | 0/500 [00:00<?, ?it/s]"
      ]
     },
     "metadata": {},
     "output_type": "display_data"
    }
   ],
   "source": [
    "counter = 0\n",
    "for _, row in tqdm(df_paths.iterrows(), desc=\"Outer Loop\", total=len(df_paths)):\n",
    "    x_path = row[\"x\"]\n",
    "    y_path = row[\"y\"]\n",
    "    families = row[\"families\"]\n",
    "    x = np.load(x_path)\n",
    "    y = np.load(y_path)\n",
    "    assert len(x) == len(y)\n",
    "\n",
    "    if families in [\"CurveFault_A\", \"CurveFault_B\", \"FlatFault_A\", \"FlatFault_B\"]:\n",
    "        suffix_seis = x_path.stem[4:]\n",
    "        suffix_vel = y_path.stem[3:]\n",
    "    else:\n",
    "        suffix_seis = x_path.stem[4:]\n",
    "        suffix_vel = y_path.stem[5:]\n",
    "\n",
    "    print(families, suffix_seis, suffix_vel)\n",
    "    if not suffix_seis == suffix_vel:\n",
    "        continue\n",
    "\n",
    "    save_dir = output_dir.joinpath(families)\n",
    "    if not save_dir.is_dir():\n",
    "        save_dir.mkdir(exist_ok=True, parents=True)\n",
    "    for i in tqdm(range(len(x)), desc=\"Inner Loop\", leave=False):\n",
    "        np.savez_compressed(save_dir.joinpath(f\"{x_path.stem}_{y_path.stem}_{i}.npz\"), x=x[i], y=y[i])\n",
    "\n",
    "    # counter += 1\n",
    "    # if counter == 2:\n",
    "    #     break"
   ]
  },
  {
   "cell_type": "code",
   "execution_count": 8,
   "id": "e748f2a0",
   "metadata": {},
   "outputs": [
    {
     "name": "stdout",
     "output_type": "stream",
     "text": [
      "Filesystem      Size  Used Avail Use% Mounted on\n",
      "none             30G     0   30G   0% /usr/lib/modules/5.15.167.4-microsoft-standard-WSL2\n",
      "none             30G  4.0K   30G   1% /mnt/wsl\n",
      "drivers         930G  793G  137G  86% /usr/lib/wsl/drivers\n",
      "/dev/sdb        672G  642G  5.6M 100% /\n",
      "none             30G   88K   30G   1% /mnt/wslg\n",
      "none             30G     0   30G   0% /usr/lib/wsl/lib\n",
      "rootfs           30G  2.4M   30G   1% /init\n",
      "none             30G     0   30G   0% /run\n",
      "none             30G     0   30G   0% /run/lock\n",
      "none             30G  4.0K   30G   1% /run/shm\n",
      "none             30G     0   30G   0% /run/user\n",
      "none             30G   76K   30G   1% /mnt/wslg/versions.txt\n",
      "none             30G   76K   30G   1% /mnt/wslg/doc\n",
      "C:\\             930G  793G  137G  86% /mnt/c\n",
      "D:\\             932G  180M  932G   1% /mnt/d\n"
     ]
    }
   ],
   "source": [
    "!df -h"
   ]
  },
  {
   "cell_type": "code",
   "execution_count": 12,
   "id": "e77fd92c",
   "metadata": {},
   "outputs": [
    {
     "name": "stdout",
     "output_type": "stream",
     "text": [
      "CurveFault_A 54000\n",
      "CurveFault_B 54000\n",
      "CurveVel_A 30000\n",
      "CurveVel_B 30000\n",
      "FlatFault_A 54000\n",
      "FlatFault_B 54000\n",
      "FlatVel_A 30000\n",
      "FlatVel_B 30000\n",
      "Style_A 67000\n",
      "Style_B 67000\n"
     ]
    }
   ],
   "source": [
    "families = {\n",
    "    \"CurveFault_A\": [],\n",
    "    \"CurveFault_B\": [],\n",
    "    \"CurveVel_A\": [\"data\", \"model\"],\n",
    "    \"CurveVel_B\": [\"data\", \"model\"],\n",
    "    \"FlatFault_A\": [],\n",
    "    \"FlatFault_B\": [],\n",
    "    \"FlatVel_A\": [\"data\", \"model\"],\n",
    "    \"FlatVel_B\": [\"data\", \"model\"],\n",
    "    \"Style_A\": [\"data\", \"model\"],\n",
    "    \"Style_B\": [\"data\", \"model\"], \n",
    "}\n",
    "\n",
    "for k in families.keys():\n",
    "    p = output_dir.joinpath(k)\n",
    "    print(k, len([pp for pp in p.glob(\"*\")]))"
   ]
  },
  {
   "cell_type": "code",
   "execution_count": 11,
   "id": "364a56f3",
   "metadata": {},
   "outputs": [
    {
     "name": "stdout",
     "output_type": "stream",
     "text": [
      "Filesystem      Size  Used Avail Use% Mounted on\n",
      "none             30G     0   30G   0% /usr/lib/modules/5.15.167.4-microsoft-standard-WSL2\n",
      "none             30G  4.0K   30G   1% /mnt/wsl\n",
      "drivers         930G  794G  137G  86% /usr/lib/wsl/drivers\n",
      "/dev/sdb        672G  597G   46G  93% /\n",
      "none             30G   88K   30G   1% /mnt/wslg\n",
      "none             30G     0   30G   0% /usr/lib/wsl/lib\n",
      "rootfs           30G  2.4M   30G   1% /init\n",
      "none             30G     0   30G   0% /run\n",
      "none             30G     0   30G   0% /run/lock\n",
      "none             30G  4.0K   30G   1% /run/shm\n",
      "none             30G     0   30G   0% /run/user\n",
      "none             30G   76K   30G   1% /mnt/wslg/versions.txt\n",
      "none             30G   76K   30G   1% /mnt/wslg/doc\n",
      "C:\\             930G  794G  137G  86% /mnt/c\n",
      "D:\\             932G  180M  932G   1% /mnt/d\n"
     ]
    }
   ],
   "source": [
    "!df -h"
   ]
  },
  {
   "cell_type": "code",
   "execution_count": null,
   "id": "f0299007",
   "metadata": {},
   "outputs": [],
   "source": []
  }
 ],
 "metadata": {
  "kernelspec": {
   "display_name": ".venv",
   "language": "python",
   "name": "python3"
  },
  "language_info": {
   "codemirror_mode": {
    "name": "ipython",
    "version": 3
   },
   "file_extension": ".py",
   "mimetype": "text/x-python",
   "name": "python",
   "nbconvert_exporter": "python",
   "pygments_lexer": "ipython3",
   "version": "3.11.11"
  }
 },
 "nbformat": 4,
 "nbformat_minor": 5
}
